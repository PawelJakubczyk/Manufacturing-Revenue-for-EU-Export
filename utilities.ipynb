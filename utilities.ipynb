{
  "nbformat": 4,
  "nbformat_minor": 0,
  "metadata": {
    "colab": {
      "provenance": [],
      "authorship_tag": "ABX9TyN3d07o7mMfQOKbfjMajM/5",
      "include_colab_link": true
    },
    "kernelspec": {
      "name": "python3",
      "display_name": "Python 3"
    },
    "language_info": {
      "name": "python"
    }
  },
  "cells": [
    {
      "cell_type": "markdown",
      "metadata": {
        "id": "view-in-github",
        "colab_type": "text"
      },
      "source": [
        "<a href=\"https://colab.research.google.com/github/PawelJakubczyk/Manufacturing-Revenue-for-EU-Export/blob/main/utilities.ipynb\" target=\"_parent\"><img src=\"https://colab.research.google.com/assets/colab-badge.svg\" alt=\"Open In Colab\"/></a>"
      ]
    },
    {
      "cell_type": "markdown",
      "source": [
        "# Instal library"
      ],
      "metadata": {
        "id": "00SVoQI92C-e"
      }
    },
    {
      "cell_type": "code",
      "execution_count": 1,
      "metadata": {
        "colab": {
          "base_uri": "https://localhost:8080/"
        },
        "id": "oCS7Pyza12Bc",
        "outputId": "79d589d2-0913-4586-fbd6-fc9b29a30957"
      },
      "outputs": [
        {
          "output_type": "stream",
          "name": "stdout",
          "text": [
            "Collecting pyspark\n",
            "  Downloading pyspark-3.5.0.tar.gz (316.9 MB)\n",
            "\u001b[2K     \u001b[90m━━━━━━━━━━━━━━━━━━━━━━━━━━━━━━━━━━━━━━━━\u001b[0m \u001b[32m316.9/316.9 MB\u001b[0m \u001b[31m2.9 MB/s\u001b[0m eta \u001b[36m0:00:00\u001b[0m\n",
            "\u001b[?25h  Preparing metadata (setup.py) ... \u001b[?25l\u001b[?25hdone\n",
            "Requirement already satisfied: py4j==0.10.9.7 in /usr/local/lib/python3.10/dist-packages (from pyspark) (0.10.9.7)\n",
            "Building wheels for collected packages: pyspark\n",
            "  Building wheel for pyspark (setup.py) ... \u001b[?25l\u001b[?25hdone\n",
            "  Created wheel for pyspark: filename=pyspark-3.5.0-py2.py3-none-any.whl size=317425345 sha256=9bc98106fe7cfb97493dd2c6eaf1159794c5c2d06c9a4a6d854a9743a4362ff5\n",
            "  Stored in directory: /root/.cache/pip/wheels/41/4e/10/c2cf2467f71c678cfc8a6b9ac9241e5e44a01940da8fbb17fc\n",
            "Successfully built pyspark\n",
            "Installing collected packages: pyspark\n",
            "Successfully installed pyspark-3.5.0\n"
          ]
        }
      ],
      "source": [
        "%pip install pyspark"
      ]
    },
    {
      "cell_type": "markdown",
      "source": [
        "# Import library & star session"
      ],
      "metadata": {
        "id": "Pl01iwOU2IJX"
      }
    },
    {
      "cell_type": "code",
      "source": [
        "from pyspark.sql import SparkSession\n",
        "from pyspark.sql.types import StructType, StructField, StringType, DateType, IntegerType, FloatType\n",
        "from datetime import datetime"
      ],
      "metadata": {
        "id": "l9yzAbod2FpP"
      },
      "execution_count": 2,
      "outputs": []
    },
    {
      "cell_type": "markdown",
      "source": [
        "# Define Schemas"
      ],
      "metadata": {
        "id": "4g3D6VNh2XwV"
      }
    },
    {
      "cell_type": "code",
      "source": [
        "product_schema = StructType([\n",
        "    StructField(\"Product_ID\", StringType(), nullable=True),\n",
        "    StructField(\"Subsector\", StringType(), nullable=True),\n",
        "    StructField(\"Category\", StringType(), nullable=True),\n",
        "    StructField(\"Brand\", StringType(), nullable=True),\n",
        "    StructField(\"Material_ID\", IntegerType(), nullable=True),\n",
        "    StructField(\"Description\", StringType(), nullable=True),\n",
        "    StructField(\"Supplier_ID\", IntegerType(), nullable=True)\n",
        "])\n",
        "\n",
        "suplier_schema = StructType([\n",
        "    StructField(\"Supplier_ID\", IntegerType(), True),\n",
        "    StructField(\"Supplier_Name\", StringType(), True),\n",
        "    StructField(\"Country_of_Distribution\", StringType(), True),\n",
        "])\n",
        "\n",
        "transaction_schema = StructType([\n",
        "    StructField(\"Supplier_ID\", IntegerType(), nullable=False),\n",
        "    StructField(\"Countries_of_Sale\", StringType(), nullable=False),\n",
        "    StructField(\"Transaction_ID\", StringType(), nullable=False),\n",
        "    StructField(\"Sales_Initiation_Date\", DateType(), True),\n",
        "    StructField(\"Sales_End_Date\", DateType(), True),\n",
        "    StructField(\"Product_ID\", StringType(), True),\n",
        "])\n",
        "\n",
        "\n",
        "financial_schema = StructType([\n",
        "    StructField(\"Transaction_ID\", StringType(), nullable=False),\n",
        "    StructField(\"Profit_YTD\", FloatType(), nullable=False),\n",
        "    StructField(\"Profit_Last_2_Years\", FloatType(), nullable=False),\n",
        "    StructField(\"Profit_Last_Year\", FloatType(), nullable=False),\n",
        "    StructField(\"Profit_Last_Month\", FloatType(), nullable=False),\n",
        "    StructField(\"Profit_Last_Week\", FloatType(), nullable=False),\n",
        "    StructField(\"Market_Value\", FloatType(), nullable=False)\n",
        "])\n",
        "\n",
        "eu_countries_schema = StructType([\n",
        "    StructField(\"Country\", StringType(), True),\n",
        "    StructField(\"Country_Code\", StringType(), True)\n",
        "])"
      ],
      "metadata": {
        "id": "VflkE1e52Sbx"
      },
      "execution_count": 3,
      "outputs": []
    },
    {
      "cell_type": "markdown",
      "source": [
        "# Define Path"
      ],
      "metadata": {
        "id": "NezRHDgM2v-h"
      }
    },
    {
      "cell_type": "code",
      "source": [],
      "metadata": {
        "id": "v4QHaKhX2zVQ"
      },
      "execution_count": null,
      "outputs": []
    }
  ]
}