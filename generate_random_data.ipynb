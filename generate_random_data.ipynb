{
  "cells": [
    {
      "cell_type": "markdown",
      "metadata": {
        "id": "view-in-github",
        "colab_type": "text"
      },
      "source": [
        "<a href=\"https://colab.research.google.com/github/PawelJakubczyk/Manufacturing-Revenue-for-EU-Export/blob/main/generate_random_data.ipynb\" target=\"_parent\"><img src=\"https://colab.research.google.com/assets/colab-badge.svg\" alt=\"Open In Colab\"/></a>"
      ]
    },
    {
      "cell_type": "markdown",
      "metadata": {
        "id": "vQZv_Dkk9X_Z"
      },
      "source": [
        "# Instal library"
      ]
    },
    {
      "cell_type": "code",
      "execution_count": 83,
      "metadata": {
        "colab": {
          "base_uri": "https://localhost:8080/"
        },
        "id": "6Rx7DyFK7VIv",
        "outputId": "c42195d2-218e-4f2f-fdd4-d024393bd62e"
      },
      "outputs": [
        {
          "output_type": "stream",
          "name": "stdout",
          "text": [
            "Requirement already satisfied: faker in /usr/local/lib/python3.10/dist-packages (22.6.0)\n",
            "Requirement already satisfied: python-dateutil>=2.4 in /usr/local/lib/python3.10/dist-packages (from faker) (2.8.2)\n",
            "Requirement already satisfied: six>=1.5 in /usr/local/lib/python3.10/dist-packages (from python-dateutil>=2.4->faker) (1.16.0)\n",
            "Requirement already satisfied: pyspark in /usr/local/lib/python3.10/dist-packages (3.5.0)\n",
            "Requirement already satisfied: py4j==0.10.9.7 in /usr/local/lib/python3.10/dist-packages (from pyspark) (0.10.9.7)\n"
          ]
        }
      ],
      "source": [
        "%pip install faker\n",
        "%pip install pyspark"
      ]
    },
    {
      "cell_type": "markdown",
      "metadata": {
        "id": "3tqUz-CK9c0s"
      },
      "source": [
        "# Import library & star session"
      ]
    },
    {
      "cell_type": "code",
      "execution_count": 84,
      "metadata": {
        "id": "Jj6v8qT19eqb"
      },
      "outputs": [],
      "source": [
        "from pyspark.sql import SparkSession\n",
        "from pyspark.sql.types import StructType, StructField, StringType, DateType, IntegerType, FloatType\n",
        "from datetime import datetime\n",
        "from faker import Faker\n",
        "from faker.providers import BaseProvider\n",
        "from random import choice, uniform, randint, seed\n",
        "\n",
        "# Create a Spark session\n",
        "spark = SparkSession.builder.master(\"local[*]\").getOrCreate()\n",
        "\n",
        "# Initialize Faker for generating fake data\n",
        "fake = Faker()"
      ]
    },
    {
      "cell_type": "markdown",
      "metadata": {
        "id": "oqF3okSmgzUa"
      },
      "source": [
        "# Define class and functions"
      ]
    },
    {
      "cell_type": "markdown",
      "metadata": {
        "id": "21RS7KF5siax"
      },
      "source": [
        "### Define provider and Utilities functions"
      ]
    },
    {
      "cell_type": "markdown",
      "metadata": {
        "id": "jJ-wL_qeyBdh"
      },
      "source": [
        "<style>\n",
        "  .tables {\n",
        "    display: flex;\n",
        "    justify-content: space-between;\n",
        "  }\n",
        "</style>\n",
        "\n",
        "<div class=\"tables\">\n",
        "\n",
        "| Function           | Description                                                                |\n",
        "|--------------------|----------------------------------------------------------------------------|\n",
        "| `seed()`           | Initialize the random number generator                                    |\n",
        "| `getstate()`       | Returns the current internal state of the random number generator          |\n",
        "| `setstate()`       | Restores the internal state of the random number generator                 |\n",
        "| `getrandbits()`    | Returns a number representing the random bits                               |\n",
        "| `randrange()`      | Returns a random number between the given range with an optional step argument |\n",
        "| `randint()`        | Returns a random number between the given range                              |\n",
        "| `choice()`         | Returns a random element from the given sequence                            |\n",
        "| `choices()`        | Returns a list with a random selection from the given sequence              |\n",
        "| `shuffle()`        | Takes a sequence and returns the sequence in a random order                  |\n",
        "| `sample()`         | Returns a given sample of a sequence                                         |\n",
        "| `random()`         | Returns a random float number between 0 and 1                                |\n",
        "| `uniform()`        | Returns a random float number between two given parameters                   |\n",
        "| `triangular()`     | Returns a random float number between two given parameters with an optional mode parameter |\n",
        "| `betavariate()`    | Returns a random float number between 0 and 1 based on the Beta distribution (used in statistics) |\n",
        "| `expovariate()`    | Returns a random float number based on the Exponential distribution (used in statistics) |\n",
        "| `gammavariate()`   | Returns a random float number based on the Gamma distribution (used in statistics) |\n",
        "| `gauss()`          | Returns a random float number based on the Gaussian distribution (used in probability theories) |\n",
        "| `lognormvariate()` | Returns a random float number based on a log-normal distribution (used in probability theories) |\n",
        "| `normalvariate()`  | Returns a random float number based on the normal distribution (used in probability theories) |\n",
        "| `vonmisesvariate()`| Returns a random float number based on the von Mises distribution (used in directional statistics) |\n",
        "| `paretovariate()`  | Returns a random float number based on the Pareto distribution (used in probability theories) |\n",
        "| `weibullvariate()` | Returns a random float number based on the Weibull distribution (used in statistics) |\n",
        "\n",
        "</div>\n",
        "<div class=\"tables\">\n",
        "\n",
        "| Faker Method                | Description                                       |\n",
        "|-----------------------------|---------------------------------------------------|\n",
        "| `fake.name()`               | Generate a random full name.                      |\n",
        "| `fake.address()`            | Generate a random address.                         |\n",
        "| `fake.email()`              | Generate a random email address.                  |\n",
        "| `fake.phone_number()`       | Generate a random phone number.                   |\n",
        "| `fake.date_of_birth()`      | Generate a random date of birth.                  |\n",
        "| `fake.company()`            | Generate a random company name.                   |\n",
        "| `fake.job()`                | Generate a random job title.                      |\n",
        "| `fake.text()`               | Generate random text.                             |\n",
        "| `fake.sentence()`           | Generate a random sentence.                       |\n",
        "| `fake.word()`               | Generate a random word.                           |\n",
        "| `fake.color_name()`         | Generate a random color name.                     |\n",
        "| `fake.credit_card_number()` | Generate a random credit card number.             |\n",
        "| `fake.url()`                | Generate a random URL.                            |\n",
        "| `fake.domain_name()`        | Generate a random domain name.                    |\n",
        "| `fake.ipv4()`               | Generate a random IPv4 address.                  |\n",
        "| `fake.country()`            | Generate a random country name.                   |\n",
        "| `fake.city()`               | Generate a random city name.                      |\n",
        "| `fake.state()`              | Generate a random state name.                     |\n",
        "| `fake.zipcode()`            | Generate a random ZIP code.                       |\n",
        "| `fake.currency_code()`      | Generate a random currency code.                  |\n",
        "| `fake.file_name()`          | Generate a random file name.                      |\n",
        "| `fake.image_url()`          | Generate a random image URL.                      |\n",
        "| `fake.random_element()`     | Generate a random element from a list.           |\n",
        "| `fake.random_number()`      | Generate a random number.                         |\n",
        "| `fake.boolean()`            | Generate a random boolean value.                  |\n",
        "| `fake.paragraph()`          | Generate a random paragraph.                      |\n",
        "| `fake.word_list()`          | Generate a list of random words.                 |\n",
        "| `fake.unique.random_number()`| Generate a unique random number.                 |\n",
        "| `fake.unique.random_element()`| Generate a unique random element from a list.   |\n",
        "\n",
        "</div>"
      ]
    },
    {
      "cell_type": "code",
      "execution_count": 85,
      "metadata": {
        "id": "p_upkcpwOYBL"
      },
      "outputs": [],
      "source": [
        "class CustomProvider(BaseProvider):\n",
        "\n",
        "    def subsector(self):\n",
        "        subsectors = [\"Bakery Supplies\", \"Candy & Chocolate\", \"Dessert Mixes\", \"Ice Cream Ingredients\",\n",
        "                      \"Packaged Sweets\", \"Pastry Ingredients\", \"Sweeteners\", \"Toppings & Decorations\"]\n",
        "        return self.random_element(subsectors)\n",
        "\n",
        "    def category(self):\n",
        "        categories = [\"Cake\", \"Cookie\", \"Chocolate\", \"Pastry\", \"Candy\", \"Dessert\", \"Sweet\", \"Fudge\", \"Treat\", \"Confectionery\",\n",
        "                      \"Bakery\", \"Pie\", \"Ice Cream\", \"Caramel\", \"Marshmallow\", \"Gumdrop\", \"Lollipop\", \"Truffle\", \"Pudding\",\n",
        "                      \"Macaron\", \"Cupcake\", \"Brownie\", \"Tart\", \"Donut\", \"Frosting\", \"Creme\", \"Jelly\", \"Syrup\", \"Fruitcake\"]\n",
        "        return self.random_element(categories)\n",
        "\n",
        "    def brand(self):\n",
        "        brands = [\"Zypher\", \"Exquinox\", \"Vintura\", \"Quentro\", \"Travala\", \"Nexxon\", \"Delisio\", \"Zemora\", \"Aurora\", \"Novata\"]\n",
        "        return self.random_element(brands)\n",
        "\n",
        "fake.add_provider(CustomProvider)"
      ]
    },
    {
      "cell_type": "markdown",
      "metadata": {
        "id": "8cMXkdRDu3Fi"
      },
      "source": [
        "### Define random dataframe generate functions"
      ]
    },
    {
      "cell_type": "code",
      "execution_count": 86,
      "metadata": {
        "id": "EJ89tKDMu2sW"
      },
      "outputs": [],
      "source": [
        "def generate_random_df(random_info_generator: callable, custom_schema:StructType, num_records:int = 200, seed_num:int = None):\n",
        "    # Set the random seed for reproducibility\n",
        "    if seed_num is None: seed_num = randint(1, 999)\n",
        "    seed(seed_num)\n",
        "    Faker.seed(seed_num)\n",
        "\n",
        "    # Generate the list of dictionaries\n",
        "    data = [random_info_generator() for _ in range(num_records)]\n",
        "    # Create an RDD from the list of dictionaries\n",
        "    rdd = spark.sparkContext.parallelize(data)\n",
        "    # Convert the RDD to a DataFrame\n",
        "    return rdd.toDF(custom_schema)\n",
        "\n",
        "def generate_random_df_large_data(random_info_generator: callable, custom_schema: StructType, num_records: int = 400_000, checkpoint: int = 100_000, first_loop: bool = True, seed_num:int = None):\n",
        "    # Set the random seed for reproducibility\n",
        "    if seed_num is None: seed_num = randint(1, 999)\n",
        "    seed_num += 1\n",
        "    seed(seed_num)\n",
        "    Faker.seed(seed_num)\n",
        "\n",
        "    # Generate a list of dictionaries using the provided random_info_generator function\n",
        "    data = [random_info_generator() for _ in range(min(num_records, checkpoint))]\n",
        "\n",
        "    # Convert the list of dictionaries to an RDD\n",
        "    rdd = spark.sparkContext.parallelize(data)\n",
        "\n",
        "    # Convert the RDD to a DataFrame using the provided custom_schema\n",
        "    df = rdd.toDF(custom_schema)\n",
        "\n",
        "    # Checkpoint the DataFrame every `checkpoint` records\n",
        "    # This helps to manage memory usage and avoid out-of-memory errors\n",
        "    # when dealing with large datasets\n",
        "    if num_records > checkpoint:\n",
        "        num_records -= checkpoint\n",
        "        generate_random_df(random_info_generator, custom_schema, num_records, checkpoint, False)\n",
        "\n",
        "    # Write the DataFrame to a delta table\n",
        "    # If this is the first loop, overwrite the existing table\n",
        "    # Otherwise, append the new records to the existing table\n",
        "    match first_loop:\n",
        "        case True: df.write.format(\"delta\").mode(\"overwrite\").save(r\"/content/delta_table\")\n",
        "        case False: df.write.format(\"delta\").mode(\"append\").save(r\"/content/delta_table\")\n",
        "\n",
        "    # Delete the DataFrame from memory to free up resources\n",
        "    del df\n",
        "\n",
        "    # Read the delta table back into a DataFrame\n",
        "    df_final = spark.read.format(\"delta\").load(r\"/content/delta_table\")\n",
        "\n",
        "    # Return the final DataFrame\n",
        "    return df_final"
      ]
    },
    {
      "cell_type": "markdown",
      "metadata": {
        "id": "AfKYM_PVhb-e"
      },
      "source": [
        "### Define functions for data generation"
      ]
    },
    {
      "cell_type": "code",
      "execution_count": 87,
      "metadata": {
        "id": "2cRUVCnVhtAk"
      },
      "outputs": [],
      "source": [
        "def create_random_product_info() -> dict:\n",
        "    \"\"\"\n",
        "    Function to create a dictionary containing random product information.\n",
        "    \"\"\"\n",
        "    return {\n",
        "        \"Product_ID\": str(randint(1000, 9999)),\n",
        "        \"Subsector\": fake.subsector(),\n",
        "        \"Category\": fake.category(),\n",
        "        \"Brand\": fake.brand(),\n",
        "        \"Material_ID\": randint(10000, 99999),\n",
        "        \"Description\": fake.text(max_nb_chars=100),\n",
        "        \"Weight\": float(round(fake.random_number(digits=2, fix_len=False), 2)),\n",
        "        \"Shelf_Life\": randint(30, 365),\n",
        "        \"Supplier_ID\": randint(1, 35),\n",
        "    }\n",
        "\n",
        "def generate_random_transaction_info() -> dict:\n",
        "    \"\"\"\n",
        "    Function to generate a dictionary containing random transaction information.\n",
        "    \"\"\"\n",
        "    start_date = datetime.strptime(\"2012-01-01\", '%Y-%m-%d')\n",
        "    end_date = datetime.strptime(\"2030-12-31\", '%Y-%m-%d')\n",
        "    validity_date_from = fake.date_time_between(start_date=start_date, end_date=end_date)\n",
        "    validity_date_to = fake.date_time_between(start_date=validity_date_from, end_date=end_date)\n",
        "    sales_end_date = validity_date_to if randint(1, 100) <= 80 else None\n",
        "\n",
        "    return {\n",
        "        \"Supplier_ID\": randint(1, 35),\n",
        "        \"Countries_of_Sale\": fake.country(),\n",
        "        \"Transaction_ID\": choice(uuid_list),\n",
        "        \"Sales_Initiation_Date\": validity_date_from,\n",
        "        \"Sales_End_Date\": sales_end_date,\n",
        "        \"Product_ID\": str(randint(1000, 9999)),\n",
        "    }\n",
        "\n",
        "def generate_financial_data_info() -> dict:\n",
        "    \"\"\"\n",
        "    Function to generate financial data information.\n",
        "    \"\"\"\n",
        "    profit_ytd = round(uniform(10000, 1000000), 2)\n",
        "    profit_last_2_years = round(profit_ytd + uniform(0, 500000), 2)\n",
        "    profit_last_year = round(uniform(profit_last_2_years, profit_ytd), 2)\n",
        "    profit_last_month = round(uniform(profit_last_year * 0.8, profit_last_year), 2)\n",
        "    profit_last_week = round(uniform(profit_last_month * 0.8, profit_last_month), 2)\n",
        "    market_value = round(uniform(profit_last_week * 1.2, profit_last_week * 2), 2)\n",
        "\n",
        "    return {\n",
        "        \"Transaction_ID\": choice(uuid_list),\n",
        "        \"Profit_YTD\": profit_ytd,\n",
        "        \"Profit_Last_2_Years\": profit_last_2_years,\n",
        "        \"Profit_Last_Year\": profit_last_year,\n",
        "        \"Profit_Last_Month\": profit_last_month,\n",
        "        \"Profit_Last_Week\": profit_last_week,\n",
        "        \"Market_Value\": market_value\n",
        "    }"
      ]
    },
    {
      "cell_type": "markdown",
      "metadata": {
        "id": "UmonxVqzgraT"
      },
      "source": [
        "# Define variable for data generation"
      ]
    },
    {
      "cell_type": "code",
      "execution_count": 88,
      "metadata": {
        "id": "iWZNMDvVgq66"
      },
      "outputs": [],
      "source": [
        "uuid_list = [fake.uuid4() for _ in range(350_000)]"
      ]
    },
    {
      "cell_type": "markdown",
      "metadata": {
        "id": "8vKIm8gVh0s-"
      },
      "source": [
        "# Define schema for data generation"
      ]
    },
    {
      "cell_type": "markdown",
      "metadata": {
        "id": "w2ZsXe_b0a7D"
      },
      "source": [
        "Data type for schema\n",
        "\n",
        "| Data type               | Value type in Python         | API to access or create a data type       |\n",
        "|-------------------------|------------------------------|------------------------------------------|\n",
        "| ByteType                | int or long                   | `ByteType()`                             |\n",
        "| ShortType               | int or long                   | `ShortType()`                            |\n",
        "| IntegerType             | int or long                   | `IntegerType()`                          |\n",
        "| LongType                | long                         | `LongType()`                             |\n",
        "| FloatType               | float                        | `FloatType()`                            |\n",
        "| DoubleType              | float                        | `DoubleType()`                           |\n",
        "| DecimalType             | decimal.Decimal               | `DecimalType()`                          |\n",
        "| StringType              | string                       | `StringType()`                           |\n",
        "| BinaryType              | bytearray                    | `BinaryType()`                           |\n",
        "| BooleanType             | bool                         | `BooleanType()`                          |\n",
        "| TimestampType           | datetime.datetime             | `TimestampType()`                        |\n",
        "| TimestampNTZType        | datetime.datetime             | `TimestampNTZType()`                     |\n",
        "| DateType                | datetime.date                 | `DateType()`                             |\n",
        "| DayTimeIntervalType     | datetime.timedelta            | `DayTimeIntervalType()`                  |\n",
        "| ArrayType               | list, tuple, or array         | `ArrayType(elementType, [containsNull])` |\n",
        "| MapType                 | dict                         | `MapType(keyType, valueType, [valueContainsNull])` |\n",
        "| StructType              | list or tuple                 | `StructType(fields)`                     |\n",
        "| StructField             | The value type in Python of the data type of this field (e.g., Int for a StructField with the data type IntegerType) | `StructField(name, dataType, [nullable])` |\n",
        "| UserDefinedType (UDT)   | User-defined                 | -                                        |\n",
        "| ObjectType              | Python object                 | -                                        |\n",
        "| VectorUDT               | Vector                        | -                                        |\n",
        "| ImageType               | Image                         | -                                        |\n",
        "| NoneType                | None                         | -                                        |\n"
      ]
    },
    {
      "cell_type": "code",
      "execution_count": 89,
      "metadata": {
        "id": "Z15Qonn0hbQf"
      },
      "outputs": [],
      "source": [
        "product_schema = StructType([\n",
        "    StructField(\"Product_ID\", StringType(), nullable=True),\n",
        "    StructField(\"Subsector\", StringType(), nullable=True),\n",
        "    StructField(\"Category\", StringType(), nullable=True),\n",
        "    StructField(\"Brand\", StringType(), nullable=True),\n",
        "    StructField(\"Material_ID\", IntegerType(), nullable=True),\n",
        "    StructField(\"Description\", StringType(), nullable=True),\n",
        "    StructField(\"Weight\", FloatType(), nullable=True),\n",
        "    StructField(\"Shelf_Life\", IntegerType(), nullable=True),\n",
        "    StructField(\"Supplier_ID\", IntegerType(), nullable=True)\n",
        "])\n",
        "\n",
        "product_suplier_schema = StructType([\n",
        "    StructField(\"Supplier_ID\", IntegerType(), True),\n",
        "    StructField(\"Supplier_Name\", StringType(), True),\n",
        "    StructField(\"Country_of_Distribution\", StringType(), True),\n",
        "])\n",
        "\n",
        "transaction_schema = StructType([\n",
        "    StructField(\"Supplier_ID\", IntegerType(), nullable=False),\n",
        "    StructField(\"Countries_of_Sale\", StringType(), nullable=False),\n",
        "    StructField(\"Transaction_ID\", StringType(), nullable=False),\n",
        "    StructField(\"Sales_Initiation_Date\", DateType(), True),\n",
        "    StructField(\"Sales_End_Date\", DateType(), True),\n",
        "    StructField(\"Product_ID\", StringType(), True),\n",
        "])\n",
        "\n",
        "\n",
        "financial_schema = StructType([\n",
        "    StructField(\"Transaction_ID\", StringType(), nullable=False),\n",
        "    StructField(\"Profit_YTD\", FloatType(), nullable=False),\n",
        "    StructField(\"Profit_Last_2_Years\", FloatType(), nullable=False),\n",
        "    StructField(\"Profit_Last_Year\", FloatType(), nullable=False),\n",
        "    StructField(\"Profit_Last_Month\", FloatType(), nullable=False),\n",
        "    StructField(\"Profit_Last_Week\", FloatType(), nullable=False),\n",
        "    StructField(\"Market_Value\", FloatType(), nullable=False)\n",
        "])\n",
        "\n",
        "eu_countries_schema = StructType([\n",
        "    StructField(\"Country\", StringType(), True),\n",
        "    StructField(\"Country_Code\", StringType(), True)\n",
        "])"
      ]
    },
    {
      "cell_type": "markdown",
      "metadata": {
        "id": "EutBbpRmhvI_"
      },
      "source": [
        "# Generate random data"
      ]
    },
    {
      "cell_type": "markdown",
      "metadata": {
        "id": "BLoVH962kTdh"
      },
      "source": [
        "### Generate randome product"
      ]
    },
    {
      "cell_type": "code",
      "execution_count": 90,
      "metadata": {
        "colab": {
          "base_uri": "https://localhost:8080/"
        },
        "id": "ktjreEo1QSaB",
        "outputId": "a94b5ff2-5f48-4765-d03c-41f2c74758e0"
      },
      "outputs": [
        {
          "output_type": "stream",
          "name": "stdout",
          "text": [
            "count:  8988\n",
            "+----------+--------------------+-----------+--------+-----------+--------------------+------+----------+-----------+\n",
            "|Product_ID|           Subsector|   Category|   Brand|Material_ID|         Description|Weight|Shelf_Life|Supplier_ID|\n",
            "+----------+--------------------+-----------+--------+-----------+--------------------+------+----------+-----------+\n",
            "|      1000|  Pastry Ingredients|      Jelly| Travala|      14244|Reach rather as s...|  27.0|       299|          3|\n",
            "|      1004|     Bakery Supplies|      Candy|  Novata|      24520|Camera sport west...|  67.0|       183|         15|\n",
            "|      1006|          Sweeteners|Marshmallow|  Novata|      52465|Memory number flo...|  43.0|       208|         19|\n",
            "|      1007|     Packaged Sweets|  Fruitcake|  Aurora|      42465|Evidence appear t...|   8.0|       334|          1|\n",
            "|      1008|       Dessert Mixes|      Syrup|  Zemora|      41650|Consider behavior...|  66.0|       206|         31|\n",
            "|      1010|  Pastry Ingredients|     Pastry|  Nexxon|      28228|Sea beautiful mil...|  21.0|        82|         11|\n",
            "|      1012|  Pastry Ingredients|    Macaron|  Nexxon|      17937|Else energy secur...|  17.0|       169|         20|\n",
            "|      1013|       Dessert Mixes|      Candy|Exquinox|      22833|What check charac...|  35.0|       250|         34|\n",
            "|      1016|       Dessert Mixes|    Gumdrop|  Novata|      87847|Boy sport accept ...|  55.0|        70|          8|\n",
            "|      1017|       Dessert Mixes|   Frosting|  Zypher|      12245|Ball affect camer...|  69.0|       119|         19|\n",
            "|      1021|          Sweeteners|    Pudding| Vintura|      18617|I imagine assume ...|  63.0|       185|         23|\n",
            "|      1022|       Dessert Mixes|      Donut|  Aurora|      37755|Sense purpose way...|  78.0|        55|         31|\n",
            "|      1023|Toppings & Decora...|       Tart|Exquinox|      44700|Message cup inclu...|  57.0|       262|         22|\n",
            "|      1027|     Bakery Supplies|    Caramel| Quentro|      14334|Action six break ...|  44.0|        31|         11|\n",
            "|      1030|     Bakery Supplies|Marshmallow| Vintura|      79962|Wind cold west st...|   7.0|       208|          1|\n",
            "|      1032|   Candy & Chocolate|        Pie| Vintura|      35059|Employee eight fi...|  84.0|       343|         23|\n",
            "|      1038|          Sweeteners|      Donut|  Zypher|      21282|Bad first return ...|  33.0|       128|         10|\n",
            "|      1039|   Candy & Chocolate|      Candy|  Zypher|      57749|Leader enough pro...|  75.0|        64|          8|\n",
            "|      1040|Ice Cream Ingredi...|      Fudge|  Nexxon|      14193|Other arm staff i...|  51.0|       327|         13|\n",
            "|      1041|       Dessert Mixes|      Fudge|Exquinox|      14152|  Serve fall debate.|  91.0|       161|         26|\n",
            "+----------+--------------------+-----------+--------+-----------+--------------------+------+----------+-----------+\n",
            "only showing top 20 rows\n",
            "\n"
          ]
        }
      ],
      "source": [
        "df_product = generate_random_df(create_random_product_info, product_schema, 100_000)\n",
        "df_product = df_product.drop_duplicates(['Material_ID'])\n",
        "df_product = df_product.drop_duplicates(['Product_ID'])\n",
        "df_product.coalesce(1).write.mode('overwrite').option(\"header\", \"true\").csv(\"/content/product.csv\")\n",
        "print('count: ', df_product.count())\n",
        "df_product.show()\n",
        "del df_product"
      ]
    },
    {
      "cell_type": "markdown",
      "metadata": {
        "id": "XsLol5eokM9s"
      },
      "source": [
        "### Generate randome suplier mapping"
      ]
    },
    {
      "cell_type": "code",
      "source": [
        "suplier_data = [\n",
        "    (1, 'Taylor and Sons', fake.country_code()),\n",
        "    (2, 'Fischer, Harper and Collins', fake.country_code()),\n",
        "    (3, 'Burns, Brewer and Valdez', fake.country_code()),\n",
        "    (4, 'Li-Harris', fake.country_code()),\n",
        "    (5, 'Thompson-Medina', fake.country_code()),\n",
        "    (6, 'Brock Ltd', fake.country_code()),\n",
        "    (7, 'Rocha-Harris', fake.country_code()),\n",
        "    (8, 'Andrade, Boone and Alvarez', fake.country_code()),\n",
        "    (9, 'Hurst Ltd', fake.country_code()),\n",
        "    (10, 'Owens-Morrison', fake.country_code()),\n",
        "    (11, 'Jones, Bradley and Davis', fake.country_code()),\n",
        "    (12, 'Nichols, Mejia and Smith', fake.country_code()),\n",
        "    (13, 'Miller, Jones and Moyer', fake.country_code()),\n",
        "    (14, 'Good and Sons', fake.country_code()),\n",
        "    (15, 'Rodgers-Johnston', fake.country_code()),\n",
        "    (16, 'Potts, Allen and Jones', fake.country_code()),\n",
        "    (17, 'Franklin, Weber and Parrish', fake.country_code()),\n",
        "    (18, 'Carter, Martinez and Sullivan', fake.country_code()),\n",
        "    (19, 'Ryan and Sons', fake.country_code()),\n",
        "    (20, 'Paul, King and Nichols', fake.country_code()),\n",
        "    (21, 'Marshall-Patterson', fake.country_code()),\n",
        "    (22, 'Carr-Griffith', fake.country_code()),\n",
        "    (23, 'Russell, Newman and Long', fake.country_code()),\n",
        "    (24, 'Reed-Long', fake.country_code()),\n",
        "    (25, 'Walters, Mcguire and Hampton', fake.country_code()),\n",
        "    (26, 'Martinez and Sons', fake.country_code()),\n",
        "    (27, 'Whitehead-Berg', fake.country_code()),\n",
        "    (28, 'Ross, Hopkins and Thomas', fake.country_code()),\n",
        "    (29, 'Garza-Scott', fake.country_code()),\n",
        "    (30, 'Williams-Turner', fake.country_code()),\n",
        "    (31, 'Taylor-Anderson', fake.country_code()),\n",
        "    (32, 'Rivera-Edwards', fake.country_code()),\n",
        "    (33, 'Johns Group', fake.country_code()),\n",
        "    (34, 'Guzman, Page and Gregory', fake.country_code()),\n",
        "    (35, 'Gordon Inc', fake.country_code())\n",
        "]\n",
        "\n",
        "df_suplier = spark.createDataFrame(suplier_data, schema=product_suplier_schema)\n",
        "df_suplier.coalesce(1).write.mode('overwrite').option(\"header\", \"true\").csv(\"/content/suplier_mapping.csv\")\n",
        "print('count: ', df_suplier.count())\n",
        "df_suplier.show()\n",
        "del df_suplier"
      ],
      "metadata": {
        "colab": {
          "base_uri": "https://localhost:8080/"
        },
        "id": "F6vKE4nVhPz0",
        "outputId": "0c32fd7a-d5dd-4509-b7f9-e4d87a23dbb6"
      },
      "execution_count": 91,
      "outputs": [
        {
          "output_type": "stream",
          "name": "stdout",
          "text": [
            "count:  35\n",
            "+-----------+--------------------+-----------------------+\n",
            "|Supplier_ID|       Supplier_Name|Country_of_Distribution|\n",
            "+-----------+--------------------+-----------------------+\n",
            "|          1|     Taylor and Sons|                     FI|\n",
            "|          2|Fischer, Harper a...|                     BY|\n",
            "|          3|Burns, Brewer and...|                     VC|\n",
            "|          4|           Li-Harris|                     ML|\n",
            "|          5|     Thompson-Medina|                     DM|\n",
            "|          6|           Brock Ltd|                     AL|\n",
            "|          7|        Rocha-Harris|                     CH|\n",
            "|          8|Andrade, Boone an...|                     NP|\n",
            "|          9|           Hurst Ltd|                     TW|\n",
            "|         10|      Owens-Morrison|                     VE|\n",
            "|         11|Jones, Bradley an...|                     TW|\n",
            "|         12|Nichols, Mejia an...|                     CA|\n",
            "|         13|Miller, Jones and...|                     AM|\n",
            "|         14|       Good and Sons|                     PG|\n",
            "|         15|    Rodgers-Johnston|                     MC|\n",
            "|         16|Potts, Allen and ...|                     GH|\n",
            "|         17|Franklin, Weber a...|                     NA|\n",
            "|         18|Carter, Martinez ...|                     PW|\n",
            "|         19|       Ryan and Sons|                     TN|\n",
            "|         20|Paul, King and Ni...|                     CI|\n",
            "+-----------+--------------------+-----------------------+\n",
            "only showing top 20 rows\n",
            "\n"
          ]
        }
      ]
    },
    {
      "cell_type": "markdown",
      "metadata": {
        "id": "JRkn1Fyp_ln_"
      },
      "source": [
        "### Generate randome transactions"
      ]
    },
    {
      "cell_type": "code",
      "execution_count": 92,
      "metadata": {
        "id": "ai9Q1QqilJUE",
        "colab": {
          "base_uri": "https://localhost:8080/"
        },
        "outputId": "b991c9ba-6c2f-481e-ab9f-1d95e09c77e7"
      },
      "outputs": [
        {
          "output_type": "stream",
          "name": "stdout",
          "text": [
            "count:  201704\n",
            "+-----------+-----------------+--------------------+---------------------+--------------+\n",
            "|Supplier_ID|Countries_of_Sale|      Transaction_ID|Sales_Initiation_Date|Sales_End_Date|\n",
            "+-----------+-----------------+--------------------+---------------------+--------------+\n",
            "|          5|               VE|00004d05-42b3-49f...|           2022-02-09|    2023-08-26|\n",
            "|         28|               UY|0000e0cd-f597-40a...|           2020-03-30|    2028-12-31|\n",
            "|         14|               AF|0001281a-5a4d-4cc...|           2029-03-14|    2030-11-05|\n",
            "|         31|               BT|0001aa8d-9a78-445...|           2018-02-26|    2018-07-03|\n",
            "|         26|               TV|0004a01e-cc94-4e1...|           2026-10-01|    2030-07-31|\n",
            "|         34|               BT|00065213-e773-4ea...|           2018-09-29|    2028-11-08|\n",
            "|         19|               CM|0006bed1-7af8-45b...|           2023-04-07|    2023-09-22|\n",
            "|          3|               LU|0007118e-3abd-47e...|           2023-05-06|    2029-04-02|\n",
            "|         14|               BB|00074bad-563a-401...|           2023-03-06|          NULL|\n",
            "|         33|               SN|00079a33-9fd7-496...|           2018-10-21|    2022-05-28|\n",
            "|         12|               VA|0007a21d-e458-424...|           2027-02-08|    2027-12-02|\n",
            "|         32|               LR|0007aa7c-7bc2-41b...|           2012-11-09|          NULL|\n",
            "|         23|               OM|0007ef9b-5f4e-4e0...|           2013-08-07|          NULL|\n",
            "|          3|               CM|0008f3c7-c4bd-477...|           2019-10-26|    2030-02-24|\n",
            "|         20|               MV|0008f5cf-c4e9-4f2...|           2030-09-05|    2030-09-14|\n",
            "|         23|               LU|00097ac9-1aac-43a...|           2029-03-27|    2030-04-11|\n",
            "|          9|               SL|00098776-d904-4ac...|           2023-10-03|    2030-06-11|\n",
            "|          2|               GY|0009eb06-fb99-41d...|           2020-11-26|          NULL|\n",
            "|         11|               MU|000a050f-281f-441...|           2030-05-26|          NULL|\n",
            "|         26|               LV|000a1310-074d-471...|           2026-03-01|    2026-03-26|\n",
            "+-----------+-----------------+--------------------+---------------------+--------------+\n",
            "only showing top 20 rows\n",
            "\n"
          ]
        }
      ],
      "source": [
        "df_transactions = generate_random_df(generate_random_transaction_info, transaction_schema, 300_000)\n",
        "df_transactions = df_transactions.dropDuplicates(['Transaction_ID'])\n",
        "df_transactions.coalesce(1).write.mode('overwrite').option(\"header\", \"true\").csv(\"/content/transactions.csv\")\n",
        "print('count: ', df_transactions.count())\n",
        "df_transactions.show()\n",
        "del df_transactions"
      ]
    },
    {
      "cell_type": "markdown",
      "metadata": {
        "id": "AmovHxVECCdT"
      },
      "source": [
        "### Generate randome financial data"
      ]
    },
    {
      "cell_type": "code",
      "execution_count": 93,
      "metadata": {
        "colab": {
          "base_uri": "https://localhost:8080/"
        },
        "id": "mkcRDjuVeGve",
        "outputId": "77a85ac0-2a33-47ca-e37c-a2412c9e3809"
      },
      "outputs": [
        {
          "output_type": "stream",
          "name": "stdout",
          "text": [
            "count:  20\n",
            "+--------------------+----------+-------------------+----------------+-----------------+----------------+------------+\n",
            "|      Transaction_ID|Profit_YTD|Profit_Last_2_Years|Profit_Last_Year|Profit_Last_Month|Profit_Last_Week|Market_Value|\n",
            "+--------------------+----------+-------------------+----------------+-----------------+----------------+------------+\n",
            "|5b84352d-5316-472...| 580519.94|          1004797.5|        767775.9|        709340.25|       643310.75|    849750.8|\n",
            "|fa5db971-54da-4c7...|  734715.6|         1037863.56|        964428.4|        910584.25|       886059.75|   1301700.8|\n",
            "|4023aad1-1bad-4ca...| 486186.84|           542983.5|       539368.94|        535969.44|       521720.53|   663149.06|\n",
            "|ef6efd35-a97a-40f...|  881560.1|          1151718.4|       1098540.8|         957931.0|        898372.3|   1704073.4|\n",
            "|180735ca-7dac-44b...| 197520.86|           297378.7|       230221.62|        205279.95|       190982.55|   349755.94|\n",
            "|ab206e87-7655-405...|  261601.8|          738630.06|        669071.2|         558993.9|        531131.1|    997633.6|\n",
            "|7bcf8052-615d-474...|  380598.9|           619701.4|        596426.2|        567832.75|        563722.6|    974626.3|\n",
            "|0020fbbe-2df2-447...|  429696.2|           851092.4|       640671.44|         622338.4|       574881.56|   804567.75|\n",
            "|e0b40d8f-5c67-4d5...|  704130.6|          1031863.6|        718076.2|         626082.7|       520109.06|   656750.75|\n",
            "|7ce7af1f-a332-451...|  800662.0|          1175574.6|       1139259.9|        917904.25|       816586.25|   1543131.9|\n",
            "|a8b1e26b-3ad0-4d4...| 900837.75|          1074533.1|       919757.06|        781206.25|       673026.25|   1226364.2|\n",
            "|73053d52-1b2f-425...|  585888.5|         1021779.44|       786198.06|         763473.4|       692472.06|   1256736.8|\n",
            "|47c4c335-8d9d-497...| 802413.94|           883609.7|       806192.75|         787553.7|        717780.8|   1240431.6|\n",
            "|63af43a2-edc9-403...|  46362.71|          252461.08|       245165.66|        226095.31|       206292.73|   288424.47|\n",
            "|ae8db778-ca38-425...|  13102.02|           67871.89|        40466.19|         36398.16|        33953.01|    51009.51|\n",
            "|766d9568-f75a-488...| 406231.16|          654102.75|        565647.9|         553820.5|       474402.72|    693650.9|\n",
            "|ee21e46e-65d7-463...|  698317.3|          999642.44|       702773.06|        670459.44|        560854.6|    815969.3|\n",
            "|84d0204e-7e31-4ec...|  96277.93|          344297.72|       246039.16|        232694.19|       204341.86|   295928.53|\n",
            "|1100c9e1-f4de-46e...|  628552.3|           747259.8|        738823.3|        685004.06|        663289.6|   1244665.8|\n",
            "|1cb4a188-3b76-464...| 898071.56|          1298662.6|       1161412.9|        1039308.9|        865489.9|   1126916.4|\n",
            "+--------------------+----------+-------------------+----------------+-----------------+----------------+------------+\n",
            "\n"
          ]
        }
      ],
      "source": [
        "df_financial = generate_random_df(generate_financial_data_info, financial_schema, 300_000)\n",
        "df_financial = df_financial.dropDuplicates(['Transaction_ID'])\n",
        "df_financial.coalesce(1).write.mode('overwrite').option(\"header\", \"true\").csv(\"/content/financial.csv\")\n",
        "print('count: ', df_financial.count())\n",
        "df_financial.show()\n",
        "del df_financial"
      ]
    },
    {
      "cell_type": "markdown",
      "source": [
        "### Generate Eu Country mapping"
      ],
      "metadata": {
        "id": "YUPfdexnt70Y"
      }
    },
    {
      "cell_type": "code",
      "source": [
        "eu_country_data = [\n",
        "    (\"Austria\", \"AT\"),\n",
        "    (\"Belgium\", \"BE\"),\n",
        "    (\"Bulgaria\", \"BG\"),\n",
        "    (\"Croatia\", \"HR\"),\n",
        "    (\"Cyprus\", \"CY\"),\n",
        "    (\"Czech Republic\", \"CZ\"),\n",
        "    (\"Denmark\", \"DK\"),\n",
        "    (\"Estonia\", \"EE\"),\n",
        "    (\"Finland\", \"FI\"),\n",
        "    (\"France\", \"FR\"),\n",
        "    (\"Greece\", \"GR\"),\n",
        "    (\"Spain\", \"ES\"),\n",
        "    (\"Netherlands\", \"NL\"),\n",
        "    (\"Ireland\", \"IE\"),\n",
        "    (\"Lithuania\", \"LT\"),\n",
        "    (\"Luxembourg\", \"LU\"),\n",
        "    (\"Latvia\", \"LV\"),\n",
        "    (\"Malta\", \"MT\"),\n",
        "    (\"Germany\", \"DE\"),\n",
        "    (\"Poland\", \"PL\"),\n",
        "    (\"Portugal\", \"PT\"),\n",
        "    (\"Romania\", \"RO\"),\n",
        "    (\"Slovakia\", \"SK\"),\n",
        "    (\"Slovenia\", \"SI\"),\n",
        "    (\"Sweden\", \"SE\"),\n",
        "    (\"Hungary\", \"HU\"),\n",
        "    (\"Italy\", \"IT\")\n",
        "]\n",
        "\n",
        "df_eu_country_mapping = spark.createDataFrame(eu_country_data, eu_countries_schema)\n",
        "df_eu_country_mapping.coalesce(1).write.mode('overwrite').option(\"header\", \"true\").csv(\"/content/eu_mapping.csv\")\n",
        "print('count: ', df_eu_country_mapping.count())\n",
        "df_eu_country_mapping.show()\n",
        "del df_eu_country_mapping"
      ],
      "metadata": {
        "id": "7WF9p9EcttFi"
      },
      "execution_count": null,
      "outputs": []
    }
  ],
  "metadata": {
    "colab": {
      "collapsed_sections": [
        "vQZv_Dkk9X_Z",
        "3tqUz-CK9c0s",
        "21RS7KF5siax",
        "8cMXkdRDu3Fi"
      ],
      "provenance": [],
      "authorship_tag": "ABX9TyNPtR40ZS8L892y9oDvnIYL",
      "include_colab_link": true
    },
    "kernelspec": {
      "display_name": "Python 3",
      "name": "python3"
    },
    "language_info": {
      "name": "python"
    }
  },
  "nbformat": 4,
  "nbformat_minor": 0
}