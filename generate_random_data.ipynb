{
  "cells": [
    {
      "cell_type": "markdown",
      "metadata": {
        "id": "view-in-github",
        "colab_type": "text"
      },
      "source": [
        "<a href=\"https://colab.research.google.com/github/PawelJakubczyk/Manufacturing-Revenue-for-EU-Export/blob/main/generate_random_data.ipynb\" target=\"_parent\"><img src=\"https://colab.research.google.com/assets/colab-badge.svg\" alt=\"Open In Colab\"/></a>"
      ]
    },
    {
      "cell_type": "markdown",
      "metadata": {
        "id": "vQZv_Dkk9X_Z"
      },
      "source": [
        "# Instal library"
      ]
    },
    {
      "cell_type": "code",
      "execution_count": 106,
      "metadata": {
        "colab": {
          "base_uri": "https://localhost:8080/"
        },
        "id": "6Rx7DyFK7VIv",
        "outputId": "9b7a737b-7a17-4a44-fd0d-e9329734ef3f"
      },
      "outputs": [
        {
          "output_type": "stream",
          "name": "stdout",
          "text": [
            "Requirement already satisfied: faker in /usr/local/lib/python3.10/dist-packages (22.6.0)\n",
            "Requirement already satisfied: python-dateutil>=2.4 in /usr/local/lib/python3.10/dist-packages (from faker) (2.8.2)\n",
            "Requirement already satisfied: six>=1.5 in /usr/local/lib/python3.10/dist-packages (from python-dateutil>=2.4->faker) (1.16.0)\n",
            "Requirement already satisfied: pyspark in /usr/local/lib/python3.10/dist-packages (3.5.0)\n",
            "Requirement already satisfied: py4j==0.10.9.7 in /usr/local/lib/python3.10/dist-packages (from pyspark) (0.10.9.7)\n"
          ]
        }
      ],
      "source": [
        "%pip install faker\n",
        "%pip install pyspark"
      ]
    },
    {
      "cell_type": "markdown",
      "metadata": {
        "id": "3tqUz-CK9c0s"
      },
      "source": [
        "# Import library & star session"
      ]
    },
    {
      "cell_type": "code",
      "execution_count": 107,
      "metadata": {
        "id": "Jj6v8qT19eqb"
      },
      "outputs": [],
      "source": [
        "from pyspark.sql import SparkSession\n",
        "from pyspark.sql.types import StructType, StructField, StringType, DateType, IntegerType, FloatType\n",
        "from datetime import datetime\n",
        "from faker import Faker\n",
        "from faker.providers import BaseProvider\n",
        "from random import choice, uniform, randint, seed\n",
        "\n",
        "# Create a Spark session\n",
        "spark = SparkSession.builder.master(\"local[*]\").getOrCreate()\n",
        "\n",
        "# Initialize Faker for generating fake data\n",
        "fake = Faker()"
      ]
    },
    {
      "cell_type": "markdown",
      "metadata": {
        "id": "oqF3okSmgzUa"
      },
      "source": [
        "# Define class and functions"
      ]
    },
    {
      "cell_type": "markdown",
      "metadata": {
        "id": "21RS7KF5siax"
      },
      "source": [
        "### Define provider and Utilities functions"
      ]
    },
    {
      "cell_type": "markdown",
      "metadata": {
        "id": "jJ-wL_qeyBdh"
      },
      "source": [
        "<style>\n",
        "  .tables {\n",
        "    display: flex;\n",
        "    justify-content: space-between;\n",
        "  }\n",
        "</style>\n",
        "\n",
        "<div class=\"tables\">\n",
        "\n",
        "| Function           | Description                                                                |\n",
        "|--------------------|----------------------------------------------------------------------------|\n",
        "| `seed()`           | Initialize the random number generator                                    |\n",
        "| `getstate()`       | Returns the current internal state of the random number generator          |\n",
        "| `setstate()`       | Restores the internal state of the random number generator                 |\n",
        "| `getrandbits()`    | Returns a number representing the random bits                               |\n",
        "| `randrange()`      | Returns a random number between the given range with an optional step argument |\n",
        "| `randint()`        | Returns a random number between the given range                              |\n",
        "| `choice()`         | Returns a random element from the given sequence                            |\n",
        "| `choices()`        | Returns a list with a random selection from the given sequence              |\n",
        "| `shuffle()`        | Takes a sequence and returns the sequence in a random order                  |\n",
        "| `sample()`         | Returns a given sample of a sequence                                         |\n",
        "| `random()`         | Returns a random float number between 0 and 1                                |\n",
        "| `uniform()`        | Returns a random float number between two given parameters                   |\n",
        "| `triangular()`     | Returns a random float number between two given parameters with an optional mode parameter |\n",
        "| `betavariate()`    | Returns a random float number between 0 and 1 based on the Beta distribution (used in statistics) |\n",
        "| `expovariate()`    | Returns a random float number based on the Exponential distribution (used in statistics) |\n",
        "| `gammavariate()`   | Returns a random float number based on the Gamma distribution (used in statistics) |\n",
        "| `gauss()`          | Returns a random float number based on the Gaussian distribution (used in probability theories) |\n",
        "| `lognormvariate()` | Returns a random float number based on a log-normal distribution (used in probability theories) |\n",
        "| `normalvariate()`  | Returns a random float number based on the normal distribution (used in probability theories) |\n",
        "| `vonmisesvariate()`| Returns a random float number based on the von Mises distribution (used in directional statistics) |\n",
        "| `paretovariate()`  | Returns a random float number based on the Pareto distribution (used in probability theories) |\n",
        "| `weibullvariate()` | Returns a random float number based on the Weibull distribution (used in statistics) |\n",
        "\n",
        "</div>\n",
        "<div class=\"tables\">\n",
        "\n",
        "| Faker Method                | Description                                       |\n",
        "|-----------------------------|---------------------------------------------------|\n",
        "| `fake.name()`               | Generate a random full name.                      |\n",
        "| `fake.address()`            | Generate a random address.                         |\n",
        "| `fake.email()`              | Generate a random email address.                  |\n",
        "| `fake.phone_number()`       | Generate a random phone number.                   |\n",
        "| `fake.date_of_birth()`      | Generate a random date of birth.                  |\n",
        "| `fake.company()`            | Generate a random company name.                   |\n",
        "| `fake.job()`                | Generate a random job title.                      |\n",
        "| `fake.text()`               | Generate random text.                             |\n",
        "| `fake.sentence()`           | Generate a random sentence.                       |\n",
        "| `fake.word()`               | Generate a random word.                           |\n",
        "| `fake.color_name()`         | Generate a random color name.                     |\n",
        "| `fake.credit_card_number()` | Generate a random credit card number.             |\n",
        "| `fake.url()`                | Generate a random URL.                            |\n",
        "| `fake.domain_name()`        | Generate a random domain name.                    |\n",
        "| `fake.ipv4()`               | Generate a random IPv4 address.                  |\n",
        "| `fake.country()`            | Generate a random country name.                   |\n",
        "| `fake.city()`               | Generate a random city name.                      |\n",
        "| `fake.state()`              | Generate a random state name.                     |\n",
        "| `fake.zipcode()`            | Generate a random ZIP code.                       |\n",
        "| `fake.currency_code()`      | Generate a random currency code.                  |\n",
        "| `fake.file_name()`          | Generate a random file name.                      |\n",
        "| `fake.image_url()`          | Generate a random image URL.                      |\n",
        "| `fake.random_element()`     | Generate a random element from a list.           |\n",
        "| `fake.random_number()`      | Generate a random number.                         |\n",
        "| `fake.boolean()`            | Generate a random boolean value.                  |\n",
        "| `fake.paragraph()`          | Generate a random paragraph.                      |\n",
        "| `fake.word_list()`          | Generate a list of random words.                 |\n",
        "| `fake.unique.random_number()`| Generate a unique random number.                 |\n",
        "| `fake.unique.random_element()`| Generate a unique random element from a list.   |\n",
        "\n",
        "</div>"
      ]
    },
    {
      "cell_type": "code",
      "execution_count": 108,
      "metadata": {
        "id": "p_upkcpwOYBL"
      },
      "outputs": [],
      "source": [
        "class CustomProvider(BaseProvider):\n",
        "\n",
        "    def subsector(self):\n",
        "        subsectors = [\"Bakery Supplies\", \"Candy & Chocolate\", \"Dessert Mixes\", \"Ice Cream Ingredients\",\n",
        "                      \"Packaged Sweets\", \"Pastry Ingredients\", \"Sweeteners\", \"Toppings & Decorations\"]\n",
        "        return self.random_element(subsectors)\n",
        "\n",
        "    def category(self):\n",
        "        categories = [\"Cake\", \"Cookie\", \"Chocolate\", \"Pastry\", \"Candy\", \"Dessert\", \"Sweet\", \"Fudge\", \"Treat\", \"Confectionery\",\n",
        "                      \"Bakery\", \"Pie\", \"Ice Cream\", \"Caramel\", \"Marshmallow\", \"Gumdrop\", \"Lollipop\", \"Truffle\", \"Pudding\",\n",
        "                      \"Macaron\", \"Cupcake\", \"Brownie\", \"Tart\", \"Donut\", \"Frosting\", \"Creme\", \"Jelly\", \"Syrup\", \"Fruitcake\"]\n",
        "        return self.random_element(categories)\n",
        "\n",
        "    def brand(self):\n",
        "        brands = [\"Zypher\", \"Exquinox\", \"Vintura\", \"Quentro\", \"Travala\", \"Nexxon\", \"Delisio\", \"Zemora\", \"Aurora\", \"Novata\"]\n",
        "        return self.random_element(brands)\n",
        "\n",
        "fake.add_provider(CustomProvider)"
      ]
    },
    {
      "cell_type": "markdown",
      "metadata": {
        "id": "8cMXkdRDu3Fi"
      },
      "source": [
        "### Define random dataframe generate functions"
      ]
    },
    {
      "cell_type": "code",
      "execution_count": 109,
      "metadata": {
        "id": "EJ89tKDMu2sW"
      },
      "outputs": [],
      "source": [
        "def generate_random_df(random_info_generator: callable, custom_schema:StructType, num_records:int = 200, seed_num:int = None):\n",
        "    # Set the random seed for reproducibility\n",
        "    if seed_num is None: seed_num = randint(1, 999)\n",
        "    seed(seed_num)\n",
        "    Faker.seed(seed_num)\n",
        "\n",
        "    # Generate the list of dictionaries\n",
        "    data = [random_info_generator() for _ in range(num_records)]\n",
        "    # Create an RDD from the list of dictionaries\n",
        "    rdd = spark.sparkContext.parallelize(data)\n",
        "    # Convert the RDD to a DataFrame\n",
        "    return rdd.toDF(custom_schema)\n",
        "\n",
        "def generate_random_df_large_data(random_info_generator: callable, custom_schema: StructType, num_records: int = 400_000, checkpoint: int = 400_000, first_loop: bool = True, seed_num:int = None):\n",
        "    # Set the random seed for reproducibility\n",
        "    if seed_num is None: seed_num = randint(1, 999)\n",
        "    seed_num += 1\n",
        "    seed(seed_num)\n",
        "    Faker.seed(seed_num)\n",
        "\n",
        "    # Generate a list of dictionaries using the provided random_info_generator function\n",
        "    data = [random_info_generator() for _ in range(min(num_records, checkpoint))]\n",
        "\n",
        "    # Convert the list of dictionaries to an RDD\n",
        "    rdd = spark.sparkContext.parallelize(data)\n",
        "\n",
        "    # Convert the RDD to a DataFrame using the provided custom_schema\n",
        "    df = rdd.toDF(custom_schema)\n",
        "\n",
        "    # Checkpoint the DataFrame every `checkpoint` records\n",
        "    # This helps to manage memory usage and avoid out-of-memory errors\n",
        "    # when dealing with large datasets\n",
        "    if num_records > checkpoint:\n",
        "        num_records -= checkpoint\n",
        "        generate_random_df(random_info_generator, custom_schema, num_records, checkpoint, False)\n",
        "\n",
        "    # Write the DataFrame to a delta table\n",
        "    # If this is the first loop, overwrite the existing table\n",
        "    # Otherwise, append the new records to the existing table\n",
        "    match first_loop:\n",
        "        case True: df.write.format(\"delta\").mode(\"overwrite\").save(r\"/content/delta_table\")\n",
        "        case False: df.write.format(\"delta\").mode(\"append\").save(r\"/content/delta_table\")\n",
        "\n",
        "    # Delete the DataFrame from memory to free up resources\n",
        "    del df\n",
        "\n",
        "    # Read the delta table back into a DataFrame\n",
        "    df_final = spark.read.format(\"delta\").load(r\"/content/delta_table\")\n",
        "\n",
        "    # Return the final DataFrame\n",
        "    return df_final"
      ]
    },
    {
      "cell_type": "markdown",
      "metadata": {
        "id": "AfKYM_PVhb-e"
      },
      "source": [
        "### Define functions for data generation"
      ]
    },
    {
      "cell_type": "code",
      "execution_count": 110,
      "metadata": {
        "id": "2cRUVCnVhtAk"
      },
      "outputs": [],
      "source": [
        "def create_random_product_info() -> dict:\n",
        "    \"\"\"\n",
        "    Function to create a dictionary containing random product information.\n",
        "    \"\"\"\n",
        "    return {\n",
        "        \"Product_ID\": str(randint(1000, 2000)),\n",
        "        \"Subsector\": fake.subsector(),\n",
        "        \"Category\": fake.category(),\n",
        "        \"Brand\": fake.brand(),\n",
        "        \"Material_ID\": randint(10000, 99999),\n",
        "        \"Description\": fake.text(max_nb_chars=100),\n",
        "        \"Weight\": float(round(fake.random_number(digits=2, fix_len=False), 2)),\n",
        "        \"Shelf_Life\": randint(30, 365),\n",
        "        \"Supplier_ID\": randint(1, 35),\n",
        "    }\n",
        "\n",
        "def generate_random_transaction_info() -> dict:\n",
        "    \"\"\"\n",
        "    Function to generate a dictionary containing random transaction information.\n",
        "    \"\"\"\n",
        "    start_date = datetime.strptime(\"2012-01-01\", '%Y-%m-%d')\n",
        "    end_date = datetime.strptime(\"2030-12-31\", '%Y-%m-%d')\n",
        "    validity_date_from = fake.date_time_between(start_date=start_date, end_date=end_date)\n",
        "    validity_date_to = fake.date_time_between(start_date=validity_date_from, end_date=end_date)\n",
        "    sales_end_date = validity_date_to if randint(1, 100) <= 80 else None\n",
        "\n",
        "    return {\n",
        "        \"Supplier_ID\": randint(1, 35),\n",
        "        \"Countries_of_Sale\": fake.country(),\n",
        "        \"Transaction_ID\": choice(uuid_list),\n",
        "        \"Sales_Initiation_Date\": validity_date_from,\n",
        "        \"Sales_End_Date\": sales_end_date,\n",
        "        \"Product_ID\": str(randint(1000, 2000)),\n",
        "    }\n",
        "\n",
        "def generate_financial_data_info() -> dict:\n",
        "    \"\"\"\n",
        "    Function to generate financial data information.\n",
        "    \"\"\"\n",
        "    profit_ytd = round(uniform(10000, 1000000), 2)\n",
        "    profit_last_2_years = round(profit_ytd + uniform(0, 500000), 2)\n",
        "    profit_last_year = round(uniform(profit_last_2_years, profit_ytd), 2)\n",
        "    profit_last_month = round(uniform(profit_last_year * 0.8, profit_last_year), 2)\n",
        "    profit_last_week = round(uniform(profit_last_month * 0.8, profit_last_month), 2)\n",
        "    market_value = round(uniform(profit_last_week * 1.2, profit_last_week * 2), 2)\n",
        "\n",
        "    return {\n",
        "        \"Transaction_ID\": choice(uuid_list),\n",
        "        \"Profit_YTD\": profit_ytd,\n",
        "        \"Profit_Last_2_Years\": profit_last_2_years,\n",
        "        \"Profit_Last_Year\": profit_last_year,\n",
        "        \"Profit_Last_Month\": profit_last_month,\n",
        "        \"Profit_Last_Week\": profit_last_week,\n",
        "        \"Market_Value\": market_value\n",
        "    }"
      ]
    },
    {
      "cell_type": "markdown",
      "metadata": {
        "id": "UmonxVqzgraT"
      },
      "source": [
        "# Define variable for data generation"
      ]
    },
    {
      "cell_type": "code",
      "execution_count": 111,
      "metadata": {
        "id": "iWZNMDvVgq66"
      },
      "outputs": [],
      "source": [
        "uuid_list = [fake.uuid4() for _ in range(350_000)]"
      ]
    },
    {
      "cell_type": "markdown",
      "metadata": {
        "id": "8vKIm8gVh0s-"
      },
      "source": [
        "# Define schema for data generation"
      ]
    },
    {
      "cell_type": "markdown",
      "metadata": {
        "id": "w2ZsXe_b0a7D"
      },
      "source": [
        "Data type for schema\n",
        "\n",
        "| Data type               | Value type in Python         | API to access or create a data type       |\n",
        "|-------------------------|------------------------------|------------------------------------------|\n",
        "| ByteType                | int or long                   | `ByteType()`                             |\n",
        "| ShortType               | int or long                   | `ShortType()`                            |\n",
        "| IntegerType             | int or long                   | `IntegerType()`                          |\n",
        "| LongType                | long                         | `LongType()`                             |\n",
        "| FloatType               | float                        | `FloatType()`                            |\n",
        "| DoubleType              | float                        | `DoubleType()`                           |\n",
        "| DecimalType             | decimal.Decimal               | `DecimalType()`                          |\n",
        "| StringType              | string                       | `StringType()`                           |\n",
        "| BinaryType              | bytearray                    | `BinaryType()`                           |\n",
        "| BooleanType             | bool                         | `BooleanType()`                          |\n",
        "| TimestampType           | datetime.datetime             | `TimestampType()`                        |\n",
        "| TimestampNTZType        | datetime.datetime             | `TimestampNTZType()`                     |\n",
        "| DateType                | datetime.date                 | `DateType()`                             |\n",
        "| DayTimeIntervalType     | datetime.timedelta            | `DayTimeIntervalType()`                  |\n",
        "| ArrayType               | list, tuple, or array         | `ArrayType(elementType, [containsNull])` |\n",
        "| MapType                 | dict                         | `MapType(keyType, valueType, [valueContainsNull])` |\n",
        "| StructType              | list or tuple                 | `StructType(fields)`                     |\n",
        "| StructField             | The value type in Python of the data type of this field (e.g., Int for a StructField with the data type IntegerType) | `StructField(name, dataType, [nullable])` |\n",
        "| UserDefinedType (UDT)   | User-defined                 | -                                        |\n",
        "| ObjectType              | Python object                 | -                                        |\n",
        "| VectorUDT               | Vector                        | -                                        |\n",
        "| ImageType               | Image                         | -                                        |\n",
        "| NoneType                | None                         | -                                        |\n"
      ]
    },
    {
      "cell_type": "code",
      "execution_count": 112,
      "metadata": {
        "id": "Z15Qonn0hbQf"
      },
      "outputs": [],
      "source": [
        "product_schema = StructType([\n",
        "    StructField(\"Product_ID\", StringType(), nullable=True),\n",
        "    StructField(\"Subsector\", StringType(), nullable=True),\n",
        "    StructField(\"Category\", StringType(), nullable=True),\n",
        "    StructField(\"Brand\", StringType(), nullable=True),\n",
        "    StructField(\"Material_ID\", IntegerType(), nullable=True),\n",
        "    StructField(\"Description\", StringType(), nullable=True),\n",
        "    StructField(\"Weight\", FloatType(), nullable=True),\n",
        "    StructField(\"Shelf_Life\", IntegerType(), nullable=True),\n",
        "    StructField(\"Supplier_ID\", IntegerType(), nullable=True)\n",
        "])\n",
        "\n",
        "product_suplier_schema = StructType([\n",
        "    StructField(\"Supplier_ID\", IntegerType(), True),\n",
        "    StructField(\"Supplier_Name\", StringType(), True),\n",
        "    StructField(\"Country_of_Distribution\", StringType(), True),\n",
        "])\n",
        "\n",
        "transaction_schema = StructType([\n",
        "    StructField(\"Supplier_ID\", IntegerType(), nullable=False),\n",
        "    StructField(\"Countries_of_Sale\", StringType(), nullable=False),\n",
        "    StructField(\"Transaction_ID\", StringType(), nullable=False),\n",
        "    StructField(\"Sales_Initiation_Date\", DateType(), True),\n",
        "    StructField(\"Sales_End_Date\", DateType(), True),\n",
        "    StructField(\"Product_ID\", StringType(), True),\n",
        "])\n",
        "\n",
        "\n",
        "financial_schema = StructType([\n",
        "    StructField(\"Transaction_ID\", StringType(), nullable=False),\n",
        "    StructField(\"Profit_YTD\", FloatType(), nullable=False),\n",
        "    StructField(\"Profit_Last_2_Years\", FloatType(), nullable=False),\n",
        "    StructField(\"Profit_Last_Year\", FloatType(), nullable=False),\n",
        "    StructField(\"Profit_Last_Month\", FloatType(), nullable=False),\n",
        "    StructField(\"Profit_Last_Week\", FloatType(), nullable=False),\n",
        "    StructField(\"Market_Value\", FloatType(), nullable=False)\n",
        "])\n",
        "\n",
        "eu_countries_schema = StructType([\n",
        "    StructField(\"Country\", StringType(), True),\n",
        "    StructField(\"Country_Code\", StringType(), True)\n",
        "])"
      ]
    },
    {
      "cell_type": "markdown",
      "metadata": {
        "id": "EutBbpRmhvI_"
      },
      "source": [
        "# Generate random data"
      ]
    },
    {
      "cell_type": "markdown",
      "metadata": {
        "id": "BLoVH962kTdh"
      },
      "source": [
        "### Generate randome product"
      ]
    },
    {
      "cell_type": "code",
      "execution_count": 113,
      "metadata": {
        "colab": {
          "base_uri": "https://localhost:8080/"
        },
        "id": "ktjreEo1QSaB",
        "outputId": "2c9a274f-65d8-4b22-fa84-588d2458b82c"
      },
      "outputs": [
        {
          "output_type": "stream",
          "name": "stdout",
          "text": [
            "count:  1001\n",
            "+----------+--------------------+-----------+--------+-----------+--------------------+------+----------+-----------+\n",
            "|Product_ID|           Subsector|   Category|   Brand|Material_ID|         Description|Weight|Shelf_Life|Supplier_ID|\n",
            "+----------+--------------------+-----------+--------+-----------+--------------------+------+----------+-----------+\n",
            "|      1000|       Dessert Mixes|       Tart|  Zypher|      11828|Understand good n...|  35.0|       354|         12|\n",
            "|      1001|       Dessert Mixes|        Pie|  Zypher|      13050|That religious fo...|   9.0|       278|         13|\n",
            "|      1002|     Bakery Supplies|    Gumdrop|  Nexxon|      10442|Up dog gun these....|  10.0|       120|         21|\n",
            "|      1003|          Sweeteners|      Creme| Vintura|      19572|Age attention awa...|  32.0|        84|         23|\n",
            "|      1004|          Sweeteners|     Bakery|  Zypher|      10190|Music partner mon...|  88.0|        94|         15|\n",
            "|      1005|          Sweeteners|Marshmallow|  Aurora|      14608|Political nothing...|  22.0|        37|         23|\n",
            "|      1006|          Sweeteners|    Caramel|Exquinox|      13287|Economic always a...|   7.0|       130|         29|\n",
            "|      1007|     Bakery Supplies|      Syrup|  Zemora|      13814|Watch method opti...|  10.0|        71|         19|\n",
            "|      1008|     Packaged Sweets|      Candy| Travala|      15202|Finish why before...|  14.0|       209|         10|\n",
            "|      1009|     Packaged Sweets|    Gumdrop|  Zypher|      10006|Relate catch sect...|  52.0|       106|         17|\n",
            "|      1010|  Pastry Ingredients|  Chocolate|  Zypher|      12163|Analysis call fac...|  81.0|       136|         27|\n",
            "|      1011|       Dessert Mixes|    Truffle|  Aurora|      13047|Young prove polit...|   6.0|       188|          9|\n",
            "|      1012|     Bakery Supplies|      Treat|  Zypher|      10720|Rather husband po...|  47.0|       321|          7|\n",
            "|      1013|   Candy & Chocolate|      Syrup|  Zemora|      10984|Share necessary i...|  30.0|        89|         24|\n",
            "|      1014|Ice Cream Ingredi...|    Brownie|  Zypher|      11264|Key newspaper end...|  42.0|        97|         30|\n",
            "|      1015|   Candy & Chocolate|      Jelly|  Zypher|      11461|Single car nation...|  61.0|       337|          2|\n",
            "|      1016|          Sweeteners|Marshmallow|  Aurora|      11184|Mission about fea...|  18.0|       112|         10|\n",
            "|      1017|     Bakery Supplies|    Cupcake|  Novata|      15264|Glass onto hard f...|  34.0|       161|         17|\n",
            "|      1018|Ice Cream Ingredi...|       Cake| Delisio|      10268|Series prove fede...|  46.0|       283|         18|\n",
            "|      1019|     Packaged Sweets|      Fudge|  Zemora|      10540|Small or eight ca...|  72.0|       330|          3|\n",
            "+----------+--------------------+-----------+--------+-----------+--------------------+------+----------+-----------+\n",
            "only showing top 20 rows\n",
            "\n"
          ]
        }
      ],
      "source": [
        "df_product = generate_random_df(create_random_product_info, product_schema, 100_000)\n",
        "df_product = df_product.drop_duplicates(['Material_ID'])\n",
        "df_product = df_product.drop_duplicates(['Product_ID'])\n",
        "df_product.coalesce(1).write.mode('overwrite').option(\"header\", \"true\").csv(\"/content/product.csv\")\n",
        "print('count: ', df_product.count())\n",
        "df_product.show()\n",
        "del df_product"
      ]
    },
    {
      "cell_type": "markdown",
      "metadata": {
        "id": "XsLol5eokM9s"
      },
      "source": [
        "### Generate randome suplier mapping"
      ]
    },
    {
      "cell_type": "code",
      "source": [
        "suplier_data = [\n",
        "    (1, 'Taylor and Sons', fake.country_code()),\n",
        "    (2, 'Fischer, Harper and Collins', fake.country_code()),\n",
        "    (3, 'Burns, Brewer and Valdez', fake.country_code()),\n",
        "    (4, 'Li-Harris', fake.country_code()),\n",
        "    (5, 'Thompson-Medina', fake.country_code()),\n",
        "    (6, 'Brock Ltd', fake.country_code()),\n",
        "    (7, 'Rocha-Harris', fake.country_code()),\n",
        "    (8, 'Andrade, Boone and Alvarez', fake.country_code()),\n",
        "    (9, 'Hurst Ltd', fake.country_code()),\n",
        "    (10, 'Owens-Morrison', fake.country_code()),\n",
        "    (11, 'Jones, Bradley and Davis', fake.country_code()),\n",
        "    (12, 'Nichols, Mejia and Smith', fake.country_code()),\n",
        "    (13, 'Miller, Jones and Moyer', fake.country_code()),\n",
        "    (14, 'Good and Sons', fake.country_code()),\n",
        "    (15, 'Rodgers-Johnston', fake.country_code()),\n",
        "    (16, 'Potts, Allen and Jones', fake.country_code()),\n",
        "    (17, 'Franklin, Weber and Parrish', fake.country_code()),\n",
        "    (18, 'Carter, Martinez and Sullivan', fake.country_code()),\n",
        "    (19, 'Ryan and Sons', fake.country_code()),\n",
        "    (20, 'Paul, King and Nichols', fake.country_code()),\n",
        "    (21, 'Marshall-Patterson', fake.country_code()),\n",
        "    (22, 'Carr-Griffith', fake.country_code()),\n",
        "    (23, 'Russell, Newman and Long', fake.country_code()),\n",
        "    (24, 'Reed-Long', fake.country_code()),\n",
        "    (25, 'Walters, Mcguire and Hampton', fake.country_code()),\n",
        "    (26, 'Martinez and Sons', fake.country_code()),\n",
        "    (27, 'Whitehead-Berg', fake.country_code()),\n",
        "    (28, 'Ross, Hopkins and Thomas', fake.country_code()),\n",
        "    (29, 'Garza-Scott', fake.country_code()),\n",
        "    (30, 'Williams-Turner', fake.country_code()),\n",
        "    (31, 'Taylor-Anderson', fake.country_code()),\n",
        "    (32, 'Rivera-Edwards', fake.country_code()),\n",
        "    (33, 'Johns Group', fake.country_code()),\n",
        "    (34, 'Guzman, Page and Gregory', fake.country_code()),\n",
        "    (35, 'Gordon Inc', fake.country_code())\n",
        "]\n",
        "\n",
        "df_suplier = spark.createDataFrame(suplier_data, schema=product_suplier_schema)\n",
        "df_suplier.coalesce(1).write.mode('overwrite').option(\"header\", \"true\").csv(\"/content/suplier_mapping.csv\")\n",
        "print('count: ', df_suplier.count())\n",
        "df_suplier.show()\n",
        "del df_suplier"
      ],
      "metadata": {
        "colab": {
          "base_uri": "https://localhost:8080/"
        },
        "id": "F6vKE4nVhPz0",
        "outputId": "d44db880-22a9-4d31-bb51-912d94fcb63c"
      },
      "execution_count": 114,
      "outputs": [
        {
          "output_type": "stream",
          "name": "stdout",
          "text": [
            "count:  35\n",
            "+-----------+--------------------+-----------------------+\n",
            "|Supplier_ID|       Supplier_Name|Country_of_Distribution|\n",
            "+-----------+--------------------+-----------------------+\n",
            "|          1|     Taylor and Sons|                     BH|\n",
            "|          2|Fischer, Harper a...|                     PG|\n",
            "|          3|Burns, Brewer and...|                     SE|\n",
            "|          4|           Li-Harris|                     HU|\n",
            "|          5|     Thompson-Medina|                     PS|\n",
            "|          6|           Brock Ltd|                     IQ|\n",
            "|          7|        Rocha-Harris|                     SA|\n",
            "|          8|Andrade, Boone an...|                     KP|\n",
            "|          9|           Hurst Ltd|                     BR|\n",
            "|         10|      Owens-Morrison|                     LY|\n",
            "|         11|Jones, Bradley an...|                     CF|\n",
            "|         12|Nichols, Mejia an...|                     BN|\n",
            "|         13|Miller, Jones and...|                     MN|\n",
            "|         14|       Good and Sons|                     TW|\n",
            "|         15|    Rodgers-Johnston|                     LR|\n",
            "|         16|Potts, Allen and ...|                     OM|\n",
            "|         17|Franklin, Weber a...|                     TJ|\n",
            "|         18|Carter, Martinez ...|                     HR|\n",
            "|         19|       Ryan and Sons|                     SD|\n",
            "|         20|Paul, King and Ni...|                     KZ|\n",
            "+-----------+--------------------+-----------------------+\n",
            "only showing top 20 rows\n",
            "\n"
          ]
        }
      ]
    },
    {
      "cell_type": "markdown",
      "metadata": {
        "id": "JRkn1Fyp_ln_"
      },
      "source": [
        "### Generate randome transactions"
      ]
    },
    {
      "cell_type": "code",
      "execution_count": 115,
      "metadata": {
        "id": "ai9Q1QqilJUE",
        "colab": {
          "base_uri": "https://localhost:8080/"
        },
        "outputId": "4f6d47f6-9d04-42e3-84a6-70fa51ac7beb"
      },
      "outputs": [
        {
          "output_type": "stream",
          "name": "stdout",
          "text": [
            "count:  201372\n",
            "+-----------+--------------------+--------------------+---------------------+--------------+----------+\n",
            "|Supplier_ID|   Countries_of_Sale|      Transaction_ID|Sales_Initiation_Date|Sales_End_Date|Product_ID|\n",
            "+-----------+--------------------+--------------------+---------------------+--------------+----------+\n",
            "|         35|               Haiti|00007086-7262-45c...|           2022-02-23|    2030-03-22|      1265|\n",
            "|          5|             Andorra|0000b315-34e2-415...|           2027-04-12|    2027-07-13|      1795|\n",
            "|         17|             Croatia|0001b030-060d-456...|           2025-01-08|          NULL|      1058|\n",
            "|         19|        Sierra Leone|00029ad0-745f-45d...|           2029-04-26|    2030-07-03|      1665|\n",
            "|         10|          Cape Verde|000317a9-4c78-416...|           2025-10-28|    2030-04-07|      1792|\n",
            "|          2|            Botswana|0003270c-b986-4bb...|           2016-06-20|    2022-08-26|      1104|\n",
            "|         35|         El Salvador|0003e80b-3f22-4f7...|           2022-02-26|    2025-01-10|      1082|\n",
            "|          7|                Guam|000477b2-3c7f-441...|           2020-03-18|    2022-05-10|      1000|\n",
            "|         29|          Martinique|0005091b-9726-4ec...|           2020-02-08|    2025-01-21|      1307|\n",
            "|         22|                Guam|000538a2-91c1-499...|           2021-05-17|    2028-08-31|      1751|\n",
            "|         28|              Belize|00065c43-2e5e-402...|           2017-10-21|          NULL|      1938|\n",
            "|         26|              Zambia|0006b593-a50c-450...|           2014-12-13|          NULL|      1655|\n",
            "|          4|      American Samoa|00077174-178a-427...|           2026-09-28|          NULL|      1612|\n",
            "|         22|             Tokelau|00079a4e-20d8-450...|           2016-09-19|    2023-09-05|      1348|\n",
            "|         13|               Malta|0007d734-0518-4f2...|           2015-04-14|    2023-08-02|      1919|\n",
            "|         19|           Guatemala|0008f0a9-1550-4cf...|           2016-06-05|    2027-02-01|      1603|\n",
            "|         19|Sao Tome and Prin...|0009f362-8b74-453...|           2024-04-11|          NULL|      1719|\n",
            "|         10|            Portugal|000a7188-9fcf-433...|           2018-10-23|    2020-10-31|      1741|\n",
            "|         32|Bosnia and Herzeg...|000ba905-6bbb-4a4...|           2023-08-22|          NULL|      1811|\n",
            "|         14|             Croatia|000c1d2c-2eb0-46a...|           2028-07-16|    2029-05-31|      1467|\n",
            "+-----------+--------------------+--------------------+---------------------+--------------+----------+\n",
            "only showing top 20 rows\n",
            "\n"
          ]
        }
      ],
      "source": [
        "df_transactions = generate_random_df(generate_random_transaction_info, transaction_schema, 300_000)\n",
        "df_transactions = df_transactions.dropDuplicates(['Transaction_ID'])\n",
        "df_transactions.coalesce(1).write.mode('overwrite').option(\"header\", \"true\").csv(\"/content/transactions.csv\")\n",
        "print('count: ', df_transactions.count())\n",
        "df_transactions.show()\n",
        "del df_transactions"
      ]
    },
    {
      "cell_type": "markdown",
      "metadata": {
        "id": "AmovHxVECCdT"
      },
      "source": [
        "### Generate randome financial data"
      ]
    },
    {
      "cell_type": "code",
      "execution_count": 116,
      "metadata": {
        "colab": {
          "base_uri": "https://localhost:8080/"
        },
        "id": "mkcRDjuVeGve",
        "outputId": "cbcca79b-fd6a-4de6-a5f5-08eab0d9c446"
      },
      "outputs": [
        {
          "output_type": "stream",
          "name": "stdout",
          "text": [
            "count:  201595\n",
            "+--------------------+----------+-------------------+----------------+-----------------+----------------+------------+\n",
            "|      Transaction_ID|Profit_YTD|Profit_Last_2_Years|Profit_Last_Year|Profit_Last_Month|Profit_Last_Week|Market_Value|\n",
            "+--------------------+----------+-------------------+----------------+-----------------+----------------+------------+\n",
            "|3c1c77b9-e3d6-419...|  736166.4|          1155648.9|       1122977.1|        1016646.5|       945933.75|   1189308.0|\n",
            "|94cd1c6b-d102-482...|  131614.8|           608580.0|        489201.2|        484492.06|        421488.2|    725939.3|\n",
            "|5ed2087d-2ff5-45e...|  13278.79|          132120.69|        70182.12|         65641.54|        56273.33|     94767.4|\n",
            "|f711baea-3a14-498...|  561936.0|           780491.0|        665421.8|        630282.44|       586620.25|   977413.56|\n",
            "|1a65a089-f974-448...| 314951.38|           713500.2|       582955.25|        492789.06|       471078.78|   800038.75|\n",
            "|ea0a480d-247b-446...|  494954.8|           964498.5|       607366.06|        574451.06|        530097.5|    939925.3|\n",
            "|67010431-ae2a-4ac...|  204261.3|          224314.55|        208224.6|        192207.53|       174045.27|   332323.22|\n",
            "|46de5222-f164-434...|  840256.7|          1081177.5|        842963.1|         772020.8|        711037.1|   1265843.8|\n",
            "|cb82cc60-991b-43b...|  919037.7|          1035225.8|       965763.25|        913275.56|        754181.8|   1192850.2|\n",
            "|668f8a1a-2373-41b...| 373620.62|           840218.4|        720612.8|         585335.5|        533139.4|   807938.25|\n",
            "|ed45826e-415d-40a...| 450892.66|          541835.56|       481738.75|        444058.12|        393167.7|    608716.8|\n",
            "|7246fc5b-706a-4c8...|  733557.0|          1115091.2|        797440.1|         724237.6|       718169.06|   1045479.2|\n",
            "|8fcd43f5-39ee-435...| 227706.33|          546900.56|        402657.5|        391582.38|       381206.25|    524970.7|\n",
            "|c598f7f5-8bbe-4d8...|  741861.0|          1087907.2|       981955.56|        819810.44|        727437.0|    992436.2|\n",
            "|7794efe5-4fcc-4be...| 389132.06|           864188.3|        660391.1|         657338.3|        584036.0|   763499.25|\n",
            "|d59d21da-525b-43b...| 445922.53|          507094.47|       468878.16|        414384.94|        399477.4|    688124.0|\n",
            "|a88243b3-d94d-455...|  98799.34|          237970.47|       194414.95|        161340.48|       151233.52|   298909.47|\n",
            "|af63b39d-ca44-44a...|  853313.6|          1264751.4|       885369.25|         750027.3|       740942.94|   1109242.5|\n",
            "|2c1a7a69-95dd-4ed...| 254420.94|           600909.5|        395014.2|        393270.97|       367287.78|   655673.56|\n",
            "|470c1928-6fe9-4e7...|  145165.3|           548039.8|       515359.56|        497315.22|       432419.12|    643798.5|\n",
            "+--------------------+----------+-------------------+----------------+-----------------+----------------+------------+\n",
            "only showing top 20 rows\n",
            "\n"
          ]
        }
      ],
      "source": [
        "df_financial = generate_random_df(generate_financial_data_info, financial_schema, 300_000)\n",
        "df_financial = df_financial.dropDuplicates(['Transaction_ID'])\n",
        "df_financial.coalesce(1).write.mode('overwrite').option(\"header\", \"true\").csv(\"/content/financial.csv\")\n",
        "print('count: ', df_financial.count())\n",
        "df_financial.show()\n",
        "del df_financial"
      ]
    },
    {
      "cell_type": "markdown",
      "source": [
        "### Generate Eu Country mapping"
      ],
      "metadata": {
        "id": "YUPfdexnt70Y"
      }
    },
    {
      "cell_type": "code",
      "source": [
        "eu_country_data = [\n",
        "    (\"Austria\", \"AT\"),\n",
        "    (\"Belgium\", \"BE\"),\n",
        "    (\"Bulgaria\", \"BG\"),\n",
        "    (\"Croatia\", \"HR\"),\n",
        "    (\"Cyprus\", \"CY\"),\n",
        "    (\"Czech Republic\", \"CZ\"),\n",
        "    (\"Denmark\", \"DK\"),\n",
        "    (\"Estonia\", \"EE\"),\n",
        "    (\"Finland\", \"FI\"),\n",
        "    (\"France\", \"FR\"),\n",
        "    (\"Greece\", \"GR\"),\n",
        "    (\"Spain\", \"ES\"),\n",
        "    (\"Netherlands\", \"NL\"),\n",
        "    (\"Ireland\", \"IE\"),\n",
        "    (\"Lithuania\", \"LT\"),\n",
        "    (\"Luxembourg\", \"LU\"),\n",
        "    (\"Latvia\", \"LV\"),\n",
        "    (\"Malta\", \"MT\"),\n",
        "    (\"Germany\", \"DE\"),\n",
        "    (\"Poland\", \"PL\"),\n",
        "    (\"Portugal\", \"PT\"),\n",
        "    (\"Romania\", \"RO\"),\n",
        "    (\"Slovakia\", \"SK\"),\n",
        "    (\"Slovenia\", \"SI\"),\n",
        "    (\"Sweden\", \"SE\"),\n",
        "    (\"Hungary\", \"HU\"),\n",
        "    (\"Italy\", \"IT\")\n",
        "]\n",
        "\n",
        "df_eu_country_mapping = spark.createDataFrame(eu_country_data, eu_countries_schema)\n",
        "df_eu_country_mapping.coalesce(1).write.mode('overwrite').option(\"header\", \"true\").csv(\"/content/eu_mapping.csv\")\n",
        "print('count: ', df_eu_country_mapping.count())\n",
        "df_eu_country_mapping.show()\n",
        "del df_eu_country_mapping"
      ],
      "metadata": {
        "colab": {
          "base_uri": "https://localhost:8080/"
        },
        "id": "7WF9p9EcttFi",
        "outputId": "2926067a-648b-489e-e49e-fc323fa7dda6"
      },
      "execution_count": 117,
      "outputs": [
        {
          "output_type": "stream",
          "name": "stdout",
          "text": [
            "count:  27\n",
            "+--------------+------------+\n",
            "|       Country|Country_Code|\n",
            "+--------------+------------+\n",
            "|       Austria|          AT|\n",
            "|       Belgium|          BE|\n",
            "|      Bulgaria|          BG|\n",
            "|       Croatia|          HR|\n",
            "|        Cyprus|          CY|\n",
            "|Czech Republic|          CZ|\n",
            "|       Denmark|          DK|\n",
            "|       Estonia|          EE|\n",
            "|       Finland|          FI|\n",
            "|        France|          FR|\n",
            "|        Greece|          GR|\n",
            "|         Spain|          ES|\n",
            "|   Netherlands|          NL|\n",
            "|       Ireland|          IE|\n",
            "|     Lithuania|          LT|\n",
            "|    Luxembourg|          LU|\n",
            "|        Latvia|          LV|\n",
            "|         Malta|          MT|\n",
            "|       Germany|          DE|\n",
            "|        Poland|          PL|\n",
            "+--------------+------------+\n",
            "only showing top 20 rows\n",
            "\n"
          ]
        }
      ]
    }
  ],
  "metadata": {
    "colab": {
      "collapsed_sections": [
        "vQZv_Dkk9X_Z",
        "3tqUz-CK9c0s",
        "21RS7KF5siax",
        "8cMXkdRDu3Fi"
      ],
      "provenance": [],
      "authorship_tag": "ABX9TyPiggFVH7+07ZB9DBX+zZnS",
      "include_colab_link": true
    },
    "kernelspec": {
      "display_name": "Python 3",
      "name": "python3"
    },
    "language_info": {
      "name": "python"
    }
  },
  "nbformat": 4,
  "nbformat_minor": 0
}