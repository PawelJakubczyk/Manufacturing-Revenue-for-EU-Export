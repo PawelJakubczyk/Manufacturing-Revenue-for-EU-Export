{
  "cells": [
    {
      "cell_type": "markdown",
      "metadata": {
        "id": "view-in-github",
        "colab_type": "text"
      },
      "source": [
        "<a href=\"https://colab.research.google.com/github/PawelJakubczyk/Manufacturing-Revenue-for-EU-Export/blob/main/generate_random_data.ipynb\" target=\"_parent\"><img src=\"https://colab.research.google.com/assets/colab-badge.svg\" alt=\"Open In Colab\"/></a>"
      ]
    },
    {
      "cell_type": "markdown",
      "metadata": {
        "id": "vQZv_Dkk9X_Z"
      },
      "source": [
        "# Instal library"
      ]
    },
    {
      "cell_type": "code",
      "execution_count": 42,
      "metadata": {
        "colab": {
          "base_uri": "https://localhost:8080/"
        },
        "id": "6Rx7DyFK7VIv",
        "outputId": "3c745b08-5d80-456c-df78-b47105fe2c5a"
      },
      "outputs": [
        {
          "output_type": "stream",
          "name": "stdout",
          "text": [
            "Requirement already satisfied: faker in /usr/local/lib/python3.10/dist-packages (22.6.0)\n",
            "Requirement already satisfied: python-dateutil>=2.4 in /usr/local/lib/python3.10/dist-packages (from faker) (2.8.2)\n",
            "Requirement already satisfied: six>=1.5 in /usr/local/lib/python3.10/dist-packages (from python-dateutil>=2.4->faker) (1.16.0)\n",
            "Requirement already satisfied: pyspark in /usr/local/lib/python3.10/dist-packages (3.5.0)\n",
            "Requirement already satisfied: py4j==0.10.9.7 in /usr/local/lib/python3.10/dist-packages (from pyspark) (0.10.9.7)\n"
          ]
        }
      ],
      "source": [
        "%pip install faker\n",
        "%pip install pyspark"
      ]
    },
    {
      "cell_type": "markdown",
      "metadata": {
        "id": "3tqUz-CK9c0s"
      },
      "source": [
        "# Import library & star session"
      ]
    },
    {
      "cell_type": "code",
      "execution_count": 43,
      "metadata": {
        "id": "Jj6v8qT19eqb"
      },
      "outputs": [],
      "source": [
        "from pyspark.sql import SparkSession\n",
        "from pyspark.sql.types import StructType, StructField, StringType, DateType, IntegerType, FloatType\n",
        "from datetime import datetime, date\n",
        "from faker import Faker\n",
        "from faker.providers import BaseProvider\n",
        "from random import choice, uniform, randint, seed\n",
        "\n",
        "# Create a Spark session\n",
        "spark = SparkSession.builder.master(\"local[*]\").getOrCreate()\n",
        "\n",
        "# Initialize Faker for generating fake data\n",
        "fake = Faker()"
      ]
    },
    {
      "cell_type": "markdown",
      "metadata": {
        "id": "oqF3okSmgzUa"
      },
      "source": [
        "# Define class and functions"
      ]
    },
    {
      "cell_type": "markdown",
      "metadata": {
        "id": "21RS7KF5siax"
      },
      "source": [
        "### Define provider and Utilities functions"
      ]
    },
    {
      "cell_type": "markdown",
      "metadata": {
        "id": "jJ-wL_qeyBdh"
      },
      "source": [
        "<style>\n",
        "  .tables {\n",
        "    display: flex;\n",
        "    justify-content: space-between;\n",
        "  }\n",
        "</style>\n",
        "\n",
        "<div class=\"tables\">\n",
        "\n",
        "| Function           | Description                                                                |\n",
        "|--------------------|----------------------------------------------------------------------------|\n",
        "| `seed()`           | Initialize the random number generator                                    |\n",
        "| `getstate()`       | Returns the current internal state of the random number generator          |\n",
        "| `setstate()`       | Restores the internal state of the random number generator                 |\n",
        "| `getrandbits()`    | Returns a number representing the random bits                               |\n",
        "| `randrange()`      | Returns a random number between the given range with an optional step argument |\n",
        "| `randint()`        | Returns a random number between the given range                              |\n",
        "| `choice()`         | Returns a random element from the given sequence                            |\n",
        "| `choices()`        | Returns a list with a random selection from the given sequence              |\n",
        "| `shuffle()`        | Takes a sequence and returns the sequence in a random order                  |\n",
        "| `sample()`         | Returns a given sample of a sequence                                         |\n",
        "| `random()`         | Returns a random float number between 0 and 1                                |\n",
        "| `uniform()`        | Returns a random float number between two given parameters                   |\n",
        "| `triangular()`     | Returns a random float number between two given parameters with an optional mode parameter |\n",
        "| `betavariate()`    | Returns a random float number between 0 and 1 based on the Beta distribution (used in statistics) |\n",
        "| `expovariate()`    | Returns a random float number based on the Exponential distribution (used in statistics) |\n",
        "| `gammavariate()`   | Returns a random float number based on the Gamma distribution (used in statistics) |\n",
        "| `gauss()`          | Returns a random float number based on the Gaussian distribution (used in probability theories) |\n",
        "| `lognormvariate()` | Returns a random float number based on a log-normal distribution (used in probability theories) |\n",
        "| `normalvariate()`  | Returns a random float number based on the normal distribution (used in probability theories) |\n",
        "| `vonmisesvariate()`| Returns a random float number based on the von Mises distribution (used in directional statistics) |\n",
        "| `paretovariate()`  | Returns a random float number based on the Pareto distribution (used in probability theories) |\n",
        "| `weibullvariate()` | Returns a random float number based on the Weibull distribution (used in statistics) |\n",
        "\n",
        "</div>\n",
        "<div class=\"tables\">\n",
        "\n",
        "| Faker Method                | Description                                       |\n",
        "|-----------------------------|---------------------------------------------------|\n",
        "| `fake.name()`               | Generate a random full name.                      |\n",
        "| `fake.address()`            | Generate a random address.                         |\n",
        "| `fake.email()`              | Generate a random email address.                  |\n",
        "| `fake.phone_number()`       | Generate a random phone number.                   |\n",
        "| `fake.date_of_birth()`      | Generate a random date of birth.                  |\n",
        "| `fake.company()`            | Generate a random company name.                   |\n",
        "| `fake.job()`                | Generate a random job title.                      |\n",
        "| `fake.text()`               | Generate random text.                             |\n",
        "| `fake.sentence()`           | Generate a random sentence.                       |\n",
        "| `fake.word()`               | Generate a random word.                           |\n",
        "| `fake.color_name()`         | Generate a random color name.                     |\n",
        "| `fake.credit_card_number()` | Generate a random credit card number.             |\n",
        "| `fake.url()`                | Generate a random URL.                            |\n",
        "| `fake.domain_name()`        | Generate a random domain name.                    |\n",
        "| `fake.ipv4()`               | Generate a random IPv4 address.                  |\n",
        "| `fake.country()`            | Generate a random country name.                   |\n",
        "| `fake.city()`               | Generate a random city name.                      |\n",
        "| `fake.state()`              | Generate a random state name.                     |\n",
        "| `fake.zipcode()`            | Generate a random ZIP code.                       |\n",
        "| `fake.currency_code()`      | Generate a random currency code.                  |\n",
        "| `fake.file_name()`          | Generate a random file name.                      |\n",
        "| `fake.image_url()`          | Generate a random image URL.                      |\n",
        "| `fake.random_element()`     | Generate a random element from a list.           |\n",
        "| `fake.random_number()`      | Generate a random number.                         |\n",
        "| `fake.boolean()`            | Generate a random boolean value.                  |\n",
        "| `fake.paragraph()`          | Generate a random paragraph.                      |\n",
        "| `fake.word_list()`          | Generate a list of random words.                 |\n",
        "| `fake.unique.random_number()`| Generate a unique random number.                 |\n",
        "| `fake.unique.random_element()`| Generate a unique random element from a list.   |\n",
        "\n",
        "</div>"
      ]
    },
    {
      "cell_type": "code",
      "execution_count": 44,
      "metadata": {
        "id": "p_upkcpwOYBL"
      },
      "outputs": [],
      "source": [
        "class CustomProvider(BaseProvider):\n",
        "\n",
        "    def subsector(self):\n",
        "        subsectors = [\"Bakery Supplies\", \"Candy & Chocolate\", \"Dessert Mixes\", \"Ice Cream Ingredients\",\n",
        "                              \"Packaged Sweets\", \"Pastry Ingredients\", \"Sweeteners\", \"Toppings & Decorations\"]\n",
        "        return self.random_element(subsectors)\n",
        "\n",
        "    def category(self):\n",
        "        categorys = [\"Cake\", \"Cookie\", \"Chocolate\", \"Pastry\", \"Candy\", \"Dessert\", \"Sweet\", \"Fudge\", \"Treat\", \"Confectionery\",\n",
        "                       \"Bakery\", \"Pie\", \"Ice Cream\", \"Caramel\", \"Marshmallow\", \"Gumdrop\", \"Lollipop\", \"Truffle\", \"Pudding\",\n",
        "                       \"Macaron\", \"Cupcake\", \"Brownie\", \"Tart\", \"Donut\", \"Frosting\", \"Creme\", \"Jelly\", \"Syrup\", \"Fruitcake\"]\n",
        "        return self.random_element(categorys)\n",
        "\n",
        "    def brand(self):\n",
        "        brands = [\"Zypher\", \"Exquinox\", \"Vintura\", \"Quentro\", \"Travala\", \"Nexxon\", \"Delisio\", \"Zemora\", \"Aurora\", \"Novata\"]\n",
        "        return self.random_element(brands)\n",
        "\n",
        "fake.add_provider(CustomProvider)"
      ]
    },
    {
      "cell_type": "markdown",
      "metadata": {
        "id": "8cMXkdRDu3Fi"
      },
      "source": [
        "### Define random dataframe generate functions"
      ]
    },
    {
      "cell_type": "code",
      "execution_count": 45,
      "metadata": {
        "id": "EJ89tKDMu2sW"
      },
      "outputs": [],
      "source": [
        "def generate_random_df(random_info_generator: callable, custom_schema:StructType, num_records:int = 200, seed_num:int = None):\n",
        "    # Set the random seed for reproducibility\n",
        "    if seed_num is None: seed_num = randint(1, 999)\n",
        "    seed(seed_num)\n",
        "    Faker.seed(seed_num)\n",
        "\n",
        "    # Generate the list of dictionaries\n",
        "    data = [random_info_generator() for _ in range(num_records)]\n",
        "    # Create an RDD from the list of dictionaries\n",
        "    rdd = spark.sparkContext.parallelize(data)\n",
        "    # Convert the RDD to a DataFrame\n",
        "    return rdd.toDF(custom_schema)\n",
        "\n",
        "def generate_random_df_large_data(random_info_generator: callable, custom_schema: StructType, num_records: int = 400_000, checkpoint: int = 100_000, first_loop: bool = True, seed_num:int = None):\n",
        "    # Set the random seed for reproducibility\n",
        "    if seed_num is None: seed_num = randint(1, 999)\n",
        "    seed_num += 1\n",
        "    seed(seed_num)\n",
        "    Faker.seed(seed_num)\n",
        "\n",
        "    # Generate a list of dictionaries using the provided random_info_generator function\n",
        "    data = [random_info_generator() for _ in range(min(num_records, checkpoint))]\n",
        "\n",
        "    # Convert the list of dictionaries to an RDD\n",
        "    rdd = spark.sparkContext.parallelize(data)\n",
        "\n",
        "    # Convert the RDD to a DataFrame using the provided custom_schema\n",
        "    df = rdd.toDF(custom_schema)\n",
        "\n",
        "    # Checkpoint the DataFrame every `checkpoint` records\n",
        "    # This helps to manage memory usage and avoid out-of-memory errors\n",
        "    # when dealing with large datasets\n",
        "    if num_records > checkpoint:\n",
        "        num_records -= checkpoint\n",
        "        generate_random_df(random_info_generator, custom_schema, num_records, checkpoint, False)\n",
        "\n",
        "    # Write the DataFrame to a delta table\n",
        "    # If this is the first loop, overwrite the existing table\n",
        "    # Otherwise, append the new records to the existing table\n",
        "    match first_loop:\n",
        "        case True: df.write.format(\"delta\").mode(\"overwrite\").save(r\"/content/delta_table\")\n",
        "        case False: df.write.format(\"delta\").mode(\"append\").save(r\"/content/delta_table\")\n",
        "\n",
        "    # Delete the DataFrame from memory to free up resources\n",
        "    del df\n",
        "\n",
        "    # Read the delta table back into a DataFrame\n",
        "    df_final = spark.read.format(\"delta\").load(r\"/content/delta_table\")\n",
        "\n",
        "    # Return the final DataFrame\n",
        "    return df_final"
      ]
    },
    {
      "cell_type": "markdown",
      "metadata": {
        "id": "AfKYM_PVhb-e"
      },
      "source": [
        "### Define functions for data generation"
      ]
    },
    {
      "cell_type": "code",
      "execution_count": 51,
      "metadata": {
        "id": "2cRUVCnVhtAk"
      },
      "outputs": [],
      "source": [
        "def create_random_product_info() -> dict:\n",
        "\n",
        "    subsector = choice([\"Bakery Supplies\", \"Candy & Chocolate\", \"Dessert Mixes\", \"Ice Cream Ingredients\",\n",
        "                              \"Packaged Sweets\", \"Pastry Ingredients\", \"Sweeteners\", \"Toppings & Decorations\"])\n",
        "\n",
        "    # Wybierz losową kategorię spośród 30 produktów cukierniczych\n",
        "    category = choice([\"Cake\", \"Cookie\", \"Chocolate\", \"Pastry\", \"Candy\", \"Dessert\", \"Sweet\", \"Fudge\", \"Treat\", \"Confectionery\",\n",
        "                       \"Bakery\", \"Pie\", \"Ice Cream\", \"Caramel\", \"Marshmallow\", \"Gumdrop\", \"Lollipop\", \"Truffle\", \"Pudding\",\n",
        "                       \"Macaron\", \"Cupcake\", \"Brownie\", \"Tart\", \"Donut\", \"Frosting\", \"Creme\", \"Jelly\", \"Syrup\", \"Fruitcake\"])\n",
        "\n",
        "    # Wybierz losową nieistniejącą markę spośród 10 marek\n",
        "    brand = choice([\"Zypher\", \"Exquinox\", \"Vintura\", \"Quentro\", \"Travala\", \"Nexxon\", \"Delisio\", \"Zemora\", \"Aurora\", \"Novata\"])\n",
        "\n",
        "    return {\n",
        "        \"Product_ID\": str(randint(1000, 9999)),\n",
        "        \"Subsector\": fake.subsector(),\n",
        "        \"Category\": fake.category(),\n",
        "        \"Brand\": fake.brand(),\n",
        "        \"Material_ID\": randint(10000, 99999),\n",
        "        \"Description\": fake.text(max_nb_chars=100),\n",
        "        \"Weight\": float(round(fake.random_number(digits=2, fix_len=False), 2)),\n",
        "        \"Shelf_Life\": randint(30, 365),\n",
        "        \"Supplier_ID\": randint(1, 35),\n",
        "    }\n",
        "\n",
        "def generate_random_transaction_info() -> dict:\n",
        "    start_date = datetime.strptime(\"2012-01-01\", '%Y-%m-%d')\n",
        "    end_date = datetime.strptime(\"2030-12-31\", '%Y-%m-%d')\n",
        "    validity_date_from = fake.date_time_between(start_date=start_date, end_date=end_date)\n",
        "    validity_date_to = fake.date_time_between(start_date=validity_date_from, end_date=end_date)\n",
        "    sales_end_date = validity_date_to if randint(1, 100) <= 80 else None\n",
        "\n",
        "    return {\n",
        "        \"Supplier_ID\": randint(1, 35),\n",
        "        \"Countries_of_Sale\": fake.country_code(),\n",
        "        \"Transaction_ID\": choice(uuid_list),\n",
        "        \"Sales_Initiation_Date\": validity_date_from,\n",
        "        \"Sales_End_Date\": sales_end_date,\n",
        "    }\n",
        "\n",
        "def generate_financial_data_info():\n",
        "\n",
        "    profit_ytd = round(uniform(10000, 1000000), 2)\n",
        "    profit_last_2_years = round(profit_ytd + uniform(0, 500000), 2)\n",
        "    profit_last_year = round(uniform(profit_last_2_years, profit_ytd), 2)\n",
        "    profit_last_month = round(uniform(profit_last_year * 0.8, profit_last_year), 2)\n",
        "    profit_last_week = round(uniform(profit_last_month * 0.8, profit_last_month), 2)\n",
        "    market_value = round(uniform(profit_last_week * 1.2, profit_last_week * 2), 2)\n",
        "\n",
        "    return {\n",
        "        \"Transaction_ID\": choice(uuid_list),\n",
        "        \"Profit_YTD\": profit_ytd,\n",
        "        \"Profit_Last_2_Years\": profit_last_2_years,\n",
        "        \"Profit_Last_Year\": profit_last_year,\n",
        "        \"Profit_Last_Month\": profit_last_month,\n",
        "        \"Profit_Last_Week\": profit_last_week,\n",
        "        \"Market_Value\": market_value\n",
        "    }"
      ]
    },
    {
      "cell_type": "markdown",
      "metadata": {
        "id": "UmonxVqzgraT"
      },
      "source": [
        "# Define variable for data generation"
      ]
    },
    {
      "cell_type": "code",
      "execution_count": 52,
      "metadata": {
        "id": "iWZNMDvVgq66"
      },
      "outputs": [],
      "source": [
        "uuid_list = [fake.uuid4() for _ in range(1_200_000)]\n",
        "\n",
        "suplier_mapping = {\n",
        "    '1': 'Taylor and Sons',\n",
        "    '2': 'Fischer, Harper and Collins',\n",
        "    '3': 'Burns, Brewer and Valdez',\n",
        "    '4': 'Li-Harris',\n",
        "    '5': 'Thompson-Medina',\n",
        "    '6': 'Brock Ltd',\n",
        "    '7': 'Rocha-Harris',\n",
        "    '8': 'Andrade, Boone and Alvarez',\n",
        "    '9': 'Hurst Ltd',\n",
        "    '10': 'Owens-Morrison',\n",
        "    '11': 'Jones, Bradley and Davis',\n",
        "    '12': 'Nichols, Mejia and Smith',\n",
        "    '13': 'Miller, Jones and Moyer',\n",
        "    '14': 'Good and Sons',\n",
        "    '15': 'Rodgers-Johnston',\n",
        "    '16': 'Potts, Allen and Jones',\n",
        "    '17': 'Franklin, Weber and Parrish',\n",
        "    '18': 'Carter, Martinez and Sullivan',\n",
        "    '19': 'Ryan and Sons',\n",
        "    '20': 'Paul, King and Nichols',\n",
        "    '21': 'Marshall-Patterson',\n",
        "    '22': 'Carr-Griffith',\n",
        "    '23': 'Russell, Newman and Long',\n",
        "    '24': 'Reed-Long',\n",
        "    '25': 'Walters, Mcguire and Hampton',\n",
        "    '26': 'Martinez and Sons',\n",
        "    '27': 'Whitehead-Berg',\n",
        "    '28': 'Ross, Hopkins and Thomas',\n",
        "    '29': 'Garza-Scott',\n",
        "    '30': 'Williams-Turner',\n",
        "    '31': 'Taylor-Anderson',\n",
        "    '32': 'Rivera-Edwards',\n",
        "    '33': 'Johns Group',\n",
        "    '34': 'Guzman, Page and Gregory',\n",
        "    '35': 'Gordon Inc'\n",
        "}\n",
        "\n"
      ]
    },
    {
      "cell_type": "markdown",
      "metadata": {
        "id": "8vKIm8gVh0s-"
      },
      "source": [
        "# Define schema for data generation"
      ]
    },
    {
      "cell_type": "markdown",
      "metadata": {
        "id": "w2ZsXe_b0a7D"
      },
      "source": [
        "Data type for schema\n",
        "\n",
        "| Data type               | Value type in Python         | API to access or create a data type       |\n",
        "|-------------------------|------------------------------|------------------------------------------|\n",
        "| ByteType                | int or long                   | `ByteType()`                             |\n",
        "| ShortType               | int or long                   | `ShortType()`                            |\n",
        "| IntegerType             | int or long                   | `IntegerType()`                          |\n",
        "| LongType                | long                         | `LongType()`                             |\n",
        "| FloatType               | float                        | `FloatType()`                            |\n",
        "| DoubleType              | float                        | `DoubleType()`                           |\n",
        "| DecimalType             | decimal.Decimal               | `DecimalType()`                          |\n",
        "| StringType              | string                       | `StringType()`                           |\n",
        "| BinaryType              | bytearray                    | `BinaryType()`                           |\n",
        "| BooleanType             | bool                         | `BooleanType()`                          |\n",
        "| TimestampType           | datetime.datetime             | `TimestampType()`                        |\n",
        "| TimestampNTZType        | datetime.datetime             | `TimestampNTZType()`                     |\n",
        "| DateType                | datetime.date                 | `DateType()`                             |\n",
        "| DayTimeIntervalType     | datetime.timedelta            | `DayTimeIntervalType()`                  |\n",
        "| ArrayType               | list, tuple, or array         | `ArrayType(elementType, [containsNull])` |\n",
        "| MapType                 | dict                         | `MapType(keyType, valueType, [valueContainsNull])` |\n",
        "| StructType              | list or tuple                 | `StructType(fields)`                     |\n",
        "| StructField             | The value type in Python of the data type of this field (e.g., Int for a StructField with the data type IntegerType) | `StructField(name, dataType, [nullable])` |\n",
        "| UserDefinedType (UDT)   | User-defined                 | -                                        |\n",
        "| ObjectType              | Python object                 | -                                        |\n",
        "| VectorUDT               | Vector                        | -                                        |\n",
        "| ImageType               | Image                         | -                                        |\n",
        "| NoneType                | None                         | -                                        |\n"
      ]
    },
    {
      "cell_type": "code",
      "execution_count": 53,
      "metadata": {
        "id": "Z15Qonn0hbQf"
      },
      "outputs": [],
      "source": [
        "product_schema = StructType([\n",
        "    StructField(\"Product_ID\", StringType(), nullable=True),\n",
        "    StructField(\"Subsector\", StringType(), nullable=True),\n",
        "    StructField(\"Category\", StringType(), nullable=True),\n",
        "    StructField(\"Brand\", StringType(), nullable=True),\n",
        "    StructField(\"Material_ID\", IntegerType(), nullable=True),\n",
        "    StructField(\"Description\", StringType(), nullable=True),\n",
        "    StructField(\"Weight\", FloatType(), nullable=True),\n",
        "    StructField(\"Shelf_Life\", IntegerType(), nullable=True),\n",
        "    StructField(\"Supplier_ID\", IntegerType(), nullable=True)\n",
        "])\n",
        "\n",
        "product_suplier_schema = StructType([\n",
        "    StructField(\"Supplier_ID\", IntegerType(), True),\n",
        "    StructField(\"Supplier_Name\", StringType(), True),\n",
        "    StructField(\"Country_of_Distribution\", StringType(), True),\n",
        "])\n",
        "\n",
        "transaction_schema = StructType([\n",
        "    StructField(\"Supplier_ID\", IntegerType(), nullable=False),\n",
        "    StructField(\"Countries_of_Sale\", StringType(), nullable=False),\n",
        "    StructField(\"Transaction_ID\", StringType(), nullable=False),\n",
        "    StructField(\"Sales_Initiation_Date\", DateType(), True),\n",
        "    StructField(\"Sales_End_Date\", DateType(), True),\n",
        "])\n",
        "\n",
        "\n",
        "financial_schema = StructType([\n",
        "    StructField(\"Transaction_ID\", StringType(), nullable=False),\n",
        "    StructField(\"Profit_YTD\", FloatType(), nullable=False),\n",
        "    StructField(\"Profit_Last_2_Years\", FloatType(), nullable=False),\n",
        "    StructField(\"Profit_Last_Year\", FloatType(), nullable=False),\n",
        "    StructField(\"Profit_Last_Month\", FloatType(), nullable=False),\n",
        "    StructField(\"Profit_Last_Week\", FloatType(), nullable=False),\n",
        "    StructField(\"Market_Value\", FloatType(), nullable=False)\n",
        "])"
      ]
    },
    {
      "cell_type": "markdown",
      "metadata": {
        "id": "EutBbpRmhvI_"
      },
      "source": [
        "# Generate random data"
      ]
    },
    {
      "cell_type": "markdown",
      "metadata": {
        "id": "BLoVH962kTdh"
      },
      "source": [
        "### Generate randome product"
      ]
    },
    {
      "cell_type": "code",
      "execution_count": 54,
      "metadata": {
        "colab": {
          "base_uri": "https://localhost:8080/"
        },
        "id": "ktjreEo1QSaB",
        "outputId": "9c35c5ca-e587-40b9-95f8-772a301b62da"
      },
      "outputs": [
        {
          "output_type": "stream",
          "name": "stdout",
          "text": [
            "count:  5839\n",
            "+----------+--------------------+-------------+--------+-----------+--------------------+------+----------+-----------+\n",
            "|Product_ID|           Subsector|     Category|   Brand|Material_ID|         Description|Weight|Shelf_Life|Supplier_ID|\n",
            "+----------+--------------------+-------------+--------+-----------+--------------------+------+----------+-----------+\n",
            "|      1000|          Sweeteners|      Truffle|Exquinox|      53354|Budget suffer he ...|  70.0|       190|          2|\n",
            "|      1003|Ice Cream Ingredi...|    Chocolate| Travala|      23334|Certainly only on...|   5.0|        47|         19|\n",
            "|      1004|Toppings & Decora...|      Cupcake| Travala|      83556|Like oil room sav...|  40.0|       135|         13|\n",
            "|      1005|   Candy & Chocolate|      Gumdrop|  Novata|      45564|I area image exec...|  87.0|        30|         27|\n",
            "|      1007|  Pastry Ingredients|        Creme|  Aurora|      74387|Old establish Mr ...|  66.0|       291|         14|\n",
            "|      1008|   Candy & Chocolate|         Cake|  Aurora|      30336|Despite everyone ...|  36.0|       340|         20|\n",
            "|      1011|     Bakery Supplies|        Candy| Delisio|      23363|Gun skin wait. In...|  44.0|       116|         24|\n",
            "|      1012|       Dessert Mixes|    Fruitcake|  Zypher|      78015|Example relate sp...|  78.0|       120|          2|\n",
            "|      1015|  Pastry Ingredients|       Pastry| Travala|      86684|Energy capital di...|  56.0|        85|         15|\n",
            "|      1016|Ice Cream Ingredi...|         Tart|  Nexxon|      17244|Budget recently t...|  57.0|       173|          9|\n",
            "|      1017|          Sweeteners|        Donut| Delisio|      40183|Rise financial ba...|  97.0|        87|         34|\n",
            "|      1018|          Sweeteners|Confectionery|Exquinox|      81745|Put down represen...|  57.0|       361|         31|\n",
            "|      1020|  Pastry Ingredients|        Fudge|  Zemora|      50584|Daughter above fe...|   2.0|       158|         22|\n",
            "|      1022|   Candy & Chocolate|Confectionery| Travala|      87001|Attack world usua...|   2.0|       340|         30|\n",
            "|      1023|Ice Cream Ingredi...|       Pastry|Exquinox|      96554|Front picture pas...|  21.0|       115|          7|\n",
            "|      1025|          Sweeteners|       Cookie|  Aurora|      52211|Friend fill be ac...|  97.0|        85|         13|\n",
            "|      1027|  Pastry Ingredients|      Macaron| Travala|      48121|Open coach reach ...|  88.0|       144|          6|\n",
            "|      1028|     Packaged Sweets|        Treat|  Zypher|      15445|Hour case each tr...|   7.0|       175|         28|\n",
            "|      1030|  Pastry Ingredients|      Dessert|  Novata|      81826|Respond internati...|  52.0|       138|         27|\n",
            "|      1031|     Packaged Sweets|        Fudge|  Nexxon|      13743|Understand along ...|  10.0|       328|         12|\n",
            "+----------+--------------------+-------------+--------+-----------+--------------------+------+----------+-----------+\n",
            "only showing top 20 rows\n",
            "\n"
          ]
        }
      ],
      "source": [
        "df_product = generate_random_df(create_random_product_info, product_schema, 10_000)\n",
        "df_product = df_product.drop_duplicates(['Material_ID'])\n",
        "df_product = df_product.drop_duplicates(['Product_ID'])\n",
        "df_product.coalesce(1).write.mode('overwrite').option(\"header\", \"true\").csv(\"/content/product.csv\")\n",
        "print('count: ', df_product.count())\n",
        "df_product.show()\n",
        "del df_product"
      ]
    },
    {
      "cell_type": "markdown",
      "metadata": {
        "id": "XsLol5eokM9s"
      },
      "source": [
        "### Generate randome suplier mapping"
      ]
    },
    {
      "cell_type": "code",
      "source": [
        "data = [\n",
        "    (1, 'Taylor and Sons', fake.country_code()),\n",
        "    (2, 'Fischer, Harper and Collins', fake.country_code()),\n",
        "    (3, 'Burns, Brewer and Valdez', fake.country_code()),\n",
        "    (4, 'Li-Harris', fake.country_code()),\n",
        "    (5, 'Thompson-Medina', fake.country_code()),\n",
        "    (6, 'Brock Ltd', fake.country_code()),\n",
        "    (7, 'Rocha-Harris', fake.country_code()),\n",
        "    (8, 'Andrade, Boone and Alvarez', fake.country_code()),\n",
        "    (9, 'Hurst Ltd', fake.country_code()),\n",
        "    (10, 'Owens-Morrison', fake.country_code()),\n",
        "    (11, 'Jones, Bradley and Davis', fake.country_code()),\n",
        "    (12, 'Nichols, Mejia and Smith', fake.country_code()),\n",
        "    (13, 'Miller, Jones and Moyer', fake.country_code()),\n",
        "    (14, 'Good and Sons', fake.country_code()),\n",
        "    (15, 'Rodgers-Johnston', fake.country_code()),\n",
        "    (16, 'Potts, Allen and Jones', fake.country_code()),\n",
        "    (17, 'Franklin, Weber and Parrish', fake.country_code()),\n",
        "    (18, 'Carter, Martinez and Sullivan', fake.country_code()),\n",
        "    (19, 'Ryan and Sons', fake.country_code()),\n",
        "    (20, 'Paul, King and Nichols', fake.country_code()),\n",
        "    (21, 'Marshall-Patterson', fake.country_code()),\n",
        "    (22, 'Carr-Griffith', fake.country_code()),\n",
        "    (23, 'Russell, Newman and Long', fake.country_code()),\n",
        "    (24, 'Reed-Long', fake.country_code()),\n",
        "    (25, 'Walters, Mcguire and Hampton', fake.country_code()),\n",
        "    (26, 'Martinez and Sons', fake.country_code()),\n",
        "    (27, 'Whitehead-Berg', fake.country_code()),\n",
        "    (28, 'Ross, Hopkins and Thomas', fake.country_code()),\n",
        "    (29, 'Garza-Scott', fake.country_code()),\n",
        "    (30, 'Williams-Turner', fake.country_code()),\n",
        "    (31, 'Taylor-Anderson', fake.country_code()),\n",
        "    (32, 'Rivera-Edwards', fake.country_code()),\n",
        "    (33, 'Johns Group', fake.country_code()),\n",
        "    (34, 'Guzman, Page and Gregory', fake.country_code()),\n",
        "    (35, 'Gordon Inc', fake.country_code())\n",
        "]\n",
        "\n",
        "df_suplier = spark.createDataFrame(data, schema=product_suplier_schema)\n",
        "df_suplier.coalesce(1).write.mode('overwrite').option(\"header\", \"true\").csv(\"/content/suplier.csv\")\n",
        "print('count: ', df_suplier.count())\n",
        "df_suplier.show()\n",
        "del df_suplier"
      ],
      "metadata": {
        "colab": {
          "base_uri": "https://localhost:8080/"
        },
        "id": "F6vKE4nVhPz0",
        "outputId": "5634629e-5854-4f75-ad04-5847afa58c02"
      },
      "execution_count": 55,
      "outputs": [
        {
          "output_type": "stream",
          "name": "stdout",
          "text": [
            "count:  35\n",
            "+-----------+--------------------+-----------------------+\n",
            "|Supplier_ID|       Supplier_Name|Country_of_Distribution|\n",
            "+-----------+--------------------+-----------------------+\n",
            "|          1|     Taylor and Sons|                     KW|\n",
            "|          2|Fischer, Harper a...|                     SE|\n",
            "|          3|Burns, Brewer and...|                     HR|\n",
            "|          4|           Li-Harris|                     LA|\n",
            "|          5|     Thompson-Medina|                     CG|\n",
            "|          6|           Brock Ltd|                     HN|\n",
            "|          7|        Rocha-Harris|                     MM|\n",
            "|          8|Andrade, Boone an...|                     OM|\n",
            "|          9|           Hurst Ltd|                     MH|\n",
            "|         10|      Owens-Morrison|                     RS|\n",
            "|         11|Jones, Bradley an...|                     AF|\n",
            "|         12|Nichols, Mejia an...|                     LU|\n",
            "|         13|Miller, Jones and...|                     LV|\n",
            "|         14|       Good and Sons|                     SD|\n",
            "|         15|    Rodgers-Johnston|                     LV|\n",
            "|         16|Potts, Allen and ...|                     KN|\n",
            "|         17|Franklin, Weber a...|                     MX|\n",
            "|         18|Carter, Martinez ...|                     CL|\n",
            "|         19|       Ryan and Sons|                     GR|\n",
            "|         20|Paul, King and Ni...|                     LY|\n",
            "+-----------+--------------------+-----------------------+\n",
            "only showing top 20 rows\n",
            "\n"
          ]
        }
      ]
    },
    {
      "cell_type": "markdown",
      "metadata": {
        "id": "JRkn1Fyp_ln_"
      },
      "source": [
        "### Generate randome transactions"
      ]
    },
    {
      "cell_type": "code",
      "execution_count": 56,
      "metadata": {
        "id": "ai9Q1QqilJUE",
        "colab": {
          "base_uri": "https://localhost:8080/"
        },
        "outputId": "728e9cbe-4c83-424d-e45d-58a29b7e1a19"
      },
      "outputs": [
        {
          "output_type": "stream",
          "name": "stdout",
          "text": [
            "count:  19829\n",
            "+-----------+-----------------+--------------------+---------------------+--------------+\n",
            "|Supplier_ID|Countries_of_Sale|      Transaction_ID|Sales_Initiation_Date|Sales_End_Date|\n",
            "+-----------+-----------------+--------------------+---------------------+--------------+\n",
            "|         34|               EG|0002c849-6b56-401...|           2028-03-28|    2029-11-12|\n",
            "|         27|               AF|00038d88-e02d-428...|           2014-02-02|    2014-07-30|\n",
            "|         29|               GR|0003ad68-232d-412...|           2019-07-24|    2022-10-14|\n",
            "|          3|               ST|00196d17-999b-445...|           2023-12-08|    2026-04-28|\n",
            "|         15|               AU|001cfb10-7eb7-471...|           2024-06-25|    2027-10-17|\n",
            "|         26|               TG|00202819-d8f5-429...|           2030-02-25|    2030-07-03|\n",
            "|         22|               HU|00226cde-66bc-46d...|           2026-12-25|    2029-06-11|\n",
            "|          3|               AE|00237628-054b-487...|           2015-10-01|          NULL|\n",
            "|          3|               TH|00287aa3-8b65-437...|           2012-01-30|    2023-10-21|\n",
            "|         24|               UY|002eca5f-4c64-4bb...|           2017-03-22|    2023-07-25|\n",
            "|          2|               VU|00345459-51bd-4ac...|           2029-01-25|          NULL|\n",
            "|         13|               TZ|0035614f-c649-4d8...|           2019-05-19|    2021-10-19|\n",
            "|         17|               NP|003baf8c-690e-4d4...|           2027-04-25|    2030-03-08|\n",
            "|         17|               MM|004360ee-313d-4b8...|           2028-08-01|    2029-01-19|\n",
            "|         28|               CH|00436fdf-4ffa-41c...|           2022-04-27|    2026-12-24|\n",
            "|          5|               AE|00458dd1-8892-44c...|           2029-04-15|    2029-06-16|\n",
            "|         19|               NO|0045f7af-be06-43a...|           2024-05-28|    2025-05-19|\n",
            "|         34|               SD|0047053d-b265-408...|           2024-08-17|    2026-08-14|\n",
            "|          8|               AU|004f38ae-aa00-47f...|           2019-06-28|    2025-09-16|\n",
            "|         27|               BR|00534f2e-f917-4c8...|           2024-12-01|          NULL|\n",
            "+-----------+-----------------+--------------------+---------------------+--------------+\n",
            "only showing top 20 rows\n",
            "\n"
          ]
        }
      ],
      "source": [
        "df_transactions = generate_random_df(generate_random_transaction_info, transaction_schema, 20_000)\n",
        "df_transactions = df_transactions.dropDuplicates(['Transaction_ID'])\n",
        "df_transactions.coalesce(1).write.mode('overwrite').option(\"header\", \"true\").csv(\"/content/transactions.csv\")\n",
        "print('count: ', df_transactions.count())\n",
        "df_transactions.show()\n",
        "del df_transactions"
      ]
    },
    {
      "cell_type": "markdown",
      "metadata": {
        "id": "AmovHxVECCdT"
      },
      "source": [
        "### Generate randome financial data"
      ]
    },
    {
      "cell_type": "code",
      "execution_count": 57,
      "metadata": {
        "colab": {
          "base_uri": "https://localhost:8080/"
        },
        "id": "mkcRDjuVeGve",
        "outputId": "a0787b20-a61b-4700-8647-462b36061035"
      },
      "outputs": [
        {
          "output_type": "stream",
          "name": "stdout",
          "text": [
            "count:  20\n",
            "+--------------------+----------+-------------------+----------------+-----------------+----------------+------------+\n",
            "|      Transaction_ID|Profit_YTD|Profit_Last_2_Years|Profit_Last_Year|Profit_Last_Month|Profit_Last_Week|Market_Value|\n",
            "+--------------------+----------+-------------------+----------------+-----------------+----------------+------------+\n",
            "|3252b547-d2e4-4ac...|  532019.5|           706526.5|        576398.1|        528321.94|        508730.7|    935981.3|\n",
            "|837693b7-feaa-44b...|  760459.9|           769672.1|       763481.56|         617695.9|        568975.6|   794742.75|\n",
            "|4abae8eb-2b6e-4ab...| 896794.75|          1370265.5|        972939.3|         889168.9|       724042.75|   1406677.6|\n",
            "|3c920fa6-f61d-4fe...| 262267.25|          282555.47|       280586.22|         262912.5|       251934.28|    484347.5|\n",
            "|5579bc93-bb6d-4dd...|   46472.4|           459703.6|        340642.7|        338823.75|       313256.72|   470994.34|\n",
            "|3a274d8e-ade6-49b...| 270534.06|          548283.56|       367639.97|        330674.88|        270679.7|   404318.97|\n",
            "|034b8d2a-b657-460...|  897111.6|          1246082.9|       1196881.5|        1056833.1|      1020938.94|   2005978.0|\n",
            "|f0f8637f-9fc6-4dd...| 473764.34|          803608.25|       519216.75|        505698.38|       470270.75|    743905.4|\n",
            "|47546222-b2e6-452...|  380293.1|           734873.6|       391813.72|        340037.78|       322047.97|   401990.16|\n",
            "|4f4db267-adeb-4f5...| 316489.47|           644467.9|       350130.12|        323901.88|       276045.53|   452454.34|\n",
            "|32a5fc34-6e65-469...| 906467.06|          1276246.0|        941319.7|         916568.6|        880383.9|   1369934.1|\n",
            "|03f87307-893e-444...| 424281.97|           919760.0|        870126.5|         703032.5|        611753.1|    904408.8|\n",
            "|3fc693bf-5f30-48a...| 513645.84|           966194.5|        557934.5|        479384.03|       470208.12|   863438.94|\n",
            "|9fcaebd7-3dda-45e...|  89101.13|          481902.84|       223406.77|        192497.72|       167107.31|   322296.03|\n",
            "|8f11150a-4607-42f...|  997587.3|          1006230.1|      1005411.94|         960821.2|        840798.2|   1519288.8|\n",
            "|f57da1a4-cc1e-439...|  21105.19|          299948.44|       200759.92|         195879.4|       157313.69|    224305.4|\n",
            "|5d46e727-5ccd-429...| 164681.58|          387798.06|       287801.62|        235205.45|       223750.53|   271908.66|\n",
            "|2de7da61-eb01-40a...|  631318.4|           956585.0|       852605.75|        740756.75|        733352.8|   1163873.2|\n",
            "|24097e07-457d-4df...| 688628.06|          749006.06|        743503.6|         645468.2|        590979.8|   1146124.4|\n",
            "|6ede6fc7-2295-49c...| 627466.44|          922121.25|        697446.3|        583042.56|        523464.1|    639473.6|\n",
            "+--------------------+----------+-------------------+----------------+-----------------+----------------+------------+\n",
            "\n"
          ]
        }
      ],
      "source": [
        "df_financial = generate_random_df(generate_financial_data_info, financial_schema, 20)\n",
        "df_financial = df_financial.dropDuplicates(['Transaction_ID'])\n",
        "df_financial.coalesce(1).write.mode('overwrite').option(\"header\", \"true\").csv(\"/content/financial.csv\")\n",
        "print('count: ', df_financial.count())\n",
        "df_financial.show()\n",
        "del df_financial"
      ]
    }
  ],
  "metadata": {
    "colab": {
      "collapsed_sections": [
        "vQZv_Dkk9X_Z",
        "3tqUz-CK9c0s",
        "21RS7KF5siax",
        "8cMXkdRDu3Fi"
      ],
      "provenance": [],
      "authorship_tag": "ABX9TyMgUoCy1sKoMpyMZyaBv4Pp",
      "include_colab_link": true
    },
    "kernelspec": {
      "display_name": "Python 3",
      "name": "python3"
    },
    "language_info": {
      "name": "python"
    }
  },
  "nbformat": 4,
  "nbformat_minor": 0
}