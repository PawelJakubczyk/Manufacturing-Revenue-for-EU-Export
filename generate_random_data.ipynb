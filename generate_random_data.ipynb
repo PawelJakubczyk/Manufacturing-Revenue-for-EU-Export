{
  "cells": [
    {
      "cell_type": "markdown",
      "metadata": {
        "id": "view-in-github",
        "colab_type": "text"
      },
      "source": [
        "<a href=\"https://colab.research.google.com/github/PawelJakubczyk/Manufacturing-Revenue-for-EU-Export/blob/main/generate_random_data.ipynb\" target=\"_parent\"><img src=\"https://colab.research.google.com/assets/colab-badge.svg\" alt=\"Open In Colab\"/></a>"
      ]
    },
    {
      "cell_type": "markdown",
      "metadata": {
        "id": "vQZv_Dkk9X_Z"
      },
      "source": [
        "# Instal library"
      ]
    },
    {
      "cell_type": "code",
      "execution_count": 3,
      "metadata": {
        "colab": {
          "base_uri": "https://localhost:8080/"
        },
        "id": "6Rx7DyFK7VIv",
        "outputId": "6c3e9178-3f35-485a-c61a-4cd1873521b6"
      },
      "outputs": [
        {
          "output_type": "stream",
          "name": "stdout",
          "text": [
            "Collecting faker\n",
            "  Downloading Faker-22.6.0-py3-none-any.whl (1.7 MB)\n",
            "\u001b[?25l     \u001b[90m━━━━━━━━━━━━━━━━━━━━━━━━━━━━━━━━━━━━━━━━\u001b[0m \u001b[32m0.0/1.7 MB\u001b[0m \u001b[31m?\u001b[0m eta \u001b[36m-:--:--\u001b[0m\r\u001b[2K     \u001b[91m━━━━\u001b[0m\u001b[91m╸\u001b[0m\u001b[90m━━━━━━━━━━━━━━━━━━━━━━━━━━━━━━━━━━━\u001b[0m \u001b[32m0.2/1.7 MB\u001b[0m \u001b[31m5.9 MB/s\u001b[0m eta \u001b[36m0:00:01\u001b[0m\r\u001b[2K     \u001b[91m━━━━━━━━━━━━━━━━━━━━━━━━━━━━━━━━━━━━━━━\u001b[0m\u001b[91m╸\u001b[0m \u001b[32m1.7/1.7 MB\u001b[0m \u001b[31m26.6 MB/s\u001b[0m eta \u001b[36m0:00:01\u001b[0m\r\u001b[2K     \u001b[90m━━━━━━━━━━━━━━━━━━━━━━━━━━━━━━━━━━━━━━━━\u001b[0m \u001b[32m1.7/1.7 MB\u001b[0m \u001b[31m20.7 MB/s\u001b[0m eta \u001b[36m0:00:00\u001b[0m\n",
            "\u001b[?25hRequirement already satisfied: python-dateutil>=2.4 in /usr/local/lib/python3.10/dist-packages (from faker) (2.8.2)\n",
            "Requirement already satisfied: six>=1.5 in /usr/local/lib/python3.10/dist-packages (from python-dateutil>=2.4->faker) (1.16.0)\n",
            "Installing collected packages: faker\n",
            "Successfully installed faker-22.6.0\n",
            "Collecting pyspark\n",
            "  Downloading pyspark-3.5.0.tar.gz (316.9 MB)\n",
            "\u001b[2K     \u001b[90m━━━━━━━━━━━━━━━━━━━━━━━━━━━━━━━━━━━━━━━━\u001b[0m \u001b[32m316.9/316.9 MB\u001b[0m \u001b[31m4.5 MB/s\u001b[0m eta \u001b[36m0:00:00\u001b[0m\n",
            "\u001b[?25h  Preparing metadata (setup.py) ... \u001b[?25l\u001b[?25hdone\n",
            "Requirement already satisfied: py4j==0.10.9.7 in /usr/local/lib/python3.10/dist-packages (from pyspark) (0.10.9.7)\n",
            "Building wheels for collected packages: pyspark\n",
            "  Building wheel for pyspark (setup.py) ... \u001b[?25l\u001b[?25hdone\n",
            "  Created wheel for pyspark: filename=pyspark-3.5.0-py2.py3-none-any.whl size=317425345 sha256=38f55d73ca2ccb0603eda3518fc615729bc0aec90b8a98363b8c1b3521c19e9b\n",
            "  Stored in directory: /root/.cache/pip/wheels/41/4e/10/c2cf2467f71c678cfc8a6b9ac9241e5e44a01940da8fbb17fc\n",
            "Successfully built pyspark\n",
            "Installing collected packages: pyspark\n",
            "Successfully installed pyspark-3.5.0\n",
            "Collecting delta-spark\n",
            "  Downloading delta_spark-3.1.0-py3-none-any.whl (21 kB)\n",
            "Requirement already satisfied: pyspark<3.6.0,>=3.5.0 in /usr/local/lib/python3.10/dist-packages (from delta-spark) (3.5.0)\n",
            "Requirement already satisfied: importlib-metadata>=1.0.0 in /usr/local/lib/python3.10/dist-packages (from delta-spark) (7.0.1)\n",
            "Requirement already satisfied: zipp>=0.5 in /usr/local/lib/python3.10/dist-packages (from importlib-metadata>=1.0.0->delta-spark) (3.17.0)\n",
            "Requirement already satisfied: py4j==0.10.9.7 in /usr/local/lib/python3.10/dist-packages (from pyspark<3.6.0,>=3.5.0->delta-spark) (0.10.9.7)\n",
            "Installing collected packages: delta-spark\n",
            "Successfully installed delta-spark-3.1.0\n"
          ]
        }
      ],
      "source": [
        "%pip install faker\n",
        "%pip install pyspark\n",
        "%pip install delta-spark"
      ]
    },
    {
      "cell_type": "markdown",
      "metadata": {
        "id": "3tqUz-CK9c0s"
      },
      "source": [
        "# Import library & star session"
      ]
    },
    {
      "cell_type": "code",
      "execution_count": 4,
      "metadata": {
        "id": "Jj6v8qT19eqb"
      },
      "outputs": [],
      "source": [
        "from pyspark.sql import SparkSession\n",
        "from pyspark.sql.types import ArrayType, StructType, StructField, StringType, DateType, DecimalType, IntegerType, NumericType, DoubleType, FloatType\n",
        "from py4j.protocol import Py4JJavaError\n",
        "from delta import configure_spark_with_delta_pip\n",
        "from datetime import datetime, timedelta, date\n",
        "from faker import Faker\n",
        "from faker.providers import BaseProvider\n",
        "from random import choice, uniform, randint, seed\n",
        "import string\n",
        "import re\n",
        "\n",
        "# Create a Spark session\n",
        "# spark = SparkSession.builder.master(\"local[*]\").getOrCreate()\n",
        "builder = SparkSession.builder \\\n",
        "    .appName('DeltaLakeLocal') \\\n",
        "    .config(\"spark.sql.extensions\", \"io.delta.sql.DeltaSparkSessionExtension\") \\\n",
        "    .config(\"spark.sql.catalog.spark_catalog\", \"org.apache.spark.sql.delta.catalog.DeltaCatalog\") \\\n",
        "\n",
        "spark = configure_spark_with_delta_pip(builder).getOrCreate()\n",
        "# Initialize Faker for generating fake data\n",
        "fake = Faker()"
      ]
    },
    {
      "cell_type": "markdown",
      "metadata": {
        "id": "oqF3okSmgzUa"
      },
      "source": [
        "# Define class and functions"
      ]
    },
    {
      "cell_type": "markdown",
      "metadata": {
        "id": "21RS7KF5siax"
      },
      "source": [
        "### Define provider and Utilities functions"
      ]
    },
    {
      "cell_type": "markdown",
      "metadata": {
        "id": "jJ-wL_qeyBdh"
      },
      "source": [
        "<style>\n",
        "  .tables {\n",
        "    display: flex;\n",
        "    justify-content: space-between;\n",
        "  }\n",
        "</style>\n",
        "\n",
        "<div class=\"tables\">\n",
        "\n",
        "| Function           | Description                                                                |\n",
        "|--------------------|----------------------------------------------------------------------------|\n",
        "| `seed()`           | Initialize the random number generator                                    |\n",
        "| `getstate()`       | Returns the current internal state of the random number generator          |\n",
        "| `setstate()`       | Restores the internal state of the random number generator                 |\n",
        "| `getrandbits()`    | Returns a number representing the random bits                               |\n",
        "| `randrange()`      | Returns a random number between the given range with an optional step argument |\n",
        "| `randint()`        | Returns a random number between the given range                              |\n",
        "| `choice()`         | Returns a random element from the given sequence                            |\n",
        "| `choices()`        | Returns a list with a random selection from the given sequence              |\n",
        "| `shuffle()`        | Takes a sequence and returns the sequence in a random order                  |\n",
        "| `sample()`         | Returns a given sample of a sequence                                         |\n",
        "| `random()`         | Returns a random float number between 0 and 1                                |\n",
        "| `uniform()`        | Returns a random float number between two given parameters                   |\n",
        "| `triangular()`     | Returns a random float number between two given parameters with an optional mode parameter |\n",
        "| `betavariate()`    | Returns a random float number between 0 and 1 based on the Beta distribution (used in statistics) |\n",
        "| `expovariate()`    | Returns a random float number based on the Exponential distribution (used in statistics) |\n",
        "| `gammavariate()`   | Returns a random float number based on the Gamma distribution (used in statistics) |\n",
        "| `gauss()`          | Returns a random float number based on the Gaussian distribution (used in probability theories) |\n",
        "| `lognormvariate()` | Returns a random float number based on a log-normal distribution (used in probability theories) |\n",
        "| `normalvariate()`  | Returns a random float number based on the normal distribution (used in probability theories) |\n",
        "| `vonmisesvariate()`| Returns a random float number based on the von Mises distribution (used in directional statistics) |\n",
        "| `paretovariate()`  | Returns a random float number based on the Pareto distribution (used in probability theories) |\n",
        "| `weibullvariate()` | Returns a random float number based on the Weibull distribution (used in statistics) |\n",
        "\n",
        "</div>\n",
        "<div class=\"tables\">\n",
        "\n",
        "| Faker Method                | Description                                       |\n",
        "|-----------------------------|---------------------------------------------------|\n",
        "| `fake.name()`               | Generate a random full name.                      |\n",
        "| `fake.address()`            | Generate a random address.                         |\n",
        "| `fake.email()`              | Generate a random email address.                  |\n",
        "| `fake.phone_number()`       | Generate a random phone number.                   |\n",
        "| `fake.date_of_birth()`      | Generate a random date of birth.                  |\n",
        "| `fake.company()`            | Generate a random company name.                   |\n",
        "| `fake.job()`                | Generate a random job title.                      |\n",
        "| `fake.text()`               | Generate random text.                             |\n",
        "| `fake.sentence()`           | Generate a random sentence.                       |\n",
        "| `fake.word()`               | Generate a random word.                           |\n",
        "| `fake.color_name()`         | Generate a random color name.                     |\n",
        "| `fake.credit_card_number()` | Generate a random credit card number.             |\n",
        "| `fake.url()`                | Generate a random URL.                            |\n",
        "| `fake.domain_name()`        | Generate a random domain name.                    |\n",
        "| `fake.ipv4()`               | Generate a random IPv4 address.                  |\n",
        "| `fake.country()`            | Generate a random country name.                   |\n",
        "| `fake.city()`               | Generate a random city name.                      |\n",
        "| `fake.state()`              | Generate a random state name.                     |\n",
        "| `fake.zipcode()`            | Generate a random ZIP code.                       |\n",
        "| `fake.currency_code()`      | Generate a random currency code.                  |\n",
        "| `fake.file_name()`          | Generate a random file name.                      |\n",
        "| `fake.image_url()`          | Generate a random image URL.                      |\n",
        "| `fake.random_element()`     | Generate a random element from a list.           |\n",
        "| `fake.random_number()`      | Generate a random number.                         |\n",
        "| `fake.boolean()`            | Generate a random boolean value.                  |\n",
        "| `fake.paragraph()`          | Generate a random paragraph.                      |\n",
        "| `fake.word_list()`          | Generate a list of random words.                 |\n",
        "| `fake.unique.random_number()`| Generate a unique random number.                 |\n",
        "| `fake.unique.random_element()`| Generate a unique random element from a list.   |\n",
        "\n",
        "</div>"
      ]
    },
    {
      "cell_type": "code",
      "execution_count": 5,
      "metadata": {
        "id": "p_upkcpwOYBL"
      },
      "outputs": [],
      "source": [
        "class CustomProvider(BaseProvider):\n",
        "    def industry(self):\n",
        "        industries = [\"Technology\", \"Finance\", \"Healthcare\", \"Manufacturing\", \"Retail\", \"Telecommunications\"]\n",
        "        return self.random_element(industries)\n",
        "\n",
        "    def phone_number_digits(self):\n",
        "        return int(re.sub(r'\\D', '', fake.phone_number()))\n",
        "\n",
        "    def gender(self):\n",
        "        gender = [\"Male\", \"Female\"]\n",
        "        return self.random_element(gender)\n",
        "\n",
        "    def marital_status(self):\n",
        "        marital_status = [\"Single\", \"Married\", \"Divorced\"]\n",
        "        return self.random_element(marital_status)\n",
        "\n",
        "    def employment_status(self):\n",
        "        employment_status = [\"Employed\", \"Unemployed\", \"Self-employed\"]\n",
        "        return self.random_element(employment_status)\n",
        "\n",
        "    def legal_status(self):\n",
        "        legal_status = [\"LLC\", \"Corporation\", \"Partnership\"]\n",
        "        return self.random_element(legal_status)\n",
        "\n",
        "    def product_status(self):\n",
        "        product_status = [\"On Hold\", \"Abandoned\", \"Completed\", \"\"]\n",
        "        return self.random_element(product_status)\n",
        "\n",
        "    def product_name(self):\n",
        "        adjectives = [\"Sleek\", \"Luxurious\", \"Stylish\", \"Innovative\", \"Premium\"]\n",
        "        nouns = [\"Chair\", \"Table\", \"Lamp\", \"Sofa\", \"Bed\"]\n",
        "        product_code = str(randint(1,99999)).zfill(5)\n",
        "\n",
        "        return f\"{choice(adjectives)} {choice(nouns)} - {product_code}\"\n",
        "\n",
        "    def department(self):\n",
        "        departments = [\"Sales\", \"Marketing\", \"Finance\", \"HR\", \"IT\", \"Operations\"]\n",
        "        return self.random_element(departments)\n",
        "\n",
        "fake.add_provider(CustomProvider)\n",
        "\n",
        "def calculate_age(birthdate: date) -> int:\n",
        "    today = date.today()\n",
        "    age = today.year - birthdate.year - ((today.month, today.day) < (birthdate.month, birthdate.day))\n",
        "    return age\n",
        "\n",
        "def format_date_for_pyspark(date_to_format):\n",
        "    return date_to_format.strftime(\"%Y-%m-%d %H:%M:%S\")"
      ]
    },
    {
      "cell_type": "markdown",
      "metadata": {
        "id": "8cMXkdRDu3Fi"
      },
      "source": [
        "### Define random dataframe generate functions"
      ]
    },
    {
      "cell_type": "code",
      "execution_count": 6,
      "metadata": {
        "id": "EJ89tKDMu2sW"
      },
      "outputs": [],
      "source": [
        "def generate_random_df(random_info_generator: callable, custom_schema:StructType, num_records:int = 200, seed_num:int = None):\n",
        "    # Set the random seed for reproducibility\n",
        "    if seed_num is None: seed_num = randint(1, 999)\n",
        "    seed(seed_num)\n",
        "    Faker.seed(seed_num)\n",
        "\n",
        "    # Generate the list of dictionaries\n",
        "    data = [random_info_generator() for _ in range(num_records)]\n",
        "    # Create an RDD from the list of dictionaries\n",
        "    rdd = spark.sparkContext.parallelize(data)\n",
        "    # Convert the RDD to a DataFrame\n",
        "    return rdd.toDF(custom_schema)\n",
        "\n",
        "def generate_random_df_large_data(random_info_generator: callable, custom_schema: StructType, num_records: int = 400_000, checkpoint: int = 100_000, first_loop: bool = True, seed_num:int = None):\n",
        "    # Set the random seed for reproducibility\n",
        "    if seed_num is None: seed_num = randint(1, 999)\n",
        "    seed_num += 1\n",
        "    seed(seed_num)\n",
        "    Faker.seed(seed_num)\n",
        "\n",
        "    # Generate a list of dictionaries using the provided random_info_generator function\n",
        "    data = [random_info_generator() for _ in range(min(num_records, checkpoint))]\n",
        "\n",
        "    # Convert the list of dictionaries to an RDD\n",
        "    rdd = spark.sparkContext.parallelize(data)\n",
        "\n",
        "    # Convert the RDD to a DataFrame using the provided custom_schema\n",
        "    df = rdd.toDF(custom_schema)\n",
        "\n",
        "    # Checkpoint the DataFrame every `checkpoint` records\n",
        "    # This helps to manage memory usage and avoid out-of-memory errors\n",
        "    # when dealing with large datasets\n",
        "    if num_records > checkpoint:\n",
        "        num_records -= checkpoint\n",
        "        generate_random_df(random_info_generator, custom_schema, num_records, checkpoint, False)\n",
        "\n",
        "    # Write the DataFrame to a delta table\n",
        "    # If this is the first loop, overwrite the existing table\n",
        "    # Otherwise, append the new records to the existing table\n",
        "    match first_loop:\n",
        "        case True: df.write.format(\"delta\").mode(\"overwrite\").save(r\"/content/delta_table\")\n",
        "        case False: df.write.format(\"delta\").mode(\"append\").save(r\"/content/delta_table\")\n",
        "\n",
        "    # Delete the DataFrame from memory to free up resources\n",
        "    del df\n",
        "\n",
        "    # Read the delta table back into a DataFrame\n",
        "    df_final = spark.read.format(\"delta\").load(r\"/content/delta_table\")\n",
        "\n",
        "    # Return the final DataFrame\n",
        "    return df_final"
      ]
    },
    {
      "cell_type": "markdown",
      "metadata": {
        "id": "AfKYM_PVhb-e"
      },
      "source": [
        "### Define functions for data generation"
      ]
    },
    {
      "cell_type": "code",
      "execution_count": 7,
      "metadata": {
        "id": "2cRUVCnVhtAk"
      },
      "outputs": [],
      "source": [
        "def create_random_product_info() -> dict:\n",
        "\n",
        "    subsector = choice([\"Bakery Supplies\", \"Candy & Chocolate\", \"Dessert Mixes\", \"Ice Cream Ingredients\",\n",
        "                              \"Packaged Sweets\", \"Pastry Ingredients\", \"Sweeteners\", \"Toppings & Decorations\"])\n",
        "\n",
        "    # Wybierz losową kategorię spośród 30 produktów cukierniczych\n",
        "    category = choice([\"Cake\", \"Cookie\", \"Chocolate\", \"Pastry\", \"Candy\", \"Dessert\", \"Sweet\", \"Fudge\", \"Treat\", \"Confectionery\",\n",
        "                       \"Bakery\", \"Pie\", \"Ice Cream\", \"Caramel\", \"Marshmallow\", \"Gumdrop\", \"Lollipop\", \"Truffle\", \"Pudding\",\n",
        "                       \"Macaron\", \"Cupcake\", \"Brownie\", \"Tart\", \"Donut\", \"Frosting\", \"Creme\", \"Jelly\", \"Syrup\", \"Fruitcake\"])\n",
        "\n",
        "    # Wybierz losową nieistniejącą markę spośród 10 marek\n",
        "    brand = choice([\"Zypher\", \"Exquinox\", \"Vintura\", \"Quentro\", \"Travala\", \"Nexxon\", \"Delisio\", \"Zemora\", \"Aurora\", \"Novata\"])\n",
        "\n",
        "    return {\n",
        "        \"Product_ID\": str(randint(1000, 9999)),\n",
        "        \"Subsector\": subsector,\n",
        "        \"Category\": category,\n",
        "        \"Brand\": brand,\n",
        "        \"Material_ID\": randint(10000, 99999),\n",
        "        \"Description\": fake.text(max_nb_chars=100),\n",
        "        \"Weight\": float(round(fake.random_number(digits=2, fix_len=False), 2)),\n",
        "        \"Shelf_Life\": randint(30, 365),\n",
        "        \"Supplier_ID\": randint(1, 35),\n",
        "    }\n",
        "\n",
        "def generate_random_transaction_info() -> dict:\n",
        "    start_date = datetime.strptime(\"2012-01-01\", '%Y-%m-%d')\n",
        "    end_date = datetime.strptime(\"2030-12-31\", '%Y-%m-%d')\n",
        "    validity_date_from = fake.date_time_between(start_date=start_date, end_date=end_date)\n",
        "    validity_date_to = fake.date_time_between(start_date=validity_date_from, end_date=end_date)\n",
        "    sales_end_date = validity_date_to if randint(1, 100) <= 80 else None\n",
        "\n",
        "    return {\n",
        "        \"Supplier_ID\": randint(1, 35),\n",
        "        \"Countries_of_Sale\": fake.country_code(),\n",
        "        \"Transaction_ID\": choice(uuid_list),\n",
        "        \"Sales_Initiation_Date\": validity_date_from,\n",
        "        \"Sales_End_Date\": sales_end_date,\n",
        "    }\n",
        "\n",
        "def generate_financial_data_info():\n",
        "\n",
        "    profit_ytd = round(uniform(10000, 1000000), 2)\n",
        "    profit_last_2_years = round(profit_ytd + uniform(0, 500000), 2)\n",
        "    profit_last_year = round(uniform(profit_last_2_years, profit_ytd), 2)\n",
        "    profit_last_month = round(uniform(profit_last_year * 0.8, profit_last_year), 2)\n",
        "    profit_last_week = round(uniform(profit_last_month * 0.8, profit_last_month), 2)\n",
        "    market_value = round(uniform(profit_last_week * 1.2, profit_last_week * 2), 2)\n",
        "\n",
        "    return {\n",
        "        \"Transaction_ID\": choice(uuid_list),\n",
        "        \"Profit_YTD\": profit_ytd,\n",
        "        \"Profit_Last_2_Years\": profit_last_2_years,\n",
        "        \"Profit_Last_Year\": profit_last_year,\n",
        "        \"Profit_Last_Month\": profit_last_month,\n",
        "        \"Profit_Last_Week\": profit_last_week,\n",
        "        \"Market_Value\": market_value\n",
        "    }"
      ]
    },
    {
      "cell_type": "markdown",
      "metadata": {
        "id": "UmonxVqzgraT"
      },
      "source": [
        "# Define variable for data generation"
      ]
    },
    {
      "cell_type": "code",
      "execution_count": 8,
      "metadata": {
        "id": "iWZNMDvVgq66"
      },
      "outputs": [],
      "source": [
        "uuid_list = [fake.uuid4() for _ in range(1_200_000)]\n",
        "\n",
        "suplier_mapping = {\n",
        "    '1': 'Taylor and Sons',\n",
        "    '2': 'Fischer, Harper and Collins',\n",
        "    '3': 'Burns, Brewer and Valdez',\n",
        "    '4': 'Li-Harris',\n",
        "    '5': 'Thompson-Medina',\n",
        "    '6': 'Brock Ltd',\n",
        "    '7': 'Rocha-Harris',\n",
        "    '8': 'Andrade, Boone and Alvarez',\n",
        "    '9': 'Hurst Ltd',\n",
        "    '10': 'Owens-Morrison',\n",
        "    '11': 'Jones, Bradley and Davis',\n",
        "    '12': 'Nichols, Mejia and Smith',\n",
        "    '13': 'Miller, Jones and Moyer',\n",
        "    '14': 'Good and Sons',\n",
        "    '15': 'Rodgers-Johnston',\n",
        "    '16': 'Potts, Allen and Jones',\n",
        "    '17': 'Franklin, Weber and Parrish',\n",
        "    '18': 'Carter, Martinez and Sullivan',\n",
        "    '19': 'Ryan and Sons',\n",
        "    '20': 'Paul, King and Nichols',\n",
        "    '21': 'Marshall-Patterson',\n",
        "    '22': 'Carr-Griffith',\n",
        "    '23': 'Russell, Newman and Long',\n",
        "    '24': 'Reed-Long',\n",
        "    '25': 'Walters, Mcguire and Hampton',\n",
        "    '26': 'Martinez and Sons',\n",
        "    '27': 'Whitehead-Berg',\n",
        "    '28': 'Ross, Hopkins and Thomas',\n",
        "    '29': 'Garza-Scott',\n",
        "    '30': 'Williams-Turner',\n",
        "    '31': 'Taylor-Anderson',\n",
        "    '32': 'Rivera-Edwards',\n",
        "    '33': 'Johns Group',\n",
        "    '34': 'Guzman, Page and Gregory',\n",
        "    '35': 'Gordon Inc'\n",
        "}\n",
        "\n"
      ]
    },
    {
      "cell_type": "markdown",
      "metadata": {
        "id": "8vKIm8gVh0s-"
      },
      "source": [
        "# Define schema for data generation"
      ]
    },
    {
      "cell_type": "markdown",
      "metadata": {
        "id": "w2ZsXe_b0a7D"
      },
      "source": [
        "Data type for schema\n",
        "\n",
        "| Data type               | Value type in Python         | API to access or create a data type       |\n",
        "|-------------------------|------------------------------|------------------------------------------|\n",
        "| ByteType                | int or long                   | `ByteType()`                             |\n",
        "| ShortType               | int or long                   | `ShortType()`                            |\n",
        "| IntegerType             | int or long                   | `IntegerType()`                          |\n",
        "| LongType                | long                         | `LongType()`                             |\n",
        "| FloatType               | float                        | `FloatType()`                            |\n",
        "| DoubleType              | float                        | `DoubleType()`                           |\n",
        "| DecimalType             | decimal.Decimal               | `DecimalType()`                          |\n",
        "| StringType              | string                       | `StringType()`                           |\n",
        "| BinaryType              | bytearray                    | `BinaryType()`                           |\n",
        "| BooleanType             | bool                         | `BooleanType()`                          |\n",
        "| TimestampType           | datetime.datetime             | `TimestampType()`                        |\n",
        "| TimestampNTZType        | datetime.datetime             | `TimestampNTZType()`                     |\n",
        "| DateType                | datetime.date                 | `DateType()`                             |\n",
        "| DayTimeIntervalType     | datetime.timedelta            | `DayTimeIntervalType()`                  |\n",
        "| ArrayType               | list, tuple, or array         | `ArrayType(elementType, [containsNull])` |\n",
        "| MapType                 | dict                         | `MapType(keyType, valueType, [valueContainsNull])` |\n",
        "| StructType              | list or tuple                 | `StructType(fields)`                     |\n",
        "| StructField             | The value type in Python of the data type of this field (e.g., Int for a StructField with the data type IntegerType) | `StructField(name, dataType, [nullable])` |\n",
        "| UserDefinedType (UDT)   | User-defined                 | -                                        |\n",
        "| ObjectType              | Python object                 | -                                        |\n",
        "| VectorUDT               | Vector                        | -                                        |\n",
        "| ImageType               | Image                         | -                                        |\n",
        "| NoneType                | None                         | -                                        |\n"
      ]
    },
    {
      "cell_type": "code",
      "execution_count": 15,
      "metadata": {
        "id": "Z15Qonn0hbQf"
      },
      "outputs": [],
      "source": [
        "product_schema = StructType([\n",
        "    StructField(\"Product_ID\", StringType(), nullable=True),\n",
        "    StructField(\"Subsector\", StringType(), nullable=True),\n",
        "    StructField(\"Category\", StringType(), nullable=True),\n",
        "    StructField(\"Brand\", StringType(), nullable=True),\n",
        "    StructField(\"Material_ID\", IntegerType(), nullable=True),\n",
        "    StructField(\"Description\", StringType(), nullable=True),\n",
        "    StructField(\"Weight\", FloatType(), nullable=True),\n",
        "    StructField(\"Shelf_Life\", IntegerType(), nullable=True),\n",
        "    StructField(\"Supplier_ID\", IntegerType(), nullable=True)\n",
        "])\n",
        "\n",
        "product_suplier_schema = StructType([\n",
        "    StructField(\"Supplier_ID\", IntegerType(), True),\n",
        "    StructField(\"Supplier_Name\", StringType(), True),\n",
        "    StructField(\"Country_of_Distribution\", StringType(), True),\n",
        "])\n",
        "\n",
        "transaction_schema = StructType([\n",
        "    StructField(\"Supplier_ID\", IntegerType(), nullable=False),\n",
        "    StructField(\"Countries_of_Sale\", StringType(), nullable=False),\n",
        "    StructField(\"Transaction_ID\", StringType(), nullable=False),\n",
        "    StructField(\"Sales_Initiation_Date\", DateType(), True),\n",
        "    StructField(\"Sales_End_Date\", DateType(), True),\n",
        "])\n",
        "\n",
        "\n",
        "financial_schema = StructType([\n",
        "    StructField(\"Transaction_ID\", StringType(), nullable=False),\n",
        "    StructField(\"Profit_YTD\", FloatType(), nullable=False),\n",
        "    StructField(\"Profit_Last_2_Years\", FloatType(), nullable=False),\n",
        "    StructField(\"Profit_Last_Year\", FloatType(), nullable=False),\n",
        "    StructField(\"Profit_Last_Month\", FloatType(), nullable=False),\n",
        "    StructField(\"Profit_Last_Week\", FloatType(), nullable=False),\n",
        "    StructField(\"Market_Value\", FloatType(), nullable=False)\n",
        "])"
      ]
    },
    {
      "cell_type": "markdown",
      "metadata": {
        "id": "EutBbpRmhvI_"
      },
      "source": [
        "# Generate random data"
      ]
    },
    {
      "cell_type": "markdown",
      "metadata": {
        "id": "BLoVH962kTdh"
      },
      "source": [
        "### Generate randome product"
      ]
    },
    {
      "cell_type": "code",
      "execution_count": 16,
      "metadata": {
        "colab": {
          "base_uri": "https://localhost:8080/"
        },
        "id": "ktjreEo1QSaB",
        "outputId": "fdabe5dd-58e7-4e51-89cf-488df9625f0b"
      },
      "outputs": [
        {
          "output_type": "stream",
          "name": "stdout",
          "text": [
            "count:  5812\n",
            "+----------+--------------------+-----------+--------+-----------+--------------------+------+----------+-----------+\n",
            "|Product_ID|           Subsector|   Category|   Brand|Material_ID|         Description|Weight|Shelf_Life|Supplier_ID|\n",
            "+----------+--------------------+-----------+--------+-----------+--------------------+------+----------+-----------+\n",
            "|      1000|Toppings & Decora...|     Bakery|  Zemora|      48938|Word sure current...|   4.0|       316|         33|\n",
            "|      1001|     Packaged Sweets|       Cake|  Aurora|      44247|Identify think br...|  11.0|       140|         32|\n",
            "|      1004|Ice Cream Ingredi...|      Sweet|  Aurora|      27238|Art television ea...|  81.0|       163|          3|\n",
            "|      1005|     Packaged Sweets|      Syrup|  Aurora|      27708|Claim school cold...|  60.0|       238|         12|\n",
            "|      1006|Toppings & Decora...|   Lollipop|  Zypher|      19199|Least throw let. ...|  68.0|       257|          6|\n",
            "|      1007|Toppings & Decora...|     Bakery|  Novata|      51720|Go meet however m...|  20.0|       298|         32|\n",
            "|      1008|          Sweeteners|    Dessert|  Aurora|      21144|Already even sign...|  81.0|       348|         28|\n",
            "|      1011|     Bakery Supplies|    Gumdrop|  Nexxon|      83998|Sure final become...|  38.0|       162|         13|\n",
            "|      1012|  Pastry Ingredients|    Caramel| Quentro|      99746|Worker consider T...|  53.0|       311|         24|\n",
            "|      1014|          Sweeteners|    Truffle|Exquinox|      22792|Feel should answe...|  27.0|        57|          8|\n",
            "|      1015|       Dessert Mixes|     Bakery| Delisio|      21596|Husband religious...|  62.0|       139|          3|\n",
            "|      1016|       Dessert Mixes|      Treat|  Zypher|      90233|Away heart messag...|  86.0|       304|          3|\n",
            "|      1017|     Packaged Sweets|Marshmallow|  Zemora|      15153|Provide hear chec...|  70.0|       329|         33|\n",
            "|      1019|     Bakery Supplies|    Truffle|  Zemora|      26499|Remain either a d...|  42.0|       176|         21|\n",
            "|      1020|     Packaged Sweets|    Truffle| Travala|      21902|Admit key knowled...|  53.0|        32|         20|\n",
            "|      1023|     Bakery Supplies|      Jelly|  Zemora|      74209|Resource north en...|  46.0|       353|         12|\n",
            "|      1025|Toppings & Decora...|    Gumdrop|  Nexxon|      61733|Wish space tax as...|  33.0|       248|         31|\n",
            "|      1026|  Pastry Ingredients|      Treat|  Nexxon|      25210|Himself free poli...|  69.0|       332|         17|\n",
            "|      1027|Toppings & Decora...|    Brownie|  Aurora|      65610|Strong but result...|  92.0|       100|         21|\n",
            "|      1028|          Sweeteners|  Ice Cream|  Novata|      58211|How government ok...|  57.0|       233|         25|\n",
            "+----------+--------------------+-----------+--------+-----------+--------------------+------+----------+-----------+\n",
            "only showing top 20 rows\n",
            "\n"
          ]
        }
      ],
      "source": [
        "df_product = generate_random_df(create_random_product_info, product_schema, 10_000)\n",
        "df_product = df_product.drop_duplicates(['Material_ID'])\n",
        "df_product = df_product.drop_duplicates(['Product_ID'])\n",
        "df_product.coalesce(1).write.mode('overwrite').option(\"header\", \"true\").csv(\"/content/product.csv\")\n",
        "print('count: ', df_product.count())\n",
        "df_product.show()\n",
        "del df_product"
      ]
    },
    {
      "cell_type": "markdown",
      "metadata": {
        "id": "XsLol5eokM9s"
      },
      "source": [
        "### Generate randome suplier mapping"
      ]
    },
    {
      "cell_type": "code",
      "source": [
        "data = [\n",
        "    (1, 'Taylor and Sons', fake.country_code()),\n",
        "    (2, 'Fischer, Harper and Collins', fake.country_code()),\n",
        "    (3, 'Burns, Brewer and Valdez', fake.country_code()),\n",
        "    (4, 'Li-Harris', fake.country_code()),\n",
        "    (5, 'Thompson-Medina', fake.country_code()),\n",
        "    (6, 'Brock Ltd', fake.country_code()),\n",
        "    (7, 'Rocha-Harris', fake.country_code()),\n",
        "    (8, 'Andrade, Boone and Alvarez', fake.country_code()),\n",
        "    (9, 'Hurst Ltd', fake.country_code()),\n",
        "    (10, 'Owens-Morrison', fake.country_code()),\n",
        "    (11, 'Jones, Bradley and Davis', fake.country_code()),\n",
        "    (12, 'Nichols, Mejia and Smith', fake.country_code()),\n",
        "    (13, 'Miller, Jones and Moyer', fake.country_code()),\n",
        "    (14, 'Good and Sons', fake.country_code()),\n",
        "    (15, 'Rodgers-Johnston', fake.country_code()),\n",
        "    (16, 'Potts, Allen and Jones', fake.country_code()),\n",
        "    (17, 'Franklin, Weber and Parrish', fake.country_code()),\n",
        "    (18, 'Carter, Martinez and Sullivan', fake.country_code()),\n",
        "    (19, 'Ryan and Sons', fake.country_code()),\n",
        "    (20, 'Paul, King and Nichols', fake.country_code()),\n",
        "    (21, 'Marshall-Patterson', fake.country_code()),\n",
        "    (22, 'Carr-Griffith', fake.country_code()),\n",
        "    (23, 'Russell, Newman and Long', fake.country_code()),\n",
        "    (24, 'Reed-Long', fake.country_code()),\n",
        "    (25, 'Walters, Mcguire and Hampton', fake.country_code()),\n",
        "    (26, 'Martinez and Sons', fake.country_code()),\n",
        "    (27, 'Whitehead-Berg', fake.country_code()),\n",
        "    (28, 'Ross, Hopkins and Thomas', fake.country_code()),\n",
        "    (29, 'Garza-Scott', fake.country_code()),\n",
        "    (30, 'Williams-Turner', fake.country_code()),\n",
        "    (31, 'Taylor-Anderson', fake.country_code()),\n",
        "    (32, 'Rivera-Edwards', fake.country_code()),\n",
        "    (33, 'Johns Group', fake.country_code()),\n",
        "    (34, 'Guzman, Page and Gregory', fake.country_code()),\n",
        "    (35, 'Gordon Inc', fake.country_code())\n",
        "]\n",
        "\n",
        "df_suplier = spark.createDataFrame(data, schema=product_suplier_schema)\n",
        "df_suplier.coalesce(1).write.mode('overwrite').option(\"header\", \"true\").csv(\"/content/suplier.csv\")\n",
        "print('count: ', df_suplier.count())\n",
        "df_suplier.show()\n",
        "del df_suplier"
      ],
      "metadata": {
        "colab": {
          "base_uri": "https://localhost:8080/"
        },
        "id": "F6vKE4nVhPz0",
        "outputId": "ab225e07-7b59-4516-b8ab-05c28eb7a570"
      },
      "execution_count": 17,
      "outputs": [
        {
          "output_type": "stream",
          "name": "stdout",
          "text": [
            "count:  35\n",
            "+-----------+--------------------+-----------------------+\n",
            "|Supplier_ID|       Supplier_Name|Country_of_Distribution|\n",
            "+-----------+--------------------+-----------------------+\n",
            "|          1|     Taylor and Sons|                     HU|\n",
            "|          2|Fischer, Harper a...|                     MU|\n",
            "|          3|Burns, Brewer and...|                     PH|\n",
            "|          4|           Li-Harris|                     JM|\n",
            "|          5|     Thompson-Medina|                     LK|\n",
            "|          6|           Brock Ltd|                     DJ|\n",
            "|          7|        Rocha-Harris|                     HR|\n",
            "|          8|Andrade, Boone an...|                     NI|\n",
            "|          9|           Hurst Ltd|                     CG|\n",
            "|         10|      Owens-Morrison|                     HU|\n",
            "|         11|Jones, Bradley an...|                     BF|\n",
            "|         12|Nichols, Mejia an...|                     ML|\n",
            "|         13|Miller, Jones and...|                     CM|\n",
            "|         14|       Good and Sons|                     UA|\n",
            "|         15|    Rodgers-Johnston|                     NA|\n",
            "|         16|Potts, Allen and ...|                     ZM|\n",
            "|         17|Franklin, Weber a...|                     GY|\n",
            "|         18|Carter, Martinez ...|                     TV|\n",
            "|         19|       Ryan and Sons|                     ET|\n",
            "|         20|Paul, King and Ni...|                     GD|\n",
            "+-----------+--------------------+-----------------------+\n",
            "only showing top 20 rows\n",
            "\n"
          ]
        }
      ]
    },
    {
      "cell_type": "markdown",
      "metadata": {
        "id": "JRkn1Fyp_ln_"
      },
      "source": [
        "### Generate randome transactions"
      ]
    },
    {
      "cell_type": "code",
      "execution_count": 18,
      "metadata": {
        "id": "ai9Q1QqilJUE",
        "colab": {
          "base_uri": "https://localhost:8080/"
        },
        "outputId": "a933daf2-600d-4ea0-d86c-e2dd66115535"
      },
      "outputs": [
        {
          "output_type": "stream",
          "name": "stdout",
          "text": [
            "count:  19818\n",
            "+-----------+-----------------+--------------------+---------------------+--------------+\n",
            "|Supplier_ID|Countries_of_Sale|      Transaction_ID|Sales_Initiation_Date|Sales_End_Date|\n",
            "+-----------+-----------------+--------------------+---------------------+--------------+\n",
            "|         25|               MC|00027f8a-eefa-4e1...|           2017-04-21|    2024-10-04|\n",
            "|         21|               CN|000618ef-00af-48b...|           2016-07-16|    2029-11-03|\n",
            "|         23|               LV|000baced-9e10-4e0...|           2030-03-05|    2030-03-09|\n",
            "|         11|               HN|000f686b-75ae-47f...|           2019-12-02|    2024-06-14|\n",
            "|          1|               BJ|000f7ab5-1523-406...|           2019-04-06|    2023-02-01|\n",
            "|         21|               BI|0010e8a3-8d04-4be...|           2022-03-17|          NULL|\n",
            "|          8|               KW|0013b6de-daf1-46e...|           2027-01-05|    2028-07-26|\n",
            "|         18|               DJ|0013e412-8d6e-472...|           2027-11-14|    2030-07-18|\n",
            "|         35|               LT|0014072c-99ce-4b2...|           2019-05-27|    2025-12-08|\n",
            "|         33|               SR|001496af-cc36-424...|           2012-10-18|          NULL|\n",
            "|         28|               DM|0014ed0b-d764-4a8...|           2030-04-02|    2030-05-06|\n",
            "|         22|               MN|001b09c2-183d-40e...|           2029-11-16|    2030-03-10|\n",
            "|          2|               SY|001c6052-b91d-420...|           2019-12-31|          NULL|\n",
            "|          6|               KI|001f4dc0-c2c2-41a...|           2023-04-11|    2030-03-11|\n",
            "|          2|               KI|00230f01-71a0-460...|           2013-11-01|    2019-11-27|\n",
            "|         15|               AE|002497cb-e96c-420...|           2025-07-31|    2027-07-19|\n",
            "|         35|               NP|002743f9-32ba-4ef...|           2016-03-06|    2016-06-16|\n",
            "|          9|               NI|002feb19-7881-486...|           2027-04-14|    2027-07-21|\n",
            "|         13|               HN|00306c61-5e2b-4de...|           2019-09-03|    2030-07-14|\n",
            "|         14|               DE|00340d37-ec76-40e...|           2013-06-09|    2016-06-26|\n",
            "+-----------+-----------------+--------------------+---------------------+--------------+\n",
            "only showing top 20 rows\n",
            "\n"
          ]
        }
      ],
      "source": [
        "df_transactions = generate_random_df(generate_random_transaction_info, transaction_schema, 20_000)\n",
        "df_transactions = df_transactions.dropDuplicates(['Transaction_ID'])\n",
        "df_transactions.coalesce(1).write.mode('overwrite').option(\"header\", \"true\").csv(\"/content/transactions.csv\")\n",
        "print('count: ', df_transactions.count())\n",
        "df_transactions.show()\n",
        "del df_transactions"
      ]
    },
    {
      "cell_type": "markdown",
      "metadata": {
        "id": "AmovHxVECCdT"
      },
      "source": [
        "### Generate randome financial data"
      ]
    },
    {
      "cell_type": "code",
      "execution_count": 19,
      "metadata": {
        "colab": {
          "base_uri": "https://localhost:8080/"
        },
        "id": "mkcRDjuVeGve",
        "outputId": "240d83eb-c69c-4dc1-ac3b-eabd1417bed2"
      },
      "outputs": [
        {
          "output_type": "stream",
          "name": "stdout",
          "text": [
            "count:  20\n",
            "+--------------------+----------+-------------------+----------------+-----------------+----------------+------------+\n",
            "|      Transaction_ID|Profit_YTD|Profit_Last_2_Years|Profit_Last_Year|Profit_Last_Month|Profit_Last_Week|Market_Value|\n",
            "+--------------------+----------+-------------------+----------------+-----------------+----------------+------------+\n",
            "|0564e356-1456-469...|  650062.1|          1072301.0|        994387.7|         804482.0|       797143.06|   1364607.2|\n",
            "|53561609-33e1-412...|  893484.9|          1148449.6|       1081572.8|         945109.7|        881642.7|   1143545.4|\n",
            "|97611940-1898-404...| 869323.06|          1117837.8|       1100284.1|        1004825.4|        832828.5|   1140366.1|\n",
            "|5c46948b-8b7d-4b8...|  925649.7|          1031602.9|      1005196.44|         872734.4|        796714.3|   1252443.2|\n",
            "|1826de93-0e43-453...|  291201.4|           427101.2|        309518.1|         294323.0|        275898.1|   512064.56|\n",
            "|e1b0a8fb-df87-432...| 346696.84|           454575.8|       348386.03|        301359.34|       248158.06|   332900.34|\n",
            "|f8af343f-3a53-479...|  908857.3|          1368410.0|       1299961.1|        1122138.9|       949360.44|   1878029.8|\n",
            "|61e110ab-a64b-4d5...|  937432.7|          1363014.5|       1162162.8|        963464.56|       944091.56|   1853350.1|\n",
            "|cfdf8e3e-b7a3-4ba...| 783662.25|          1083233.8|       1073696.1|        902241.56|        795629.6|   1190676.8|\n",
            "|7ea8c991-3382-4b6...|  67459.77|          308075.38|       285453.03|        251441.84|       233658.66|   406318.22|\n",
            "|ac98a977-678b-4f5...| 868948.44|           920527.1|       899066.56|         757617.0|       719644.56|   1366534.4|\n",
            "|7d360351-a7b8-443...| 175784.06|           627719.9|        527439.6|        451214.12|        369456.9|   651673.94|\n",
            "|9249bb89-b9a1-4f0...| 520109.62|           732192.9|        698587.7|         690268.7|       671246.25|    920662.9|\n",
            "|255777ee-5dab-48e...| 157636.77|           521112.8|       348743.22|        284458.16|        241186.8|   365913.12|\n",
            "|54c57d9a-1d4e-45d...|  434587.5|           616337.2|        527804.2|        426073.44|        347366.0|    470717.7|\n",
            "|82bfcf1f-f8b1-499...|  359907.5|           839771.3|        577674.2|         476073.2|       400201.56|    696512.3|\n",
            "|c8e449d4-d8b6-4af...| 313405.25|           552295.6|        495602.4|        477017.78|       452677.75|    720159.8|\n",
            "|6005d4bb-9d07-462...|  241412.0|           387488.6|        252342.3|        210916.05|       207217.52|    327297.1|\n",
            "|6378438d-9b09-4b8...|  909300.9|          1145012.5|       1125812.4|        1110264.8|       922690.75|   1598038.4|\n",
            "|4baa16ec-c300-4b5...|  837770.1|          1061671.6|       1058257.4|        932964.75|        894558.7|   1730385.0|\n",
            "+--------------------+----------+-------------------+----------------+-----------------+----------------+------------+\n",
            "\n"
          ]
        }
      ],
      "source": [
        "df_financial = generate_random_df(generate_financial_data_info, financial_schema, 20)\n",
        "df_financial = df_financial.dropDuplicates(['Transaction_ID'])\n",
        "df_financial.coalesce(1).write.mode('overwrite').option(\"header\", \"true\").csv(\"/content/financial.csv\")\n",
        "print('count: ', df_financial.count())\n",
        "df_financial.show()\n",
        "del df_financial"
      ]
    }
  ],
  "metadata": {
    "colab": {
      "collapsed_sections": [
        "vQZv_Dkk9X_Z",
        "3tqUz-CK9c0s",
        "21RS7KF5siax",
        "8cMXkdRDu3Fi"
      ],
      "provenance": [],
      "authorship_tag": "ABX9TyNQZws6QWObB0nWifUJ20NK",
      "include_colab_link": true
    },
    "kernelspec": {
      "display_name": "Python 3",
      "name": "python3"
    },
    "language_info": {
      "name": "python"
    }
  },
  "nbformat": 4,
  "nbformat_minor": 0
}