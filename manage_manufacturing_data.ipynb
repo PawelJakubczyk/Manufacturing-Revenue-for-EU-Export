{
  "nbformat": 4,
  "nbformat_minor": 0,
  "metadata": {
    "colab": {
      "provenance": [],
      "authorship_tag": "ABX9TyM9LlpBnxcl1aVl5L0MWjnl",
      "include_colab_link": true
    },
    "kernelspec": {
      "name": "python3",
      "display_name": "Python 3"
    },
    "language_info": {
      "name": "python"
    }
  },
  "cells": [
    {
      "cell_type": "markdown",
      "metadata": {
        "id": "view-in-github",
        "colab_type": "text"
      },
      "source": [
        "<a href=\"https://colab.research.google.com/github/PawelJakubczyk/Manufacturing-Revenue-for-EU-Export/blob/main/manage_manufacturing_data.ipynb\" target=\"_parent\"><img src=\"https://colab.research.google.com/assets/colab-badge.svg\" alt=\"Open In Colab\"/></a>"
      ]
    },
    {
      "cell_type": "markdown",
      "source": [
        "# Instal library"
      ],
      "metadata": {
        "id": "RM54G5J21bDq"
      }
    },
    {
      "cell_type": "code",
      "execution_count": 4,
      "metadata": {
        "colab": {
          "base_uri": "https://localhost:8080/"
        },
        "id": "o7athst700uw",
        "outputId": "73abf61f-d44e-4db3-fd76-1d6e70a1ab30"
      },
      "outputs": [
        {
          "output_type": "stream",
          "name": "stdout",
          "text": [
            "Requirement already satisfied: pyspark in /usr/local/lib/python3.10/dist-packages (3.5.0)\n",
            "Requirement already satisfied: py4j==0.10.9.7 in /usr/local/lib/python3.10/dist-packages (from pyspark) (0.10.9.7)\n",
            "Collecting importnb\n",
            "  Downloading importnb-2023.11.1-py3-none-any.whl (45 kB)\n",
            "\u001b[2K     \u001b[90m━━━━━━━━━━━━━━━━━━━━━━━━━━━━━━━━━━━━━━━━\u001b[0m \u001b[32m46.0/46.0 kB\u001b[0m \u001b[31m1.7 MB/s\u001b[0m eta \u001b[36m0:00:00\u001b[0m\n",
            "\u001b[?25hInstalling collected packages: importnb\n",
            "Successfully installed importnb-2023.11.1\n"
          ]
        }
      ],
      "source": [
        "%pip install pyspark\n",
        "%pip install importnb"
      ]
    },
    {
      "cell_type": "markdown",
      "source": [
        "# Import library & star session"
      ],
      "metadata": {
        "id": "UjyCPIGa1nt5"
      }
    },
    {
      "cell_type": "code",
      "source": [
        "from importnb import Notebook\n",
        "with Notebook('utilities.ipynb'):\n",
        "    from utilities import (product_schema,\n",
        "                           suplier_schema,\n",
        "                           transaction_schema,\n",
        "                           financial_schema,\n",
        "                           eu_countries_schema,\n",
        "\n",
        "                           )\n",
        "from pyspark.sql import SparkSession\n",
        "from pyspark.sql.types import StructType, StructField, StringType, DateType, IntegerType, FloatType\n",
        "from datetime import datetime\n",
        "from random import choice, uniform, randint, seed\n",
        "\n",
        "# Create a Spark session\n",
        "spark = SparkSession.builder.master(\"local[*]\").getOrCreate()"
      ],
      "metadata": {
        "id": "ugz5tXND1fCF"
      },
      "execution_count": 8,
      "outputs": []
    },
    {
      "cell_type": "markdown",
      "source": [
        "# Read data from csv"
      ],
      "metadata": {
        "id": "JTYSqNca1rg7"
      }
    },
    {
      "cell_type": "code",
      "source": [],
      "metadata": {
        "id": "KhJWGklz1qP5",
        "outputId": "ac831d96-cff7-4731-b151-fe2a7f4e9da3",
        "colab": {
          "base_uri": "https://localhost:8080/"
        }
      },
      "execution_count": 9,
      "outputs": [
        {
          "output_type": "stream",
          "name": "stdout",
          "text": [
            "StructType([StructField('Product_ID', StringType(), True), StructField('Subsector', StringType(), True), StructField('Category', StringType(), True), StructField('Brand', StringType(), True), StructField('Material_ID', IntegerType(), True), StructField('Description', StringType(), True), StructField('Supplier_ID', IntegerType(), True)])\n"
          ]
        }
      ]
    }
  ]
}