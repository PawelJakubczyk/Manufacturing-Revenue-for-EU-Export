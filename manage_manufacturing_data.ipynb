{
  "nbformat": 4,
  "nbformat_minor": 0,
  "metadata": {
    "colab": {
      "provenance": [],
      "authorship_tag": "ABX9TyOIOfJsfE5tR4tpHNv3uF8w",
      "include_colab_link": true
    },
    "kernelspec": {
      "name": "python3",
      "display_name": "Python 3"
    },
    "language_info": {
      "name": "python"
    }
  },
  "cells": [
    {
      "cell_type": "markdown",
      "metadata": {
        "id": "view-in-github",
        "colab_type": "text"
      },
      "source": [
        "<a href=\"https://colab.research.google.com/github/PawelJakubczyk/Manufacturing-Revenue-for-EU-Export/blob/main/manage_manufacturing_data.ipynb\" target=\"_parent\"><img src=\"https://colab.research.google.com/assets/colab-badge.svg\" alt=\"Open In Colab\"/></a>"
      ]
    },
    {
      "cell_type": "markdown",
      "source": [
        "# Instal library"
      ],
      "metadata": {
        "id": "RM54G5J21bDq"
      }
    },
    {
      "cell_type": "code",
      "execution_count": 1,
      "metadata": {
        "colab": {
          "base_uri": "https://localhost:8080/"
        },
        "id": "o7athst700uw",
        "outputId": "59518f28-1f0a-4dcb-c5f4-31bdbf07a10f"
      },
      "outputs": [
        {
          "output_type": "stream",
          "name": "stdout",
          "text": [
            "Requirement already satisfied: pyspark in /usr/local/lib/python3.10/dist-packages (3.5.0)\n",
            "Requirement already satisfied: py4j==0.10.9.7 in /usr/local/lib/python3.10/dist-packages (from pyspark) (0.10.9.7)\n",
            "Requirement already satisfied: importnb in /usr/local/lib/python3.10/dist-packages (2023.11.1)\n"
          ]
        }
      ],
      "source": [
        "%pip install pyspark\n",
        "%pip install importnb"
      ]
    },
    {
      "cell_type": "markdown",
      "source": [
        "# Utilities"
      ],
      "metadata": {
        "id": "Kl_bwPC-D6jv"
      }
    },
    {
      "cell_type": "code",
      "source": [
        "from pyspark.sql import SparkSession\n",
        "from pyspark.sql.types import StructType, StructField, StringType, DateType, IntegerType, FloatType\n",
        "from datetime import datetime\n",
        "import matplotlib.pyplot as plt\n",
        "\n",
        "product_schema = StructType([\n",
        "    StructField(\"Product_ID\", StringType(), nullable=True),\n",
        "    StructField(\"Subsector\", StringType(), nullable=True),\n",
        "    StructField(\"Category\", StringType(), nullable=True),\n",
        "    StructField(\"Brand\", StringType(), nullable=True),\n",
        "    StructField(\"Description\", StringType(), nullable=True),\n",
        "    StructField(\"Supplier_ID\", IntegerType(), nullable=True)\n",
        "])\n",
        "\n",
        "transaction_schema = StructType([\n",
        "    StructField(\"Supplier_ID\", IntegerType(), nullable=False),\n",
        "    StructField(\"Countries_of_Sale\", StringType(), nullable=False),\n",
        "    StructField(\"Transaction_ID\", StringType(), nullable=False),\n",
        "    StructField(\"Sales_Initiation_Date\", DateType(), True),\n",
        "    StructField(\"Sales_End_Date\", DateType(), True),\n",
        "    StructField(\"Product_ID\", StringType(), True),\n",
        "])\n",
        "\n",
        "\n",
        "financial_schema = StructType([\n",
        "    StructField(\"Transaction_ID\", StringType(), nullable=False),\n",
        "    StructField(\"Profit_YTD\", FloatType(), nullable=False),\n",
        "    StructField(\"Profit_Last_2_Years\", FloatType(), nullable=False),\n",
        "    StructField(\"Profit_Last_Year\", FloatType(), nullable=False),\n",
        "    StructField(\"Profit_Last_Month\", FloatType(), nullable=False),\n",
        "    StructField(\"Profit_Last_Week\", FloatType(), nullable=False),\n",
        "    StructField(\"Market_Value\", FloatType(), nullable=False)\n",
        "])\n",
        "\n",
        "eu_countries_mapping_schema = StructType([\n",
        "    StructField(\"Country\", StringType(), True),\n",
        "    StructField(\"Country_Code\", StringType(), True)\n",
        "])\n",
        "\n",
        "suplier_mapping_schema = StructType([\n",
        "    StructField(\"Supplier_ID\", IntegerType(), True),\n",
        "    StructField(\"Supplier_Name\", StringType(), True),\n",
        "    StructField(\"Country_of_Distribution\", StringType(), True),\n",
        "])\n",
        "\n",
        "eu_mapping_path = '/mapping/eu_mapping.csv'\n",
        "suplier_mapping_path = '/mapping/suplier_mapping.csv'\n",
        "financials_path = '/data/financials.csv'\n",
        "products_path = '/data/products.csv'\n",
        "supliers_path = '/data/supliers.csv'\n",
        "transactions_path = '/data/transactions.csv'"
      ],
      "metadata": {
        "id": "UddX58eyD4dE"
      },
      "execution_count": 11,
      "outputs": []
    },
    {
      "cell_type": "markdown",
      "source": [
        "# Import library & star session"
      ],
      "metadata": {
        "id": "UjyCPIGa1nt5"
      }
    },
    {
      "cell_type": "code",
      "source": [
        "from importnb import Notebook\n",
        "# with Notebook('utilities.ipynb'):\n",
        "#     from utilities import (product_schema,\n",
        "#                            suplier_schema,\n",
        "#                            transaction_schema,\n",
        "#                            financial_schema,\n",
        "#                            eu_countries_schema,\n",
        "#                            eu_mapping_path,\n",
        "#                            suplier_mapping_path,\n",
        "#                            financials_path,\n",
        "#                            products_path,\n",
        "#                            supliers_path,\n",
        "#                            transactions_path\n",
        "#                            )\n",
        "from pyspark.sql import SparkSession\n",
        "from pyspark.sql.types import StructType, StructField, StringType, DateType, IntegerType, FloatType\n",
        "from datetime import datetime\n",
        "from random import choice, uniform, randint, seed\n",
        "\n",
        "# Create a Spark session\n",
        "spark = SparkSession.builder.master(\"local[*]\").getOrCreate()"
      ],
      "metadata": {
        "id": "ugz5tXND1fCF",
        "colab": {
          "base_uri": "https://localhost:8080/"
        },
        "outputId": "60a92ce2-b7bc-4d6f-bdb2-069fd50aa772"
      },
      "execution_count": 2,
      "outputs": [
        {
          "output_type": "stream",
          "name": "stdout",
          "text": [
            "Requirement already satisfied: pyspark in /usr/local/lib/python3.10/dist-packages (3.5.0)\n",
            "Requirement already satisfied: py4j==0.10.9.7 in /usr/local/lib/python3.10/dist-packages (from pyspark) (0.10.9.7)\n"
          ]
        }
      ]
    },
    {
      "cell_type": "markdown",
      "source": [
        "### Read data from csv"
      ],
      "metadata": {
        "id": "JTYSqNca1rg7"
      }
    },
    {
      "cell_type": "code",
      "source": [
        "df_transactions = spark.read.csv(transactions_path, schema=transaction_schema, header=True, inferSchema=True)\n",
        "df_eu_mapping = spark.read.csv(eu_mapping_path, schema=eu_countries_mapping_schema, header=True, inferSchema=True)"
      ],
      "metadata": {
        "id": "56hFmCIAHRwL"
      },
      "execution_count": 17,
      "outputs": []
    },
    {
      "cell_type": "markdown",
      "source": [
        "### Countries_of_Sale EU rule: Limit data to EU countries"
      ],
      "metadata": {
        "id": "BDACT0WlIsRT"
      }
    },
    {
      "cell_type": "code",
      "source": [
        "df_transactions_of_sale_eu = df_transactions.join(df_eu_mapping, df_transactions[\"Countries_of_Sale\"] == df_eu_mapping[\"Country\"], \"inner\")"
      ],
      "metadata": {
        "id": "QUlU_I7SIoPt"
      },
      "execution_count": 22,
      "outputs": []
    },
    {
      "cell_type": "code",
      "source": [
        "df_transactions_of_sale_eu.show()\n",
        "\n",
        "count_matching_countries = df_transactions_of_sale_eu.count()\n",
        "count_non_matching_countries = df_transactions.count() - count_matching_countries"
      ],
      "metadata": {
        "id": "V70FVVu1HXMU",
        "outputId": "17a84232-fcbf-4b05-e37c-da16136c9de3",
        "colab": {
          "base_uri": "https://localhost:8080/"
        }
      },
      "execution_count": 23,
      "outputs": [
        {
          "output_type": "stream",
          "name": "stdout",
          "text": [
            "+-----------+-----------------+--------------------+---------------------+--------------+----------+----------+------------+\n",
            "|Supplier_ID|Countries_of_Sale|      Transaction_ID|Sales_Initiation_Date|Sales_End_Date|Product_ID|   Country|Country_Code|\n",
            "+-----------+-----------------+--------------------+---------------------+--------------+----------+----------+------------+\n",
            "|         17|          Croatia|0001b030-060d-456...|           2025-01-08|          NULL|      1058|   Croatia|          HR|\n",
            "|         13|            Malta|0007d734-0518-4f2...|           2015-04-14|    2023-08-02|      1919|     Malta|          MT|\n",
            "|         10|         Portugal|000a7188-9fcf-433...|           2018-10-23|    2020-10-31|      1741|  Portugal|          PT|\n",
            "|         14|          Croatia|000c1d2c-2eb0-46a...|           2028-07-16|    2029-05-31|      1467|   Croatia|          HR|\n",
            "|         26|          Romania|000ccdca-e37b-476...|           2020-11-06|    2030-01-17|      1472|   Romania|          RO|\n",
            "|          6|          Ireland|000fe62f-2329-410...|           2017-01-15|    2024-05-10|      1216|   Ireland|          IE|\n",
            "|          3|           Greece|001091c3-a88c-4a8...|           2012-12-30|    2022-12-14|      1097|    Greece|          GR|\n",
            "|         18|          Denmark|001974fa-1331-4a2...|           2025-08-31|          NULL|      1708|   Denmark|          DK|\n",
            "|         21|          Hungary|0019ec89-3985-40c...|           2020-09-02|    2022-08-01|      1592|   Hungary|          HU|\n",
            "|         17|           Latvia|001bcd9b-4b5d-4c6...|           2020-07-30|    2021-06-24|      1884|    Latvia|          LV|\n",
            "|         14|         Portugal|001ce780-d417-475...|           2028-01-19|    2030-12-23|      1824|  Portugal|          PT|\n",
            "|         11|         Bulgaria|001ec643-014a-4a7...|           2027-10-07|    2029-09-27|      1365|  Bulgaria|          BG|\n",
            "|          8|       Luxembourg|002059eb-93b4-40a...|           2017-11-24|    2023-04-09|      1447|Luxembourg|          LU|\n",
            "|         33|           Greece|002de18b-fad6-425...|           2012-03-20|    2018-08-30|      1192|    Greece|          GR|\n",
            "|         33|           Greece|003308b4-4cd8-4b8...|           2013-05-19|    2025-02-18|      1050|    Greece|          GR|\n",
            "|          5|            Italy|0035ca89-3eb2-476...|           2020-07-19|    2020-08-11|      1598|     Italy|          IT|\n",
            "|         32|            Malta|0038a179-21c6-418...|           2030-03-22|    2030-11-29|      1348|     Malta|          MT|\n",
            "|          9|           Poland|0039f3ac-7131-42b...|           2021-12-05|    2023-08-09|      1246|    Poland|          PL|\n",
            "|         28|        Lithuania|004cfaaf-c263-43b...|           2029-02-11|    2030-11-24|      1563| Lithuania|          LT|\n",
            "|         30|           Sweden|004f7050-5bb1-4c2...|           2027-11-16|    2029-06-30|      1003|    Sweden|          SE|\n",
            "+-----------+-----------------+--------------------+---------------------+--------------+----------+----------+------------+\n",
            "only showing top 20 rows\n",
            "\n"
          ]
        }
      ]
    },
    {
      "cell_type": "code",
      "source": [
        "# Data for the pie chart\n",
        "labels = ['Meets condition', 'Does not meet condition']\n",
        "sizes = [count_matching_countries, count_non_matching_countries]\n",
        "colors = ['lightblue', 'lightcoral']\n",
        "\n",
        "# Creating the pie chart\n",
        "plt.figure(figsize=(8, 6))\n",
        "plt.pie(sizes, labels=labels, colors=colors, autopct='%1.1f%%', startangle=140)\n",
        "\n",
        "# Setting the title of the chart\n",
        "plt.title('Proportions of records that meet/do not meet the condition')\n",
        "\n",
        "# Displaying the chart\n",
        "plt.axis('equal')\n",
        "plt.show()"
      ],
      "metadata": {
        "id": "-6HlXZxhIZVK",
        "outputId": "85598822-2140-4b7a-9a55-312e1d4df484",
        "colab": {
          "base_uri": "https://localhost:8080/",
          "height": 521
        }
      },
      "execution_count": 24,
      "outputs": [
        {
          "output_type": "display_data",
          "data": {
            "text/plain": [
              "<Figure size 800x600 with 1 Axes>"
            ],
            "image/png": "[encoded data removed]"
          },
          "metadata": {}
        }
      ]
    },
    {
      "cell_type": "markdown",
      "source": [],
      "metadata": {
        "id": "rP1cumhlHRK_"
      }
    },
    {
      "cell_type": "code",
      "source": [
        "df_products = spark.read.csv(products_path, schema=product_schema, header=True, inferSchema=True)"
      ],
      "metadata": {
        "id": "KhJWGklz1qP5"
      },
      "execution_count": 3,
      "outputs": []
    },
    {
      "cell_type": "code",
      "source": [
        "df_produt_with_transactions_eu = df_transactions_of_sale_eu.join(df_products, on=\"Product_ID\", how=\"inner\")\n",
        "df_product_id_missing_in_product_eu = df_transactions_of_sale_eu.join(df_products, on=\"Product_ID\", how=\"left_anti\")\n",
        "df_product_id_missing_in_transactions_eu = df_products.join(df_transactions_of_sale_eu, on=\"Product_ID\", how=\"left_anti\")\n"
      ],
      "metadata": {
        "id": "N8wG587zCRN1",
        "outputId": "40c19639-e24f-4de7-ca8e-fa9b2cab9184",
        "colab": {
          "base_uri": "https://localhost:8080/",
          "height": 382
        }
      },
      "execution_count": 9,
      "outputs": [
        {
          "output_type": "error",
          "ename": "AnalysisException",
          "evalue": "[UNRESOLVED_USING_COLUMN_FOR_JOIN] USING column `Product ID` cannot be resolved on the left side of the join. The left-side columns: [`Countries_of_Sale`, `Product_ID`, `Sales_End_Date`, `Sales_Initiation_Date`, `Supplier_ID`, `Transaction_ID`].",
          "traceback": [
            "\u001b[0;31m---------------------------------------------------------------------------\u001b[0m",
            "\u001b[0;31mAnalysisException\u001b[0m                         Traceback (most recent call last)",
            "\u001b[0;32m<ipython-input-9-61b6c14e7c74>\u001b[0m in \u001b[0;36m<cell line: 1>\u001b[0;34m()\u001b[0m\n\u001b[0;32m----> 1\u001b[0;31m \u001b[0mdf_join\u001b[0m \u001b[0;34m=\u001b[0m \u001b[0mdf_transactions\u001b[0m\u001b[0;34m.\u001b[0m\u001b[0mjoin\u001b[0m\u001b[0;34m(\u001b[0m\u001b[0mdf_products\u001b[0m\u001b[0;34m,\u001b[0m \u001b[0mon\u001b[0m\u001b[0;34m=\u001b[0m\u001b[0;34m\"Product ID\"\u001b[0m\u001b[0;34m,\u001b[0m \u001b[0mhow\u001b[0m\u001b[0;34m=\u001b[0m\u001b[0;34m\"inner\"\u001b[0m\u001b[0;34m)\u001b[0m\u001b[0;34m\u001b[0m\u001b[0;34m\u001b[0m\u001b[0m\n\u001b[0m\u001b[1;32m      2\u001b[0m \u001b[0mdf_product_id_missing_in_product\u001b[0m \u001b[0;34m=\u001b[0m \u001b[0mdf_transactions\u001b[0m\u001b[0;34m.\u001b[0m\u001b[0mjoin\u001b[0m\u001b[0;34m(\u001b[0m\u001b[0mdf_products\u001b[0m\u001b[0;34m,\u001b[0m \u001b[0mon\u001b[0m\u001b[0;34m=\u001b[0m\u001b[0;34m\"Product ID\"\u001b[0m\u001b[0;34m,\u001b[0m \u001b[0mhow\u001b[0m\u001b[0;34m=\u001b[0m\u001b[0;34m\"left_anti\"\u001b[0m\u001b[0;34m)\u001b[0m\u001b[0;34m\u001b[0m\u001b[0;34m\u001b[0m\u001b[0m\n\u001b[1;32m      3\u001b[0m \u001b[0mdf_missing_in_transactions\u001b[0m \u001b[0;34m=\u001b[0m \u001b[0mdf_products\u001b[0m\u001b[0;34m.\u001b[0m\u001b[0mjoin\u001b[0m\u001b[0;34m(\u001b[0m\u001b[0mdf_transactions\u001b[0m\u001b[0;34m,\u001b[0m \u001b[0mon\u001b[0m\u001b[0;34m=\u001b[0m\u001b[0;34m\"Product ID\"\u001b[0m\u001b[0;34m,\u001b[0m \u001b[0mhow\u001b[0m\u001b[0;34m=\u001b[0m\u001b[0;34m\"left_anti\"\u001b[0m\u001b[0;34m)\u001b[0m\u001b[0;34m\u001b[0m\u001b[0;34m\u001b[0m\u001b[0m\n",
            "\u001b[0;32m/usr/local/lib/python3.10/dist-packages/pyspark/sql/dataframe.py\u001b[0m in \u001b[0;36mjoin\u001b[0;34m(self, other, on, how)\u001b[0m\n\u001b[1;32m   2485\u001b[0m                 \u001b[0mon\u001b[0m \u001b[0;34m=\u001b[0m \u001b[0mself\u001b[0m\u001b[0;34m.\u001b[0m\u001b[0m_jseq\u001b[0m\u001b[0;34m(\u001b[0m\u001b[0;34m[\u001b[0m\u001b[0;34m]\u001b[0m\u001b[0;34m)\u001b[0m\u001b[0;34m\u001b[0m\u001b[0;34m\u001b[0m\u001b[0m\n\u001b[1;32m   2486\u001b[0m             \u001b[0;32massert\u001b[0m \u001b[0misinstance\u001b[0m\u001b[0;34m(\u001b[0m\u001b[0mhow\u001b[0m\u001b[0;34m,\u001b[0m \u001b[0mstr\u001b[0m\u001b[0;34m)\u001b[0m\u001b[0;34m,\u001b[0m \u001b[0;34m\"how should be a string\"\u001b[0m\u001b[0;34m\u001b[0m\u001b[0;34m\u001b[0m\u001b[0m\n\u001b[0;32m-> 2487\u001b[0;31m             \u001b[0mjdf\u001b[0m \u001b[0;34m=\u001b[0m \u001b[0mself\u001b[0m\u001b[0;34m.\u001b[0m\u001b[0m_jdf\u001b[0m\u001b[0;34m.\u001b[0m\u001b[0mjoin\u001b[0m\u001b[0;34m(\u001b[0m\u001b[0mother\u001b[0m\u001b[0;34m.\u001b[0m\u001b[0m_jdf\u001b[0m\u001b[0;34m,\u001b[0m \u001b[0mon\u001b[0m\u001b[0;34m,\u001b[0m \u001b[0mhow\u001b[0m\u001b[0;34m)\u001b[0m\u001b[0;34m\u001b[0m\u001b[0;34m\u001b[0m\u001b[0m\n\u001b[0m\u001b[1;32m   2488\u001b[0m         \u001b[0;32mreturn\u001b[0m \u001b[0mDataFrame\u001b[0m\u001b[0;34m(\u001b[0m\u001b[0mjdf\u001b[0m\u001b[0;34m,\u001b[0m \u001b[0mself\u001b[0m\u001b[0;34m.\u001b[0m\u001b[0msparkSession\u001b[0m\u001b[0;34m)\u001b[0m\u001b[0;34m\u001b[0m\u001b[0;34m\u001b[0m\u001b[0m\n\u001b[1;32m   2489\u001b[0m \u001b[0;34m\u001b[0m\u001b[0m\n",
            "\u001b[0;32m/usr/local/lib/python3.10/dist-packages/py4j/java_gateway.py\u001b[0m in \u001b[0;36m__call__\u001b[0;34m(self, *args)\u001b[0m\n\u001b[1;32m   1320\u001b[0m \u001b[0;34m\u001b[0m\u001b[0m\n\u001b[1;32m   1321\u001b[0m         \u001b[0manswer\u001b[0m \u001b[0;34m=\u001b[0m \u001b[0mself\u001b[0m\u001b[0;34m.\u001b[0m\u001b[0mgateway_client\u001b[0m\u001b[0;34m.\u001b[0m\u001b[0msend_command\u001b[0m\u001b[0;34m(\u001b[0m\u001b[0mcommand\u001b[0m\u001b[0;34m)\u001b[0m\u001b[0;34m\u001b[0m\u001b[0;34m\u001b[0m\u001b[0m\n\u001b[0;32m-> 1322\u001b[0;31m         return_value = get_return_value(\n\u001b[0m\u001b[1;32m   1323\u001b[0m             answer, self.gateway_client, self.target_id, self.name)\n\u001b[1;32m   1324\u001b[0m \u001b[0;34m\u001b[0m\u001b[0m\n",
            "\u001b[0;32m/usr/local/lib/python3.10/dist-packages/pyspark/errors/exceptions/captured.py\u001b[0m in \u001b[0;36mdeco\u001b[0;34m(*a, **kw)\u001b[0m\n\u001b[1;32m    183\u001b[0m                 \u001b[0;31m# Hide where the exception came from that shows a non-Pythonic\u001b[0m\u001b[0;34m\u001b[0m\u001b[0;34m\u001b[0m\u001b[0m\n\u001b[1;32m    184\u001b[0m                 \u001b[0;31m# JVM exception message.\u001b[0m\u001b[0;34m\u001b[0m\u001b[0;34m\u001b[0m\u001b[0m\n\u001b[0;32m--> 185\u001b[0;31m                 \u001b[0;32mraise\u001b[0m \u001b[0mconverted\u001b[0m \u001b[0;32mfrom\u001b[0m \u001b[0;32mNone\u001b[0m\u001b[0;34m\u001b[0m\u001b[0;34m\u001b[0m\u001b[0m\n\u001b[0m\u001b[1;32m    186\u001b[0m             \u001b[0;32melse\u001b[0m\u001b[0;34m:\u001b[0m\u001b[0;34m\u001b[0m\u001b[0;34m\u001b[0m\u001b[0m\n\u001b[1;32m    187\u001b[0m                 \u001b[0;32mraise\u001b[0m\u001b[0;34m\u001b[0m\u001b[0;34m\u001b[0m\u001b[0m\n",
            "\u001b[0;31mAnalysisException\u001b[0m: [UNRESOLVED_USING_COLUMN_FOR_JOIN] USING column `Product ID` cannot be resolved on the left side of the join. The left-side columns: [`Countries_of_Sale`, `Product_ID`, `Sales_End_Date`, `Sales_Initiation_Date`, `Supplier_ID`, `Transaction_ID`]."
          ]
        }
      ]
    },
    {
      "cell_type": "code",
      "source": [
        "df_supliers = spark.read.csv(supliers_path, schema=suplier_mapping_schema, header=True, inferSchema=True)\n",
        "df_eu_mapping = spark.read.csv(eu_mapping_path, schema=eu_countries_mapping_schema, header=True, inferSchema=True)\n",
        "df_financials = spark.read.csv(financials_path, schema=financial_schema, header=True, inferSchema=True)"
      ],
      "metadata": {
        "id": "r4dCis04CVvl"
      },
      "execution_count": null,
      "outputs": []
    }
  ]
}